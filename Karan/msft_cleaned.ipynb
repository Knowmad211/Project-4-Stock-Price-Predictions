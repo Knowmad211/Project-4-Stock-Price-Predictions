{
 "cells": [
  {
   "cell_type": "code",
   "execution_count": 1,
   "id": "ad0353e1-ad16-41d0-be22-4911a4d4808b",
   "metadata": {
    "tags": []
   },
   "outputs": [],
   "source": [
    "# Import necessary libraries\n",
    "import pandas as pd\n",
    "import numpy as np\n",
    "from pathlib import Path\n",
    "from sklearn.model_selection import train_test_split\n",
    "from sklearn.preprocessing import StandardScaler\n",
    "from sklearn.metrics import mean_squared_error, r2_score\n",
    "from finta import TA\n",
    "import tensorflow as tf\n",
    "from tensorflow.keras.models import Sequential\n",
    "from sklearn.metrics import mean_squared_error, mean_absolute_error, r2_score\n",
    "from tensorflow.keras.models import Model\n",
    "from tensorflow.keras.layers import Input, Dense, Dropout\n",
    "from tensorflow.keras.callbacks import EarlyStopping\n",
    "from keras.regularizers import l2\n",
    "from sklearn.model_selection import KFold"
   ]
  },
  {
   "cell_type": "code",
   "execution_count": 2,
   "id": "190bc537-826a-40ec-a3bd-ce9c97197ab6",
   "metadata": {
    "tags": []
   },
   "outputs": [],
   "source": [
    "# Load data\n",
    "MSFT_path = Path(\"../files/MSFT.csv\")\n",
    "VIX_path = Path(\"../files/^VIX.csv\")\n",
    "FEDFUNDS_path = Path(\"../files/FEDFUNDS (1).csv\")\n",
    "SPY_index = Path(\"../files/SPY.csv\")"
   ]
  },
  {
   "cell_type": "code",
   "execution_count": 3,
   "id": "9a98dffd-7d41-4324-b50c-29add4b1c566",
   "metadata": {
    "tags": []
   },
   "outputs": [],
   "source": [
    "msft_df = pd.read_csv(MSFT_path, index_col=\"Date\")\n",
    "fear_index_df = pd.read_csv(VIX_path, index_col=\"Date\").rename(columns={\"Close\": \"Fear_index\"})\n",
    "spy_index_df = pd.read_csv(SPY_index, index_col=\"Date\").rename(columns={\"Close\": \"SPY_index\"})\n",
    "fedfunds_df = pd.read_csv(FEDFUNDS_path, index_col=\"DATE\")"
   ]
  },
  {
   "cell_type": "code",
   "execution_count": 4,
   "id": "37293fa7-82b9-45fd-b406-973dcd7eedec",
   "metadata": {
    "tags": []
   },
   "outputs": [],
   "source": [
    "# Convert index to datetime index\n",
    "fedfunds_df.index = pd.to_datetime(fedfunds_df.index)\n",
    "\n",
    "# Resample the fed_funds_df to have daily frequency and forward fill the values\n",
    "fedfunds_df_monthly = fedfunds_df.resample('D').ffill()\n"
   ]
  },
  {
   "cell_type": "code",
   "execution_count": 5,
   "id": "5109e4a8-d18c-4c90-926a-bc4e1ef2f0e6",
   "metadata": {
    "tags": []
   },
   "outputs": [],
   "source": [
    "# Concatenate dataframes\n",
    "concatenated_df = pd.concat([msft_df, fear_index_df['Fear_index'], spy_index_df['SPY_index']], axis=1)\n",
    "concatenated_df.index = pd.to_datetime(concatenated_df.index)\n"
   ]
  },
  {
   "cell_type": "code",
   "execution_count": 6,
   "id": "366a957c-637d-4146-bdf4-e0c94750a30d",
   "metadata": {
    "tags": []
   },
   "outputs": [],
   "source": [
    "# Merge with fedfunds_df\n",
    "concatenated_df = pd.merge(concatenated_df, fedfunds_df_monthly, left_index=True, right_index=True)\n"
   ]
  },
  {
   "cell_type": "code",
   "execution_count": 7,
   "id": "a1871866-05cb-4108-bb86-8935c9d2b819",
   "metadata": {
    "tags": []
   },
   "outputs": [],
   "source": [
    "# Drop rows with NaN values\n",
    "concatenated_df = concatenated_df.dropna()\n"
   ]
  },
  {
   "cell_type": "code",
   "execution_count": 8,
   "id": "04a05563-5cd8-45d7-938d-a5761f8ba33d",
   "metadata": {
    "tags": []
   },
   "outputs": [],
   "source": [
    "# Shift target variable\n",
    "concatenated_df['Target'] = concatenated_df['Close'].shift(-5)\n",
    "concatenated_df = concatenated_df.dropna()"
   ]
  },
  {
   "cell_type": "code",
   "execution_count": 9,
   "id": "3b911b12-b9cd-4109-9b74-1e6cb9214d92",
   "metadata": {
    "tags": []
   },
   "outputs": [
    {
     "data": {
      "text/html": [
       "<div>\n",
       "<style scoped>\n",
       "    .dataframe tbody tr th:only-of-type {\n",
       "        vertical-align: middle;\n",
       "    }\n",
       "\n",
       "    .dataframe tbody tr th {\n",
       "        vertical-align: top;\n",
       "    }\n",
       "\n",
       "    .dataframe thead th {\n",
       "        text-align: right;\n",
       "    }\n",
       "</style>\n",
       "<table border=\"1\" class=\"dataframe\">\n",
       "  <thead>\n",
       "    <tr style=\"text-align: right;\">\n",
       "      <th></th>\n",
       "      <th>Open</th>\n",
       "      <th>High</th>\n",
       "      <th>Low</th>\n",
       "      <th>Close</th>\n",
       "      <th>Adj Close</th>\n",
       "      <th>Volume</th>\n",
       "      <th>Fear_index</th>\n",
       "      <th>SPY_index</th>\n",
       "      <th>FEDFUNDS</th>\n",
       "      <th>Target</th>\n",
       "    </tr>\n",
       "  </thead>\n",
       "  <tbody>\n",
       "    <tr>\n",
       "      <th>2014-04-30</th>\n",
       "      <td>40.400002</td>\n",
       "      <td>40.500000</td>\n",
       "      <td>40.169998</td>\n",
       "      <td>40.400002</td>\n",
       "      <td>34.210922</td>\n",
       "      <td>35458700.0</td>\n",
       "      <td>13.41</td>\n",
       "      <td>188.309998</td>\n",
       "      <td>0.09</td>\n",
       "      <td>39.419998</td>\n",
       "    </tr>\n",
       "    <tr>\n",
       "      <th>2014-05-01</th>\n",
       "      <td>40.240002</td>\n",
       "      <td>40.360001</td>\n",
       "      <td>39.950001</td>\n",
       "      <td>40.000000</td>\n",
       "      <td>33.872189</td>\n",
       "      <td>28787400.0</td>\n",
       "      <td>13.25</td>\n",
       "      <td>188.330002</td>\n",
       "      <td>0.09</td>\n",
       "      <td>39.639999</td>\n",
       "    </tr>\n",
       "    <tr>\n",
       "      <th>2014-05-02</th>\n",
       "      <td>40.310001</td>\n",
       "      <td>40.340000</td>\n",
       "      <td>39.660000</td>\n",
       "      <td>39.689999</td>\n",
       "      <td>33.609688</td>\n",
       "      <td>43416600.0</td>\n",
       "      <td>12.91</td>\n",
       "      <td>188.059998</td>\n",
       "      <td>0.09</td>\n",
       "      <td>39.540001</td>\n",
       "    </tr>\n",
       "    <tr>\n",
       "      <th>2014-05-05</th>\n",
       "      <td>39.520000</td>\n",
       "      <td>39.639999</td>\n",
       "      <td>39.299999</td>\n",
       "      <td>39.430000</td>\n",
       "      <td>33.389515</td>\n",
       "      <td>22460900.0</td>\n",
       "      <td>13.29</td>\n",
       "      <td>188.419998</td>\n",
       "      <td>0.09</td>\n",
       "      <td>39.970001</td>\n",
       "    </tr>\n",
       "    <tr>\n",
       "      <th>2014-05-06</th>\n",
       "      <td>39.290001</td>\n",
       "      <td>39.349998</td>\n",
       "      <td>38.950001</td>\n",
       "      <td>39.060001</td>\n",
       "      <td>33.076210</td>\n",
       "      <td>27112400.0</td>\n",
       "      <td>13.80</td>\n",
       "      <td>186.779999</td>\n",
       "      <td>0.09</td>\n",
       "      <td>40.419998</td>\n",
       "    </tr>\n",
       "    <tr>\n",
       "      <th>2014-05-07</th>\n",
       "      <td>39.220001</td>\n",
       "      <td>39.509998</td>\n",
       "      <td>38.509998</td>\n",
       "      <td>39.419998</td>\n",
       "      <td>33.381042</td>\n",
       "      <td>41744500.0</td>\n",
       "      <td>13.40</td>\n",
       "      <td>187.880005</td>\n",
       "      <td>0.09</td>\n",
       "      <td>40.240002</td>\n",
       "    </tr>\n",
       "    <tr>\n",
       "      <th>2014-05-08</th>\n",
       "      <td>39.340000</td>\n",
       "      <td>39.900002</td>\n",
       "      <td>38.970001</td>\n",
       "      <td>39.639999</td>\n",
       "      <td>33.567348</td>\n",
       "      <td>32120400.0</td>\n",
       "      <td>13.43</td>\n",
       "      <td>187.679993</td>\n",
       "      <td>0.09</td>\n",
       "      <td>39.599998</td>\n",
       "    </tr>\n",
       "    <tr>\n",
       "      <th>2014-05-09</th>\n",
       "      <td>39.540001</td>\n",
       "      <td>39.849998</td>\n",
       "      <td>39.369999</td>\n",
       "      <td>39.540001</td>\n",
       "      <td>33.482643</td>\n",
       "      <td>29647600.0</td>\n",
       "      <td>12.92</td>\n",
       "      <td>187.960007</td>\n",
       "      <td>0.09</td>\n",
       "      <td>39.830002</td>\n",
       "    </tr>\n",
       "    <tr>\n",
       "      <th>2014-05-12</th>\n",
       "      <td>39.740002</td>\n",
       "      <td>40.020000</td>\n",
       "      <td>39.650002</td>\n",
       "      <td>39.970001</td>\n",
       "      <td>33.846786</td>\n",
       "      <td>22782600.0</td>\n",
       "      <td>12.23</td>\n",
       "      <td>189.789993</td>\n",
       "      <td>0.09</td>\n",
       "      <td>39.750000</td>\n",
       "    </tr>\n",
       "    <tr>\n",
       "      <th>2014-05-13</th>\n",
       "      <td>39.919998</td>\n",
       "      <td>40.500000</td>\n",
       "      <td>39.849998</td>\n",
       "      <td>40.419998</td>\n",
       "      <td>34.469315</td>\n",
       "      <td>27004800.0</td>\n",
       "      <td>12.13</td>\n",
       "      <td>189.960007</td>\n",
       "      <td>0.09</td>\n",
       "      <td>39.680000</td>\n",
       "    </tr>\n",
       "  </tbody>\n",
       "</table>\n",
       "</div>"
      ],
      "text/plain": [
       "                 Open       High        Low      Close  Adj Close      Volume  \\\n",
       "2014-04-30  40.400002  40.500000  40.169998  40.400002  34.210922  35458700.0   \n",
       "2014-05-01  40.240002  40.360001  39.950001  40.000000  33.872189  28787400.0   \n",
       "2014-05-02  40.310001  40.340000  39.660000  39.689999  33.609688  43416600.0   \n",
       "2014-05-05  39.520000  39.639999  39.299999  39.430000  33.389515  22460900.0   \n",
       "2014-05-06  39.290001  39.349998  38.950001  39.060001  33.076210  27112400.0   \n",
       "2014-05-07  39.220001  39.509998  38.509998  39.419998  33.381042  41744500.0   \n",
       "2014-05-08  39.340000  39.900002  38.970001  39.639999  33.567348  32120400.0   \n",
       "2014-05-09  39.540001  39.849998  39.369999  39.540001  33.482643  29647600.0   \n",
       "2014-05-12  39.740002  40.020000  39.650002  39.970001  33.846786  22782600.0   \n",
       "2014-05-13  39.919998  40.500000  39.849998  40.419998  34.469315  27004800.0   \n",
       "\n",
       "            Fear_index   SPY_index  FEDFUNDS     Target  \n",
       "2014-04-30       13.41  188.309998      0.09  39.419998  \n",
       "2014-05-01       13.25  188.330002      0.09  39.639999  \n",
       "2014-05-02       12.91  188.059998      0.09  39.540001  \n",
       "2014-05-05       13.29  188.419998      0.09  39.970001  \n",
       "2014-05-06       13.80  186.779999      0.09  40.419998  \n",
       "2014-05-07       13.40  187.880005      0.09  40.240002  \n",
       "2014-05-08       13.43  187.679993      0.09  39.599998  \n",
       "2014-05-09       12.92  187.960007      0.09  39.830002  \n",
       "2014-05-12       12.23  189.789993      0.09  39.750000  \n",
       "2014-05-13       12.13  189.960007      0.09  39.680000  "
      ]
     },
     "execution_count": 9,
     "metadata": {},
     "output_type": "execute_result"
    }
   ],
   "source": [
    "concatenated_df.head(10)"
   ]
  },
  {
   "cell_type": "code",
   "execution_count": 10,
   "id": "0001ba0a-b8f8-4572-b6de-a14c7af94c77",
   "metadata": {
    "tags": []
   },
   "outputs": [
    {
     "data": {
      "text/html": [
       "<div>\n",
       "<style scoped>\n",
       "    .dataframe tbody tr th:only-of-type {\n",
       "        vertical-align: middle;\n",
       "    }\n",
       "\n",
       "    .dataframe tbody tr th {\n",
       "        vertical-align: top;\n",
       "    }\n",
       "\n",
       "    .dataframe thead th {\n",
       "        text-align: right;\n",
       "    }\n",
       "</style>\n",
       "<table border=\"1\" class=\"dataframe\">\n",
       "  <thead>\n",
       "    <tr style=\"text-align: right;\">\n",
       "      <th></th>\n",
       "      <th>Open</th>\n",
       "      <th>High</th>\n",
       "      <th>Low</th>\n",
       "      <th>Close</th>\n",
       "      <th>Adj Close</th>\n",
       "      <th>Volume</th>\n",
       "      <th>Fear_index</th>\n",
       "      <th>SPY_index</th>\n",
       "      <th>FEDFUNDS</th>\n",
       "      <th>Target</th>\n",
       "      <th>MA</th>\n",
       "      <th>RSI</th>\n",
       "      <th>BB_UPPER</th>\n",
       "      <th>BB_MIDDLE</th>\n",
       "      <th>BB_LOWER</th>\n",
       "    </tr>\n",
       "  </thead>\n",
       "  <tbody>\n",
       "    <tr>\n",
       "      <th>2024-03-18</th>\n",
       "      <td>414.250000</td>\n",
       "      <td>420.730011</td>\n",
       "      <td>413.779999</td>\n",
       "      <td>417.320007</td>\n",
       "      <td>417.320007</td>\n",
       "      <td>20106000.0</td>\n",
       "      <td>14.33</td>\n",
       "      <td>512.859985</td>\n",
       "      <td>5.33</td>\n",
       "      <td>422.859985</td>\n",
       "      <td>410.386003</td>\n",
       "      <td>56.917294</td>\n",
       "      <td>422.869983</td>\n",
       "      <td>410.386003</td>\n",
       "      <td>397.902023</td>\n",
       "    </tr>\n",
       "    <tr>\n",
       "      <th>2024-03-19</th>\n",
       "      <td>417.829987</td>\n",
       "      <td>421.670013</td>\n",
       "      <td>415.549988</td>\n",
       "      <td>421.410004</td>\n",
       "      <td>421.410004</td>\n",
       "      <td>19837900.0</td>\n",
       "      <td>13.82</td>\n",
       "      <td>515.710022</td>\n",
       "      <td>5.33</td>\n",
       "      <td>421.649994</td>\n",
       "      <td>411.317003</td>\n",
       "      <td>59.820193</td>\n",
       "      <td>424.187046</td>\n",
       "      <td>411.317003</td>\n",
       "      <td>398.446960</td>\n",
       "    </tr>\n",
       "    <tr>\n",
       "      <th>2024-03-20</th>\n",
       "      <td>422.000000</td>\n",
       "      <td>425.959991</td>\n",
       "      <td>420.660004</td>\n",
       "      <td>425.230011</td>\n",
       "      <td>425.230011</td>\n",
       "      <td>17860100.0</td>\n",
       "      <td>13.04</td>\n",
       "      <td>520.479980</td>\n",
       "      <td>5.33</td>\n",
       "      <td>421.429993</td>\n",
       "      <td>412.469504</td>\n",
       "      <td>62.370449</td>\n",
       "      <td>426.005438</td>\n",
       "      <td>412.469504</td>\n",
       "      <td>398.933569</td>\n",
       "    </tr>\n",
       "    <tr>\n",
       "      <th>2024-03-21</th>\n",
       "      <td>429.829987</td>\n",
       "      <td>430.820007</td>\n",
       "      <td>427.160004</td>\n",
       "      <td>429.369995</td>\n",
       "      <td>429.369995</td>\n",
       "      <td>21296200.0</td>\n",
       "      <td>12.92</td>\n",
       "      <td>522.200012</td>\n",
       "      <td>5.33</td>\n",
       "      <td>420.720001</td>\n",
       "      <td>413.355504</td>\n",
       "      <td>64.965751</td>\n",
       "      <td>428.844429</td>\n",
       "      <td>413.355504</td>\n",
       "      <td>397.866578</td>\n",
       "    </tr>\n",
       "    <tr>\n",
       "      <th>2024-03-22</th>\n",
       "      <td>429.700012</td>\n",
       "      <td>429.859985</td>\n",
       "      <td>426.070007</td>\n",
       "      <td>428.739990</td>\n",
       "      <td>428.739990</td>\n",
       "      <td>17636500.0</td>\n",
       "      <td>13.06</td>\n",
       "      <td>521.210022</td>\n",
       "      <td>5.33</td>\n",
       "      <td>424.570007</td>\n",
       "      <td>414.275504</td>\n",
       "      <td>64.239658</td>\n",
       "      <td>431.135412</td>\n",
       "      <td>414.275504</td>\n",
       "      <td>397.415595</td>\n",
       "    </tr>\n",
       "  </tbody>\n",
       "</table>\n",
       "</div>"
      ],
      "text/plain": [
       "                  Open        High         Low       Close   Adj Close  \\\n",
       "2024-03-18  414.250000  420.730011  413.779999  417.320007  417.320007   \n",
       "2024-03-19  417.829987  421.670013  415.549988  421.410004  421.410004   \n",
       "2024-03-20  422.000000  425.959991  420.660004  425.230011  425.230011   \n",
       "2024-03-21  429.829987  430.820007  427.160004  429.369995  429.369995   \n",
       "2024-03-22  429.700012  429.859985  426.070007  428.739990  428.739990   \n",
       "\n",
       "                Volume  Fear_index   SPY_index  FEDFUNDS      Target  \\\n",
       "2024-03-18  20106000.0       14.33  512.859985      5.33  422.859985   \n",
       "2024-03-19  19837900.0       13.82  515.710022      5.33  421.649994   \n",
       "2024-03-20  17860100.0       13.04  520.479980      5.33  421.429993   \n",
       "2024-03-21  21296200.0       12.92  522.200012      5.33  420.720001   \n",
       "2024-03-22  17636500.0       13.06  521.210022      5.33  424.570007   \n",
       "\n",
       "                    MA        RSI    BB_UPPER   BB_MIDDLE    BB_LOWER  \n",
       "2024-03-18  410.386003  56.917294  422.869983  410.386003  397.902023  \n",
       "2024-03-19  411.317003  59.820193  424.187046  411.317003  398.446960  \n",
       "2024-03-20  412.469504  62.370449  426.005438  412.469504  398.933569  \n",
       "2024-03-21  413.355504  64.965751  428.844429  413.355504  397.866578  \n",
       "2024-03-22  414.275504  64.239658  431.135412  414.275504  397.415595  "
      ]
     },
     "execution_count": 10,
     "metadata": {},
     "output_type": "execute_result"
    }
   ],
   "source": [
    "# Calculate technical indicators using finta\n",
    "data = concatenated_df.copy()  # Use the existing DataFrame concatenated_df\n",
    "data['MA'] = TA.SMA(data, 20)  # 20-period Simple Moving Average\n",
    "data['RSI'] = TA.RSI(data, 14)  # 14-period RSI\n",
    "\n",
    "# Calculate Bollinger Bands correctly\n",
    "bb_bands = TA.BBANDS(data, 20, 2)\n",
    "\n",
    "# Assign Bollinger Bands values to DataFrame columns\n",
    "data['BB_UPPER'] = bb_bands['BB_UPPER']\n",
    "data['BB_MIDDLE'] = bb_bands['BB_MIDDLE']\n",
    "data['BB_LOWER'] = bb_bands['BB_LOWER']\n",
    "\n",
    "# Convert index to datetime\n",
    "data.index = pd.to_datetime(data.index)\n",
    "\n",
    "# Display the calculated technical indicators\n",
    "data.tail()\n"
   ]
  },
  {
   "cell_type": "code",
   "execution_count": 11,
   "id": "3483f868-d1c3-4e19-885b-63324f565a68",
   "metadata": {
    "tags": []
   },
   "outputs": [],
   "source": [
    "# Define features and target\n",
    "X = concatenated_df.drop(\"Close\", axis=1)\n",
    "y = concatenated_df[\"Close\"]"
   ]
  },
  {
   "cell_type": "code",
   "execution_count": 12,
   "id": "ee8359f9-aa08-428b-924c-59769a1fdea4",
   "metadata": {
    "tags": []
   },
   "outputs": [],
   "source": [
    "data.drop(columns=['Open', 'High', 'Low', 'Close', 'Adj Close'], inplace=True)\n"
   ]
  },
  {
   "cell_type": "code",
   "execution_count": 13,
   "id": "3002d14d-fb61-4295-9e1f-b7bc379bc7b8",
   "metadata": {
    "tags": []
   },
   "outputs": [
    {
     "data": {
      "text/html": [
       "<div>\n",
       "<style scoped>\n",
       "    .dataframe tbody tr th:only-of-type {\n",
       "        vertical-align: middle;\n",
       "    }\n",
       "\n",
       "    .dataframe tbody tr th {\n",
       "        vertical-align: top;\n",
       "    }\n",
       "\n",
       "    .dataframe thead th {\n",
       "        text-align: right;\n",
       "    }\n",
       "</style>\n",
       "<table border=\"1\" class=\"dataframe\">\n",
       "  <thead>\n",
       "    <tr style=\"text-align: right;\">\n",
       "      <th></th>\n",
       "      <th>Volume</th>\n",
       "      <th>Fear_index</th>\n",
       "      <th>SPY_index</th>\n",
       "      <th>FEDFUNDS</th>\n",
       "      <th>Target</th>\n",
       "      <th>MA</th>\n",
       "      <th>RSI</th>\n",
       "      <th>BB_UPPER</th>\n",
       "      <th>BB_MIDDLE</th>\n",
       "      <th>BB_LOWER</th>\n",
       "    </tr>\n",
       "  </thead>\n",
       "  <tbody>\n",
       "    <tr>\n",
       "      <th>2014-04-30</th>\n",
       "      <td>35458700.0</td>\n",
       "      <td>13.41</td>\n",
       "      <td>188.309998</td>\n",
       "      <td>0.09</td>\n",
       "      <td>39.419998</td>\n",
       "      <td>NaN</td>\n",
       "      <td>NaN</td>\n",
       "      <td>NaN</td>\n",
       "      <td>NaN</td>\n",
       "      <td>NaN</td>\n",
       "    </tr>\n",
       "    <tr>\n",
       "      <th>2014-05-01</th>\n",
       "      <td>28787400.0</td>\n",
       "      <td>13.25</td>\n",
       "      <td>188.330002</td>\n",
       "      <td>0.09</td>\n",
       "      <td>39.639999</td>\n",
       "      <td>NaN</td>\n",
       "      <td>0.0</td>\n",
       "      <td>NaN</td>\n",
       "      <td>NaN</td>\n",
       "      <td>NaN</td>\n",
       "    </tr>\n",
       "    <tr>\n",
       "      <th>2014-05-02</th>\n",
       "      <td>43416600.0</td>\n",
       "      <td>12.91</td>\n",
       "      <td>188.059998</td>\n",
       "      <td>0.09</td>\n",
       "      <td>39.540001</td>\n",
       "      <td>NaN</td>\n",
       "      <td>0.0</td>\n",
       "      <td>NaN</td>\n",
       "      <td>NaN</td>\n",
       "      <td>NaN</td>\n",
       "    </tr>\n",
       "    <tr>\n",
       "      <th>2014-05-05</th>\n",
       "      <td>22460900.0</td>\n",
       "      <td>13.29</td>\n",
       "      <td>188.419998</td>\n",
       "      <td>0.09</td>\n",
       "      <td>39.970001</td>\n",
       "      <td>NaN</td>\n",
       "      <td>0.0</td>\n",
       "      <td>NaN</td>\n",
       "      <td>NaN</td>\n",
       "      <td>NaN</td>\n",
       "    </tr>\n",
       "    <tr>\n",
       "      <th>2014-05-06</th>\n",
       "      <td>27112400.0</td>\n",
       "      <td>13.80</td>\n",
       "      <td>186.779999</td>\n",
       "      <td>0.09</td>\n",
       "      <td>40.419998</td>\n",
       "      <td>NaN</td>\n",
       "      <td>0.0</td>\n",
       "      <td>NaN</td>\n",
       "      <td>NaN</td>\n",
       "      <td>NaN</td>\n",
       "    </tr>\n",
       "  </tbody>\n",
       "</table>\n",
       "</div>"
      ],
      "text/plain": [
       "                Volume  Fear_index   SPY_index  FEDFUNDS     Target  MA  RSI  \\\n",
       "2014-04-30  35458700.0       13.41  188.309998      0.09  39.419998 NaN  NaN   \n",
       "2014-05-01  28787400.0       13.25  188.330002      0.09  39.639999 NaN  0.0   \n",
       "2014-05-02  43416600.0       12.91  188.059998      0.09  39.540001 NaN  0.0   \n",
       "2014-05-05  22460900.0       13.29  188.419998      0.09  39.970001 NaN  0.0   \n",
       "2014-05-06  27112400.0       13.80  186.779999      0.09  40.419998 NaN  0.0   \n",
       "\n",
       "            BB_UPPER  BB_MIDDLE  BB_LOWER  \n",
       "2014-04-30       NaN        NaN       NaN  \n",
       "2014-05-01       NaN        NaN       NaN  \n",
       "2014-05-02       NaN        NaN       NaN  \n",
       "2014-05-05       NaN        NaN       NaN  \n",
       "2014-05-06       NaN        NaN       NaN  "
      ]
     },
     "execution_count": 13,
     "metadata": {},
     "output_type": "execute_result"
    }
   ],
   "source": [
    "# Display the modified DataFrame\n",
    "data.head()"
   ]
  },
  {
   "cell_type": "code",
   "execution_count": 14,
   "id": "6a315172-cc69-48bc-9d55-fa3e081e4a72",
   "metadata": {
    "tags": []
   },
   "outputs": [],
   "source": [
    "data_clean = data.dropna()\n",
    "data_clean.index.rename('date', inplace=True)\n",
    "data_clean.to_csv('../clean_data/MSFT_prepared_data.csv', index=True)"
   ]
  },
  {
   "cell_type": "code",
   "execution_count": 15,
   "id": "46fb95ce-227e-475a-9fa2-6636d67af93f",
   "metadata": {
    "tags": []
   },
   "outputs": [
    {
     "data": {
      "text/html": [
       "<div>\n",
       "<style scoped>\n",
       "    .dataframe tbody tr th:only-of-type {\n",
       "        vertical-align: middle;\n",
       "    }\n",
       "\n",
       "    .dataframe tbody tr th {\n",
       "        vertical-align: top;\n",
       "    }\n",
       "\n",
       "    .dataframe thead th {\n",
       "        text-align: right;\n",
       "    }\n",
       "</style>\n",
       "<table border=\"1\" class=\"dataframe\">\n",
       "  <thead>\n",
       "    <tr style=\"text-align: right;\">\n",
       "      <th></th>\n",
       "      <th>Volume</th>\n",
       "      <th>Fear_index</th>\n",
       "      <th>SPY_index</th>\n",
       "      <th>FEDFUNDS</th>\n",
       "      <th>Target</th>\n",
       "      <th>MA</th>\n",
       "      <th>RSI</th>\n",
       "      <th>BB_UPPER</th>\n",
       "      <th>BB_MIDDLE</th>\n",
       "      <th>BB_LOWER</th>\n",
       "    </tr>\n",
       "    <tr>\n",
       "      <th>date</th>\n",
       "      <th></th>\n",
       "      <th></th>\n",
       "      <th></th>\n",
       "      <th></th>\n",
       "      <th></th>\n",
       "      <th></th>\n",
       "      <th></th>\n",
       "      <th></th>\n",
       "      <th></th>\n",
       "      <th></th>\n",
       "    </tr>\n",
       "  </thead>\n",
       "  <tbody>\n",
       "    <tr>\n",
       "      <th>2014-05-28</th>\n",
       "      <td>25711500.0</td>\n",
       "      <td>11.68</td>\n",
       "      <td>191.380005</td>\n",
       "      <td>0.09</td>\n",
       "      <td>40.320000</td>\n",
       "      <td>39.872</td>\n",
       "      <td>49.481417</td>\n",
       "      <td>40.609894</td>\n",
       "      <td>39.872</td>\n",
       "      <td>39.134105</td>\n",
       "    </tr>\n",
       "    <tr>\n",
       "      <th>2014-05-29</th>\n",
       "      <td>19888200.0</td>\n",
       "      <td>11.57</td>\n",
       "      <td>192.369995</td>\n",
       "      <td>0.09</td>\n",
       "      <td>41.209999</td>\n",
       "      <td>39.869</td>\n",
       "      <td>55.366983</td>\n",
       "      <td>40.598293</td>\n",
       "      <td>39.869</td>\n",
       "      <td>39.139706</td>\n",
       "    </tr>\n",
       "    <tr>\n",
       "      <th>2014-05-30</th>\n",
       "      <td>34567600.0</td>\n",
       "      <td>11.40</td>\n",
       "      <td>192.679993</td>\n",
       "      <td>0.09</td>\n",
       "      <td>41.480000</td>\n",
       "      <td>39.916</td>\n",
       "      <td>63.657327</td>\n",
       "      <td>40.788030</td>\n",
       "      <td>39.916</td>\n",
       "      <td>39.043969</td>\n",
       "    </tr>\n",
       "    <tr>\n",
       "      <th>2014-06-02</th>\n",
       "      <td>18504300.0</td>\n",
       "      <td>11.58</td>\n",
       "      <td>192.899994</td>\n",
       "      <td>0.10</td>\n",
       "      <td>41.270000</td>\n",
       "      <td>39.971</td>\n",
       "      <td>60.625587</td>\n",
       "      <td>40.918503</td>\n",
       "      <td>39.971</td>\n",
       "      <td>39.023496</td>\n",
       "    </tr>\n",
       "    <tr>\n",
       "      <th>2014-06-03</th>\n",
       "      <td>18068900.0</td>\n",
       "      <td>11.87</td>\n",
       "      <td>192.800003</td>\n",
       "      <td>0.10</td>\n",
       "      <td>41.110001</td>\n",
       "      <td>40.014</td>\n",
       "      <td>51.773943</td>\n",
       "      <td>40.935837</td>\n",
       "      <td>40.014</td>\n",
       "      <td>39.092162</td>\n",
       "    </tr>\n",
       "  </tbody>\n",
       "</table>\n",
       "</div>"
      ],
      "text/plain": [
       "                Volume  Fear_index   SPY_index  FEDFUNDS     Target      MA  \\\n",
       "date                                                                          \n",
       "2014-05-28  25711500.0       11.68  191.380005      0.09  40.320000  39.872   \n",
       "2014-05-29  19888200.0       11.57  192.369995      0.09  41.209999  39.869   \n",
       "2014-05-30  34567600.0       11.40  192.679993      0.09  41.480000  39.916   \n",
       "2014-06-02  18504300.0       11.58  192.899994      0.10  41.270000  39.971   \n",
       "2014-06-03  18068900.0       11.87  192.800003      0.10  41.110001  40.014   \n",
       "\n",
       "                  RSI   BB_UPPER  BB_MIDDLE   BB_LOWER  \n",
       "date                                                    \n",
       "2014-05-28  49.481417  40.609894     39.872  39.134105  \n",
       "2014-05-29  55.366983  40.598293     39.869  39.139706  \n",
       "2014-05-30  63.657327  40.788030     39.916  39.043969  \n",
       "2014-06-02  60.625587  40.918503     39.971  39.023496  \n",
       "2014-06-03  51.773943  40.935837     40.014  39.092162  "
      ]
     },
     "execution_count": 15,
     "metadata": {},
     "output_type": "execute_result"
    }
   ],
   "source": [
    "data_clean.head()"
   ]
  },
  {
   "cell_type": "code",
   "execution_count": 16,
   "id": "10b7c42d-6063-41ac-be83-f8538c293fe4",
   "metadata": {
    "tags": []
   },
   "outputs": [],
   "source": [
    "# Define date cutoff for data split\n",
    "date_cutoff = \"2022-04-30\"\n",
    "\n",
    "# Split data\n",
    "X_train = X[X.index <= date_cutoff]\n",
    "X_test = X[X.index > date_cutoff]\n",
    "y_train = y[y.index <= date_cutoff]\n",
    "y_test = y[y.index > date_cutoff]"
   ]
  },
  {
   "cell_type": "code",
   "execution_count": 17,
   "id": "75920f4e-7bfc-4fed-959b-dcf315c95890",
   "metadata": {
    "tags": []
   },
   "outputs": [],
   "source": [
    "# Scale data\n",
    "scaler = StandardScaler()\n",
    "X_train_scaled = scaler.fit_transform(X_train)\n",
    "X_test_scaled = scaler.transform(X_test)\n"
   ]
  },
  {
   "cell_type": "code",
   "execution_count": 18,
   "id": "7b21fc14-71f8-493b-820a-36303131b4b0",
   "metadata": {
    "tags": []
   },
   "outputs": [
    {
     "name": "stderr",
     "output_type": "stream",
     "text": [
      "/Users/kd17/anaconda3/lib/python3.11/site-packages/keras/src/layers/core/dense.py:86: UserWarning: Do not pass an `input_shape`/`input_dim` argument to a layer. When using Sequential models, prefer using an `Input(shape)` object as the first layer in the model instead.\n",
      "  super().__init__(activity_regularizer=activity_regularizer, **kwargs)\n"
     ]
    },
    {
     "name": "stdout",
     "output_type": "stream",
     "text": [
      "\u001b[1m57/57\u001b[0m \u001b[32m━━━━━━━━━━━━━━━━━━━━\u001b[0m\u001b[37m\u001b[0m \u001b[1m0s\u001b[0m 643us/step\n",
      "\u001b[1m7/7\u001b[0m \u001b[32m━━━━━━━━━━━━━━━━━━━━\u001b[0m\u001b[37m\u001b[0m \u001b[1m0s\u001b[0m 537us/step\n",
      "\u001b[1m57/57\u001b[0m \u001b[32m━━━━━━━━━━━━━━━━━━━━\u001b[0m\u001b[37m\u001b[0m \u001b[1m0s\u001b[0m 397us/step\n",
      "\u001b[1m7/7\u001b[0m \u001b[32m━━━━━━━━━━━━━━━━━━━━\u001b[0m\u001b[37m\u001b[0m \u001b[1m0s\u001b[0m 509us/step\n",
      "\u001b[1m57/57\u001b[0m \u001b[32m━━━━━━━━━━━━━━━━━━━━\u001b[0m\u001b[37m\u001b[0m \u001b[1m0s\u001b[0m 399us/step\n",
      "\u001b[1m7/7\u001b[0m \u001b[32m━━━━━━━━━━━━━━━━━━━━\u001b[0m\u001b[37m\u001b[0m \u001b[1m0s\u001b[0m 592us/step\n",
      "\u001b[1m57/57\u001b[0m \u001b[32m━━━━━━━━━━━━━━━━━━━━\u001b[0m\u001b[37m\u001b[0m \u001b[1m0s\u001b[0m 350us/step\n",
      "\u001b[1m7/7\u001b[0m \u001b[32m━━━━━━━━━━━━━━━━━━━━\u001b[0m\u001b[37m\u001b[0m \u001b[1m0s\u001b[0m 520us/step\n",
      "\u001b[1m57/57\u001b[0m \u001b[32m━━━━━━━━━━━━━━━━━━━━\u001b[0m\u001b[37m\u001b[0m \u001b[1m0s\u001b[0m 345us/step\n",
      "\u001b[1m7/7\u001b[0m \u001b[32m━━━━━━━━━━━━━━━━━━━━\u001b[0m\u001b[37m\u001b[0m \u001b[1m0s\u001b[0m 570us/step\n",
      "\u001b[1m57/57\u001b[0m \u001b[32m━━━━━━━━━━━━━━━━━━━━\u001b[0m\u001b[37m\u001b[0m \u001b[1m0s\u001b[0m 382us/step\n",
      "\u001b[1m7/7\u001b[0m \u001b[32m━━━━━━━━━━━━━━━━━━━━\u001b[0m\u001b[37m\u001b[0m \u001b[1m0s\u001b[0m 519us/step\n",
      "\u001b[1m57/57\u001b[0m \u001b[32m━━━━━━━━━━━━━━━━━━━━\u001b[0m\u001b[37m\u001b[0m \u001b[1m0s\u001b[0m 397us/step\n",
      "\u001b[1m7/7\u001b[0m \u001b[32m━━━━━━━━━━━━━━━━━━━━\u001b[0m\u001b[37m\u001b[0m \u001b[1m0s\u001b[0m 560us/step\n",
      "\u001b[1m57/57\u001b[0m \u001b[32m━━━━━━━━━━━━━━━━━━━━\u001b[0m\u001b[37m\u001b[0m \u001b[1m0s\u001b[0m 360us/step\n",
      "\u001b[1m7/7\u001b[0m \u001b[32m━━━━━━━━━━━━━━━━━━━━\u001b[0m\u001b[37m\u001b[0m \u001b[1m0s\u001b[0m 519us/step\n",
      "\u001b[1m57/57\u001b[0m \u001b[32m━━━━━━━━━━━━━━━━━━━━\u001b[0m\u001b[37m\u001b[0m \u001b[1m0s\u001b[0m 377us/step\n",
      "\u001b[1m7/7\u001b[0m \u001b[32m━━━━━━━━━━━━━━━━━━━━\u001b[0m\u001b[37m\u001b[0m \u001b[1m0s\u001b[0m 527us/step\n",
      "\u001b[1m57/57\u001b[0m \u001b[32m━━━━━━━━━━━━━━━━━━━━\u001b[0m\u001b[37m\u001b[0m \u001b[1m0s\u001b[0m 341us/step\n",
      "\u001b[1m7/7\u001b[0m \u001b[32m━━━━━━━━━━━━━━━━━━━━\u001b[0m\u001b[37m\u001b[0m \u001b[1m0s\u001b[0m 542us/step\n",
      "Average R-squared (Train): -2.1543456765871856\n",
      "Average R-squared (Test): -2.16964251078983\n"
     ]
    }
   ],
   "source": [
    "# Define the number of folds\n",
    "k = 10\n",
    "\n",
    "# Initialize lists to store R-squared scores\n",
    "train_r2_scores = []\n",
    "test_r2_scores = []\n",
    "\n",
    "# Initialize KFold\n",
    "kf = KFold(n_splits=k, shuffle=True)\n",
    "\n",
    "# Define the model architecture\n",
    "model = Sequential([\n",
    "    Dense(units=16, activation='relu', kernel_regularizer=l2(0.0005), input_shape=(X_train_scaled.shape[1],)),\n",
    "    Dropout(0.6),\n",
    "    Dense(units=8, activation='relu', kernel_regularizer=l2(0.0005)),\n",
    "    Dropout(0.6),\n",
    "    Dense(units=1)\n",
    "])\n",
    "\n",
    "# Example: Train with a smaller learning rate\n",
    "from keras.optimizers import Adam\n",
    "adam = Adam(learning_rate=0.0001)  # Adjust learning rate as needed\n",
    "model.compile(optimizer=adam, loss='mean_squared_error')\n",
    "model.fit(X_train, y_train, epochs=50, batch_size=32, verbose=0)\n",
    "\n",
    "# Compile the model\n",
    "model.compile(optimizer=adam, loss='mean_squared_error')\n",
    "\n",
    "# Perform k-fold cross-validation\n",
    "for train_index, test_index in kf.split(X_train_scaled):\n",
    "    X_train_cv, X_test_cv = X_train_scaled[train_index], X_train_scaled[test_index]\n",
    "    y_train_cv, y_test_cv = y_train[train_index], y_train[test_index]\n",
    "    \n",
    "    \n",
    "    # Evaluate the model on training data\n",
    "    train_predictions = model.predict(X_train_cv)\n",
    "    train_r2 = r2_score(y_train_cv, train_predictions)\n",
    "    train_r2_scores.append(train_r2)\n",
    "    \n",
    "    # Evaluate the model on test data\n",
    "    test_predictions = model.predict(X_test_cv)\n",
    "    test_r2 = r2_score(y_test_cv, test_predictions)\n",
    "    test_r2_scores.append(test_r2)\n",
    "\n",
    "# Calculate average R-squared scores\n",
    "avg_train_r2 = np.mean(train_r2_scores)\n",
    "avg_test_r2 = np.mean(test_r2_scores)\n",
    "\n",
    "print(\"Average R-squared (Train):\", avg_train_r2)\n",
    "print(\"Average R-squared (Test):\", avg_test_r2)"
   ]
  },
  {
   "cell_type": "code",
   "execution_count": 19,
   "id": "4d3d0a64-a3ee-4c96-bc61-35f229d4fb9a",
   "metadata": {
    "tags": []
   },
   "outputs": [
    {
     "name": "stderr",
     "output_type": "stream",
     "text": [
      "/Users/kd17/anaconda3/lib/python3.11/site-packages/keras/src/layers/core/dense.py:86: UserWarning: Do not pass an `input_shape`/`input_dim` argument to a layer. When using Sequential models, prefer using an `Input(shape)` object as the first layer in the model instead.\n",
      "  super().__init__(activity_regularizer=activity_regularizer, **kwargs)\n"
     ]
    },
    {
     "name": "stdout",
     "output_type": "stream",
     "text": [
      "\u001b[1m57/57\u001b[0m \u001b[32m━━━━━━━━━━━━━━━━━━━━\u001b[0m\u001b[37m\u001b[0m \u001b[1m0s\u001b[0m 653us/step\n",
      "\u001b[1m7/7\u001b[0m \u001b[32m━━━━━━━━━━━━━━━━━━━━\u001b[0m\u001b[37m\u001b[0m \u001b[1m0s\u001b[0m 619us/step\n"
     ]
    },
    {
     "name": "stderr",
     "output_type": "stream",
     "text": [
      "/Users/kd17/anaconda3/lib/python3.11/site-packages/keras/src/layers/core/dense.py:86: UserWarning: Do not pass an `input_shape`/`input_dim` argument to a layer. When using Sequential models, prefer using an `Input(shape)` object as the first layer in the model instead.\n",
      "  super().__init__(activity_regularizer=activity_regularizer, **kwargs)\n"
     ]
    },
    {
     "name": "stdout",
     "output_type": "stream",
     "text": [
      "\u001b[1m57/57\u001b[0m \u001b[32m━━━━━━━━━━━━━━━━━━━━\u001b[0m\u001b[37m\u001b[0m \u001b[1m0s\u001b[0m 586us/step\n",
      "\u001b[1m7/7\u001b[0m \u001b[32m━━━━━━━━━━━━━━━━━━━━\u001b[0m\u001b[37m\u001b[0m \u001b[1m0s\u001b[0m 558us/step\n"
     ]
    },
    {
     "name": "stderr",
     "output_type": "stream",
     "text": [
      "/Users/kd17/anaconda3/lib/python3.11/site-packages/keras/src/layers/core/dense.py:86: UserWarning: Do not pass an `input_shape`/`input_dim` argument to a layer. When using Sequential models, prefer using an `Input(shape)` object as the first layer in the model instead.\n",
      "  super().__init__(activity_regularizer=activity_regularizer, **kwargs)\n"
     ]
    },
    {
     "name": "stdout",
     "output_type": "stream",
     "text": [
      "\u001b[1m57/57\u001b[0m \u001b[32m━━━━━━━━━━━━━━━━━━━━\u001b[0m\u001b[37m\u001b[0m \u001b[1m0s\u001b[0m 623us/step\n",
      "\u001b[1m7/7\u001b[0m \u001b[32m━━━━━━━━━━━━━━━━━━━━\u001b[0m\u001b[37m\u001b[0m \u001b[1m0s\u001b[0m 512us/step\n"
     ]
    },
    {
     "name": "stderr",
     "output_type": "stream",
     "text": [
      "/Users/kd17/anaconda3/lib/python3.11/site-packages/keras/src/layers/core/dense.py:86: UserWarning: Do not pass an `input_shape`/`input_dim` argument to a layer. When using Sequential models, prefer using an `Input(shape)` object as the first layer in the model instead.\n",
      "  super().__init__(activity_regularizer=activity_regularizer, **kwargs)\n"
     ]
    },
    {
     "name": "stdout",
     "output_type": "stream",
     "text": [
      "\u001b[1m57/57\u001b[0m \u001b[32m━━━━━━━━━━━━━━━━━━━━\u001b[0m\u001b[37m\u001b[0m \u001b[1m0s\u001b[0m 577us/step\n",
      "\u001b[1m7/7\u001b[0m \u001b[32m━━━━━━━━━━━━━━━━━━━━\u001b[0m\u001b[37m\u001b[0m \u001b[1m0s\u001b[0m 510us/step\n"
     ]
    },
    {
     "name": "stderr",
     "output_type": "stream",
     "text": [
      "/Users/kd17/anaconda3/lib/python3.11/site-packages/keras/src/layers/core/dense.py:86: UserWarning: Do not pass an `input_shape`/`input_dim` argument to a layer. When using Sequential models, prefer using an `Input(shape)` object as the first layer in the model instead.\n",
      "  super().__init__(activity_regularizer=activity_regularizer, **kwargs)\n"
     ]
    },
    {
     "name": "stdout",
     "output_type": "stream",
     "text": [
      "\u001b[1m57/57\u001b[0m \u001b[32m━━━━━━━━━━━━━━━━━━━━\u001b[0m\u001b[37m\u001b[0m \u001b[1m0s\u001b[0m 594us/step\n",
      "\u001b[1m7/7\u001b[0m \u001b[32m━━━━━━━━━━━━━━━━━━━━\u001b[0m\u001b[37m\u001b[0m \u001b[1m0s\u001b[0m 492us/step\n"
     ]
    },
    {
     "name": "stderr",
     "output_type": "stream",
     "text": [
      "/Users/kd17/anaconda3/lib/python3.11/site-packages/keras/src/layers/core/dense.py:86: UserWarning: Do not pass an `input_shape`/`input_dim` argument to a layer. When using Sequential models, prefer using an `Input(shape)` object as the first layer in the model instead.\n",
      "  super().__init__(activity_regularizer=activity_regularizer, **kwargs)\n"
     ]
    },
    {
     "name": "stdout",
     "output_type": "stream",
     "text": [
      "\u001b[1m57/57\u001b[0m \u001b[32m━━━━━━━━━━━━━━━━━━━━\u001b[0m\u001b[37m\u001b[0m \u001b[1m0s\u001b[0m 577us/step\n",
      "\u001b[1m7/7\u001b[0m \u001b[32m━━━━━━━━━━━━━━━━━━━━\u001b[0m\u001b[37m\u001b[0m \u001b[1m0s\u001b[0m 576us/step\n"
     ]
    },
    {
     "name": "stderr",
     "output_type": "stream",
     "text": [
      "/Users/kd17/anaconda3/lib/python3.11/site-packages/keras/src/layers/core/dense.py:86: UserWarning: Do not pass an `input_shape`/`input_dim` argument to a layer. When using Sequential models, prefer using an `Input(shape)` object as the first layer in the model instead.\n",
      "  super().__init__(activity_regularizer=activity_regularizer, **kwargs)\n"
     ]
    },
    {
     "name": "stdout",
     "output_type": "stream",
     "text": [
      "\u001b[1m57/57\u001b[0m \u001b[32m━━━━━━━━━━━━━━━━━━━━\u001b[0m\u001b[37m\u001b[0m \u001b[1m0s\u001b[0m 595us/step\n",
      "\u001b[1m7/7\u001b[0m \u001b[32m━━━━━━━━━━━━━━━━━━━━\u001b[0m\u001b[37m\u001b[0m \u001b[1m0s\u001b[0m 493us/step\n"
     ]
    },
    {
     "name": "stderr",
     "output_type": "stream",
     "text": [
      "/Users/kd17/anaconda3/lib/python3.11/site-packages/keras/src/layers/core/dense.py:86: UserWarning: Do not pass an `input_shape`/`input_dim` argument to a layer. When using Sequential models, prefer using an `Input(shape)` object as the first layer in the model instead.\n",
      "  super().__init__(activity_regularizer=activity_regularizer, **kwargs)\n"
     ]
    },
    {
     "name": "stdout",
     "output_type": "stream",
     "text": [
      "\u001b[1m57/57\u001b[0m \u001b[32m━━━━━━━━━━━━━━━━━━━━\u001b[0m\u001b[37m\u001b[0m \u001b[1m0s\u001b[0m 573us/step\n",
      "\u001b[1m7/7\u001b[0m \u001b[32m━━━━━━━━━━━━━━━━━━━━\u001b[0m\u001b[37m\u001b[0m \u001b[1m0s\u001b[0m 470us/step\n"
     ]
    },
    {
     "name": "stderr",
     "output_type": "stream",
     "text": [
      "/Users/kd17/anaconda3/lib/python3.11/site-packages/keras/src/layers/core/dense.py:86: UserWarning: Do not pass an `input_shape`/`input_dim` argument to a layer. When using Sequential models, prefer using an `Input(shape)` object as the first layer in the model instead.\n",
      "  super().__init__(activity_regularizer=activity_regularizer, **kwargs)\n"
     ]
    },
    {
     "name": "stdout",
     "output_type": "stream",
     "text": [
      "\u001b[1m57/57\u001b[0m \u001b[32m━━━━━━━━━━━━━━━━━━━━\u001b[0m\u001b[37m\u001b[0m \u001b[1m0s\u001b[0m 589us/step\n",
      "\u001b[1m7/7\u001b[0m \u001b[32m━━━━━━━━━━━━━━━━━━━━\u001b[0m\u001b[37m\u001b[0m \u001b[1m0s\u001b[0m 567us/step\n"
     ]
    },
    {
     "name": "stderr",
     "output_type": "stream",
     "text": [
      "/Users/kd17/anaconda3/lib/python3.11/site-packages/keras/src/layers/core/dense.py:86: UserWarning: Do not pass an `input_shape`/`input_dim` argument to a layer. When using Sequential models, prefer using an `Input(shape)` object as the first layer in the model instead.\n",
      "  super().__init__(activity_regularizer=activity_regularizer, **kwargs)\n"
     ]
    },
    {
     "name": "stdout",
     "output_type": "stream",
     "text": [
      "\u001b[1m57/57\u001b[0m \u001b[32m━━━━━━━━━━━━━━━━━━━━\u001b[0m\u001b[37m\u001b[0m \u001b[1m0s\u001b[0m 571us/step\n",
      "\u001b[1m7/7\u001b[0m \u001b[32m━━━━━━━━━━━━━━━━━━━━\u001b[0m\u001b[37m\u001b[0m \u001b[1m0s\u001b[0m 552us/step\n",
      "Model 1 - Train R-squared: 0.9346607972885933, Test R-squared: 0.9481969717500947, Train MAE: 17.70455156828764, Train MSE: 470.3415225971947, Test MAE: 16.563639058972043, Test MSE: 416.42593900569364\n",
      "Model 2 - Train R-squared: 0.9519980206235856, Test R-squared: 0.9456720312990798, Train MAE: 15.6156126405071, Train MSE: 352.307951621, Test MAE: 15.908422338076754, Test MSE: 365.6139605130205\n",
      "Model 3 - Train R-squared: 0.9536554219045528, Test R-squared: 0.9545719067757947, Train MAE: 15.140655129150796, Train MSE: 336.6986249819606, Test MAE: 15.072651236439317, Test MSE: 338.1087174641223\n",
      "Model 4 - Train R-squared: 0.9460651458399407, Test R-squared: 0.9402500115973123, Train MAE: 16.2504608817245, Train MSE: 392.53681977213137, Test MAE: 16.99372593422344, Test MSE: 437.02969864181716\n",
      "Model 5 - Train R-squared: 0.9586250073350715, Test R-squared: 0.9513825968779297, Train MAE: 14.45159259207197, Train MSE: 304.53390668042306, Test MAE: 14.903766278559623, Test MSE: 320.0235038527437\n",
      "Model 6 - Train R-squared: 0.9001062885691107, Test R-squared: 0.8984949214804658, Train MAE: 22.25563668818397, Train MSE: 721.1730573910975, Test MAE: 23.726922204059264, Test MSE: 788.425672637687\n",
      "Model 7 - Train R-squared: 0.877808163438603, Test R-squared: 0.8643698079735229, Train MAE: 24.7520436846299, Train MSE: 890.8120371478434, Test MAE: 26.3230154400489, Test MSE: 976.147640605917\n",
      "Model 8 - Train R-squared: 0.9262712125515484, Test R-squared: 0.9291475911335049, Train MAE: 19.234973960492262, Train MSE: 535.6262511947148, Test MAE: 19.113888466584314, Test MSE: 527.1078170406211\n",
      "Model 9 - Train R-squared: 0.9326896417532439, Test R-squared: 0.9330738676854374, Train MAE: 17.90752078631239, Train MSE: 491.3705469252869, Test MAE: 17.11367213072455, Test MSE: 476.49953418486245\n",
      "Model 10 - Train R-squared: 0.9425839804178368, Test R-squared: 0.9494133717799932, Train MAE: 16.85882398685972, Train MSE: 419.81594472618366, Test MAE: 15.581323672473815, Test MSE: 354.66716437837823\n"
     ]
    }
   ],
   "source": [
    "from keras.models import Sequential\n",
    "from keras.layers import Dense, Dropout\n",
    "from keras.optimizers import Adam\n",
    "from sklearn.metrics import mean_absolute_error, mean_squared_error, r2_score\n",
    "\n",
    "# Initialize lists to store metrics for selected models\n",
    "selected_train_r2 = []\n",
    "selected_test_r2 = []\n",
    "selected_train_mae = []\n",
    "selected_train_mse = []\n",
    "selected_test_mae = []\n",
    "selected_test_mse = []\n",
    "\n",
    "# Perform k-fold cross-validation\n",
    "for train_index, test_index in kf.split(X_train_scaled):\n",
    "    X_train_cv, X_test_cv = X_train_scaled[train_index], X_train_scaled[test_index]\n",
    "    y_train_cv, y_test_cv = y_train[train_index], y_train[test_index]\n",
    "    \n",
    "    # Define a new model for each fold\n",
    "    model_fold = Sequential([\n",
    "        Dense(32, activation='relu', input_shape=(X_train_cv.shape[1],)),\n",
    "        Dropout(0.5),  # Dropout layer with a dropout rate of 0.5\n",
    "        Dense(16, activation='relu'),\n",
    "        Dropout(0.5),  # Dropout layer with a dropout rate of 0.5\n",
    "        Dense(1)  # Output layer\n",
    "    ])\n",
    "    \n",
    "    # Compile the model with Adam optimizer and mean squared error loss\n",
    "    model_fold.compile(optimizer=Adam(learning_rate=0.001), loss='mean_squared_error')\n",
    "    \n",
    "    # Train the model\n",
    "    model_fold.fit(X_train_cv, y_train_cv, epochs=50, batch_size=32, verbose=0)\n",
    "    \n",
    "    # Evaluate the model on training data\n",
    "    train_predictions = model_fold.predict(X_train_cv)\n",
    "    train_r2 = r2_score(y_train_cv, train_predictions)\n",
    "    train_mae = mean_absolute_error(y_train_cv, train_predictions)\n",
    "    train_mse = mean_squared_error(y_train_cv, train_predictions)\n",
    "    \n",
    "    # Evaluate the model on test data\n",
    "    test_predictions = model_fold.predict(X_test_cv)\n",
    "    test_r2 = r2_score(y_test_cv, test_predictions)\n",
    "    test_mae = mean_absolute_error(y_test_cv, test_predictions)\n",
    "    test_mse = mean_squared_error(y_test_cv, test_predictions)\n",
    "    \n",
    "    # Append metrics to the lists\n",
    "    selected_train_r2.append(train_r2)\n",
    "    selected_test_r2.append(test_r2)\n",
    "    selected_train_mae.append(train_mae)\n",
    "    selected_train_mse.append(train_mse)\n",
    "    selected_test_mae.append(test_mae)\n",
    "    selected_test_mse.append(test_mse)\n",
    "\n",
    "# Print metrics for selected models\n",
    "for idx, (train_r2, test_r2, train_mae, train_mse, test_mae, test_mse) in enumerate(zip(selected_train_r2, selected_test_r2, selected_train_mae, selected_train_mse, selected_test_mae, selected_test_mse), start=1):\n",
    "    print(f\"Model {idx} - Train R-squared: {train_r2}, Test R-squared: {test_r2}, Train MAE: {train_mae}, Train MSE: {train_mse}, Test MAE: {test_mae}, Test MSE: {test_mse}\")\n"
   ]
  },
  {
   "cell_type": "code",
   "execution_count": 20,
   "id": "59c00865-d18f-4d75-b3f3-65af3d17f65c",
   "metadata": {
    "tags": []
   },
   "outputs": [
    {
     "name": "stdout",
     "output_type": "stream",
     "text": [
      "Best Model - Train R-squared: 0.9326896417532439, Test R-squared: 0.9330738676854374, Train MAE: 17.90752078631239, Train MSE: 491.3705469252869, Test MAE: 17.11367213072455, Test MSE: 476.49953418486245\n"
     ]
    }
   ],
   "source": [
    "# Filter models where both Train R-squared and Test R-squared are less than 0.96\n",
    "filtered_indices = [i for i, (train_r2, test_r2) in enumerate(zip(selected_train_r2, selected_test_r2)) if train_r2 < 0.96 and test_r2 < 0.96]\n",
    "\n",
    "# Calculate the absolute difference between train R-squared and test R-squared values for filtered models\n",
    "abs_diff_r2_filtered = np.abs(np.array(selected_train_r2)[filtered_indices] - np.array(selected_test_r2)[filtered_indices])\n",
    "\n",
    "# Find the index of the model with the smallest absolute difference among filtered models\n",
    "best_model_index = filtered_indices[np.argmin(abs_diff_r2_filtered)]\n",
    "\n",
    "# Retrieve the metrics for the best model\n",
    "best_train_r2 = selected_train_r2[best_model_index]\n",
    "best_test_r2 = selected_test_r2[best_model_index]\n",
    "best_train_mae = selected_train_mae[best_model_index]\n",
    "best_train_mse = selected_train_mse[best_model_index]\n",
    "best_test_mae = selected_test_mae[best_model_index]\n",
    "best_test_mse = selected_test_mse[best_model_index]\n",
    "\n",
    "# Print metrics for the best model\n",
    "print(f\"Best Model - Train R-squared: {best_train_r2}, Test R-squared: {best_test_r2}, Train MAE: {best_train_mae}, Train MSE: {best_train_mse}, Test MAE: {best_test_mae}, Test MSE: {best_test_mse}\")\n"
   ]
  },
  {
   "cell_type": "code",
   "execution_count": 21,
   "id": "4e32fd3e-bb80-4318-b595-dc6c8a7aa022",
   "metadata": {
    "tags": []
   },
   "outputs": [
    {
     "name": "stderr",
     "output_type": "stream",
     "text": [
      "/Users/kd17/anaconda3/lib/python3.11/site-packages/keras/src/layers/core/dense.py:86: UserWarning: Do not pass an `input_shape`/`input_dim` argument to a layer. When using Sequential models, prefer using an `Input(shape)` object as the first layer in the model instead.\n",
      "  super().__init__(activity_regularizer=activity_regularizer, **kwargs)\n"
     ]
    },
    {
     "name": "stdout",
     "output_type": "stream",
     "text": [
      "\u001b[1m78/78\u001b[0m \u001b[32m━━━━━━━━━━━━━━━━━━━━\u001b[0m\u001b[37m\u001b[0m \u001b[1m0s\u001b[0m 549us/step\n"
     ]
    },
    {
     "data": {
      "text/html": [
       "<div>\n",
       "<style scoped>\n",
       "    .dataframe tbody tr th:only-of-type {\n",
       "        vertical-align: middle;\n",
       "    }\n",
       "\n",
       "    .dataframe tbody tr th {\n",
       "        vertical-align: top;\n",
       "    }\n",
       "\n",
       "    .dataframe thead th {\n",
       "        text-align: right;\n",
       "    }\n",
       "</style>\n",
       "<table border=\"1\" class=\"dataframe\">\n",
       "  <thead>\n",
       "    <tr style=\"text-align: right;\">\n",
       "      <th></th>\n",
       "      <th>Actual</th>\n",
       "      <th>Predicted</th>\n",
       "    </tr>\n",
       "    <tr>\n",
       "      <th>date</th>\n",
       "      <th></th>\n",
       "      <th></th>\n",
       "    </tr>\n",
       "  </thead>\n",
       "  <tbody>\n",
       "    <tr>\n",
       "      <th>2014-05-28</th>\n",
       "      <td>40.009998</td>\n",
       "      <td>37.866375</td>\n",
       "    </tr>\n",
       "    <tr>\n",
       "      <th>2014-05-29</th>\n",
       "      <td>40.340000</td>\n",
       "      <td>39.350262</td>\n",
       "    </tr>\n",
       "    <tr>\n",
       "      <th>2014-05-30</th>\n",
       "      <td>40.939999</td>\n",
       "      <td>35.868446</td>\n",
       "    </tr>\n",
       "    <tr>\n",
       "      <th>2014-06-02</th>\n",
       "      <td>40.790001</td>\n",
       "      <td>39.828880</td>\n",
       "    </tr>\n",
       "    <tr>\n",
       "      <th>2014-06-03</th>\n",
       "      <td>40.290001</td>\n",
       "      <td>39.905861</td>\n",
       "    </tr>\n",
       "    <tr>\n",
       "      <th>...</th>\n",
       "      <td>...</td>\n",
       "      <td>...</td>\n",
       "    </tr>\n",
       "    <tr>\n",
       "      <th>2024-03-18</th>\n",
       "      <td>417.320007</td>\n",
       "      <td>324.626434</td>\n",
       "    </tr>\n",
       "    <tr>\n",
       "      <th>2024-03-19</th>\n",
       "      <td>421.410004</td>\n",
       "      <td>325.602600</td>\n",
       "    </tr>\n",
       "    <tr>\n",
       "      <th>2024-03-20</th>\n",
       "      <td>425.230011</td>\n",
       "      <td>328.380066</td>\n",
       "    </tr>\n",
       "    <tr>\n",
       "      <th>2024-03-21</th>\n",
       "      <td>429.369995</td>\n",
       "      <td>329.704285</td>\n",
       "    </tr>\n",
       "    <tr>\n",
       "      <th>2024-03-22</th>\n",
       "      <td>428.739990</td>\n",
       "      <td>331.442688</td>\n",
       "    </tr>\n",
       "  </tbody>\n",
       "</table>\n",
       "<p>2473 rows × 2 columns</p>\n",
       "</div>"
      ],
      "text/plain": [
       "                Actual   Predicted\n",
       "date                              \n",
       "2014-05-28   40.009998   37.866375\n",
       "2014-05-29   40.340000   39.350262\n",
       "2014-05-30   40.939999   35.868446\n",
       "2014-06-02   40.790001   39.828880\n",
       "2014-06-03   40.290001   39.905861\n",
       "...                ...         ...\n",
       "2024-03-18  417.320007  324.626434\n",
       "2024-03-19  421.410004  325.602600\n",
       "2024-03-20  425.230011  328.380066\n",
       "2024-03-21  429.369995  329.704285\n",
       "2024-03-22  428.739990  331.442688\n",
       "\n",
       "[2473 rows x 2 columns]"
      ]
     },
     "execution_count": 21,
     "metadata": {},
     "output_type": "execute_result"
    }
   ],
   "source": [
    "# Scale data\n",
    "scaler = StandardScaler()\n",
    "X_scaled = scaler.fit_transform(X)\n",
    "\n",
    "# Define the model architecture\n",
    "model = Sequential([\n",
    "    Dense(units=16, activation='relu', kernel_regularizer=l2(0.0005), input_shape=(X_scaled.shape[1],)),\n",
    "    Dropout(0.6),\n",
    "    Dense(units=8, activation='relu', kernel_regularizer=l2(0.0005)),\n",
    "    Dropout(0.6),\n",
    "    Dense(units=1)\n",
    "])\n",
    "\n",
    "# Compile the model\n",
    "model.compile(optimizer='adam', loss='mean_squared_error')\n",
    "\n",
    "# Train the model on the entire dataset\n",
    "model.fit(X_scaled, y, epochs=50, batch_size=32, verbose=0)\n",
    "\n",
    "# Predict sequentially on each data point\n",
    "all_predictions = model.predict(X_scaled)\n",
    "\n",
    "# Ensure the number of predictions matches the original dataset\n",
    "assert len(all_predictions) == len(X_scaled)\n",
    "\n",
    "# Create a DataFrame to store the actual and predicted values\n",
    "predictions_df = pd.DataFrame({'Actual': y, 'Predicted': all_predictions.flatten()}, index=X.index)\n",
    "\n",
    "# Ensure index uniqueness in both the original dataset and predictions DataFrame\n",
    "data_clean_unique_index = data_clean.index.drop_duplicates()\n",
    "predictions_df = predictions_df.loc[data_clean_unique_index]\n",
    "\n",
    "# Display the DataFrame\n",
    "predictions_df\n"
   ]
  },
  {
   "cell_type": "code",
   "execution_count": 22,
   "id": "712dad49-2282-4970-9359-9bcbc88b5872",
   "metadata": {},
   "outputs": [],
   "source": [
    "predictions_df.to_csv('../predicted_data/MSFT_predicted_data.csv', index=True)"
   ]
  },
  {
   "cell_type": "code",
   "execution_count": 23,
   "id": "a9cd11dc-c478-4f3d-88b7-5eeba60825c9",
   "metadata": {
    "tags": []
   },
   "outputs": [
    {
     "name": "stdout",
     "output_type": "stream",
     "text": [
      "No NaN values found in the predictions DataFrame.\n",
      "                Actual   Predicted\n",
      "date                              \n",
      "2014-05-28   40.009998   37.866375\n",
      "2014-05-29   40.340000   39.350262\n",
      "2014-05-30   40.939999   35.868446\n",
      "2014-06-02   40.790001   39.828880\n",
      "2014-06-03   40.290001   39.905861\n",
      "...                ...         ...\n",
      "2024-03-18  417.320007  324.626434\n",
      "2024-03-19  421.410004  325.602600\n",
      "2024-03-20  425.230011  328.380066\n",
      "2024-03-21  429.369995  329.704285\n",
      "2024-03-22  428.739990  331.442688\n",
      "\n",
      "[2473 rows x 2 columns]\n"
     ]
    }
   ],
   "source": [
    "# Check for NaN values in the predictions DataFrame\n",
    "nan_values = predictions_df.isnull().sum().sum()\n",
    "\n",
    "if nan_values == 0:\n",
    "    print(\"No NaN values found in the predictions DataFrame.\")\n",
    "    print(predictions_df)\n",
    "else:\n",
    "    print(f\"Found {nan_values} NaN values in the predictions DataFrame. Please check your data or model.\")\n"
   ]
  },
  {
   "cell_type": "code",
   "execution_count": 24,
   "id": "9193a4a2-9c88-4d92-9d0f-cba5c6479453",
   "metadata": {
    "tags": []
   },
   "outputs": [
    {
     "data": {
      "text/html": [
       "<div>\n",
       "<style scoped>\n",
       "    .dataframe tbody tr th:only-of-type {\n",
       "        vertical-align: middle;\n",
       "    }\n",
       "\n",
       "    .dataframe tbody tr th {\n",
       "        vertical-align: top;\n",
       "    }\n",
       "\n",
       "    .dataframe thead th {\n",
       "        text-align: right;\n",
       "    }\n",
       "</style>\n",
       "<table border=\"1\" class=\"dataframe\">\n",
       "  <thead>\n",
       "    <tr style=\"text-align: right;\">\n",
       "      <th></th>\n",
       "      <th>Actual</th>\n",
       "      <th>Predicted</th>\n",
       "      <th>Percentage Difference (%)</th>\n",
       "    </tr>\n",
       "    <tr>\n",
       "      <th>date</th>\n",
       "      <th></th>\n",
       "      <th></th>\n",
       "      <th></th>\n",
       "    </tr>\n",
       "  </thead>\n",
       "  <tbody>\n",
       "    <tr>\n",
       "      <th>2014-05-28</th>\n",
       "      <td>40.009998</td>\n",
       "      <td>37.866375</td>\n",
       "      <td>-5.357718</td>\n",
       "    </tr>\n",
       "    <tr>\n",
       "      <th>2014-05-29</th>\n",
       "      <td>40.340000</td>\n",
       "      <td>39.350262</td>\n",
       "      <td>-2.453491</td>\n",
       "    </tr>\n",
       "    <tr>\n",
       "      <th>2014-05-30</th>\n",
       "      <td>40.939999</td>\n",
       "      <td>35.868446</td>\n",
       "      <td>-12.387769</td>\n",
       "    </tr>\n",
       "    <tr>\n",
       "      <th>2014-06-02</th>\n",
       "      <td>40.790001</td>\n",
       "      <td>39.828880</td>\n",
       "      <td>-2.356265</td>\n",
       "    </tr>\n",
       "    <tr>\n",
       "      <th>2014-06-03</th>\n",
       "      <td>40.290001</td>\n",
       "      <td>39.905861</td>\n",
       "      <td>-0.953438</td>\n",
       "    </tr>\n",
       "    <tr>\n",
       "      <th>...</th>\n",
       "      <td>...</td>\n",
       "      <td>...</td>\n",
       "      <td>...</td>\n",
       "    </tr>\n",
       "    <tr>\n",
       "      <th>2024-03-18</th>\n",
       "      <td>417.320007</td>\n",
       "      <td>324.626434</td>\n",
       "      <td>-22.211629</td>\n",
       "    </tr>\n",
       "    <tr>\n",
       "      <th>2024-03-19</th>\n",
       "      <td>421.410004</td>\n",
       "      <td>325.602600</td>\n",
       "      <td>-22.734962</td>\n",
       "    </tr>\n",
       "    <tr>\n",
       "      <th>2024-03-20</th>\n",
       "      <td>425.230011</td>\n",
       "      <td>328.380066</td>\n",
       "      <td>-22.775896</td>\n",
       "    </tr>\n",
       "    <tr>\n",
       "      <th>2024-03-21</th>\n",
       "      <td>429.369995</td>\n",
       "      <td>329.704285</td>\n",
       "      <td>-23.212081</td>\n",
       "    </tr>\n",
       "    <tr>\n",
       "      <th>2024-03-22</th>\n",
       "      <td>428.739990</td>\n",
       "      <td>331.442688</td>\n",
       "      <td>-22.693778</td>\n",
       "    </tr>\n",
       "  </tbody>\n",
       "</table>\n",
       "<p>2473 rows × 3 columns</p>\n",
       "</div>"
      ],
      "text/plain": [
       "                Actual   Predicted  Percentage Difference (%)\n",
       "date                                                         \n",
       "2014-05-28   40.009998   37.866375                  -5.357718\n",
       "2014-05-29   40.340000   39.350262                  -2.453491\n",
       "2014-05-30   40.939999   35.868446                 -12.387769\n",
       "2014-06-02   40.790001   39.828880                  -2.356265\n",
       "2014-06-03   40.290001   39.905861                  -0.953438\n",
       "...                ...         ...                        ...\n",
       "2024-03-18  417.320007  324.626434                 -22.211629\n",
       "2024-03-19  421.410004  325.602600                 -22.734962\n",
       "2024-03-20  425.230011  328.380066                 -22.775896\n",
       "2024-03-21  429.369995  329.704285                 -23.212081\n",
       "2024-03-22  428.739990  331.442688                 -22.693778\n",
       "\n",
       "[2473 rows x 3 columns]"
      ]
     },
     "execution_count": 24,
     "metadata": {},
     "output_type": "execute_result"
    }
   ],
   "source": [
    "# Calculate the percentage difference between actual and predicted values\n",
    "predictions_df['Percentage Difference (%)'] = ((predictions_df['Predicted'] - predictions_df['Actual']) / predictions_df['Actual']) * 100\n",
    "\n",
    "# Display the DataFrame with percentage difference\n",
    "predictions_df\n"
   ]
  },
  {
   "cell_type": "code",
   "execution_count": 25,
   "id": "1720e6fd-d59d-49c0-96af-97f1052efc6f",
   "metadata": {
    "tags": []
   },
   "outputs": [
    {
     "name": "stdout",
     "output_type": "stream",
     "text": [
      "Average Percentage Difference (%): 26.85409146778956\n"
     ]
    }
   ],
   "source": [
    "# Calculate the absolute percentage difference for each data point\n",
    "predictions_df['Abs_Percentage_Diff'] = abs((predictions_df['Actual'] - predictions_df['Predicted']) / predictions_df['Actual']) * 100\n",
    "\n",
    "# Calculate the average percentage difference\n",
    "avg_percentage_diff = predictions_df['Abs_Percentage_Diff'].mean()\n",
    "\n",
    "print(\"Average Percentage Difference (%):\", avg_percentage_diff)\n"
   ]
  },
  {
   "cell_type": "code",
   "execution_count": null,
   "id": "9c494ab7-e3ee-4b0d-85e4-6a05586a400b",
   "metadata": {},
   "outputs": [],
   "source": []
  }
 ],
 "metadata": {
  "kernelspec": {
   "display_name": "Python 3 (ipykernel)",
   "language": "python",
   "name": "python3"
  },
  "language_info": {
   "codemirror_mode": {
    "name": "ipython",
    "version": 3
   },
   "file_extension": ".py",
   "mimetype": "text/x-python",
   "name": "python",
   "nbconvert_exporter": "python",
   "pygments_lexer": "ipython3",
   "version": "3.11.5"
  }
 },
 "nbformat": 4,
 "nbformat_minor": 5
}
