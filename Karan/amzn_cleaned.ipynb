{
 "cells": [
  {
   "cell_type": "code",
   "execution_count": 1,
   "id": "6d530ac0-22e6-4e86-b202-143e5aa5f6ab",
   "metadata": {
    "tags": []
   },
   "outputs": [],
   "source": [
    "# Import necessary libraries\n",
    "import pandas as pd\n",
    "import numpy as np\n",
    "from pathlib import Path\n",
    "from sklearn.model_selection import train_test_split\n",
    "from sklearn.preprocessing import StandardScaler\n",
    "from sklearn.metrics import mean_squared_error, r2_score\n",
    "from finta import TA\n",
    "import tensorflow as tf\n",
    "from tensorflow.keras.models import Sequential\n",
    "from sklearn.metrics import mean_squared_error, mean_absolute_error, r2_score\n",
    "from tensorflow.keras.models import Model\n",
    "from tensorflow.keras.layers import Input, Dense, Dropout\n",
    "from tensorflow.keras.callbacks import EarlyStopping\n",
    "from keras.regularizers import l2\n",
    "from sklearn.model_selection import KFold"
   ]
  },
  {
   "cell_type": "code",
   "execution_count": 2,
   "id": "ad5f731c-6932-4b93-b70c-572ca042058e",
   "metadata": {
    "tags": []
   },
   "outputs": [],
   "source": [
    "# Load data\n",
    "AMZN_path = Path(\"../files/AMZN.csv\")\n",
    "VIX_path = Path(\"../files/^VIX.csv\")\n",
    "FEDFUNDS_path = Path(\"../files/FEDFUNDS (1).csv\")\n",
    "SPY_index = Path(\"../files/SPY.csv\")"
   ]
  },
  {
   "cell_type": "code",
   "execution_count": 3,
   "id": "65716cf6-fa35-415a-b960-8606b747357a",
   "metadata": {
    "tags": []
   },
   "outputs": [],
   "source": [
    "amzn_df = pd.read_csv(AMZN_path, index_col=\"Date\")\n",
    "fear_index_df = pd.read_csv(VIX_path, index_col=\"Date\").rename(columns={\"Close\": \"Fear_index\"})\n",
    "spy_index_df = pd.read_csv(SPY_index, index_col=\"Date\").rename(columns={\"Close\": \"SPY_index\"})\n",
    "fedfunds_df = pd.read_csv(FEDFUNDS_path, index_col=\"DATE\")"
   ]
  },
  {
   "cell_type": "code",
   "execution_count": 4,
   "id": "f67fc0c7-7869-425e-8164-370d4d7421e1",
   "metadata": {
    "tags": []
   },
   "outputs": [],
   "source": [
    "# Convert index to datetime index\n",
    "fedfunds_df.index = pd.to_datetime(fedfunds_df.index)\n",
    "\n",
    "# Resample the fed_funds_df to have daily frequency and forward fill the values\n",
    "fedfunds_df_monthly = fedfunds_df.resample('D').ffill()\n"
   ]
  },
  {
   "cell_type": "code",
   "execution_count": 5,
   "id": "64db4e2b-2276-4995-b6ca-f7973dce8fec",
   "metadata": {
    "tags": []
   },
   "outputs": [],
   "source": [
    "# Concatenate dataframes\n",
    "concatenated_df = pd.concat([amzn_df, fear_index_df['Fear_index'], spy_index_df['SPY_index']], axis=1)\n",
    "concatenated_df.index = pd.to_datetime(concatenated_df.index)\n"
   ]
  },
  {
   "cell_type": "code",
   "execution_count": 6,
   "id": "8a11985b-aa7a-42e3-9c2f-4bf016b3e706",
   "metadata": {
    "tags": []
   },
   "outputs": [],
   "source": [
    "# Merge with fedfunds_df\n",
    "concatenated_df = pd.merge(concatenated_df, fedfunds_df_monthly, left_index=True, right_index=True)\n"
   ]
  },
  {
   "cell_type": "code",
   "execution_count": 7,
   "id": "884c0d30-3829-4ff7-8638-eaba71ffcdab",
   "metadata": {
    "tags": []
   },
   "outputs": [],
   "source": [
    "# Drop rows with NaN values\n",
    "concatenated_df = concatenated_df.dropna()\n"
   ]
  },
  {
   "cell_type": "code",
   "execution_count": 8,
   "id": "08e8a625-07e0-4f6d-97a0-ba11ffecb274",
   "metadata": {
    "tags": []
   },
   "outputs": [],
   "source": [
    "# Shift target variable\n",
    "concatenated_df['Target'] = concatenated_df['Close'].shift(-5)\n",
    "concatenated_df = concatenated_df.dropna()"
   ]
  },
  {
   "cell_type": "code",
   "execution_count": 9,
   "id": "f03f9dc7-75e9-446c-a590-f00f9e301ba9",
   "metadata": {
    "tags": []
   },
   "outputs": [
    {
     "data": {
      "text/html": [
       "<div>\n",
       "<style scoped>\n",
       "    .dataframe tbody tr th:only-of-type {\n",
       "        vertical-align: middle;\n",
       "    }\n",
       "\n",
       "    .dataframe tbody tr th {\n",
       "        vertical-align: top;\n",
       "    }\n",
       "\n",
       "    .dataframe thead th {\n",
       "        text-align: right;\n",
       "    }\n",
       "</style>\n",
       "<table border=\"1\" class=\"dataframe\">\n",
       "  <thead>\n",
       "    <tr style=\"text-align: right;\">\n",
       "      <th></th>\n",
       "      <th>Open</th>\n",
       "      <th>High</th>\n",
       "      <th>Low</th>\n",
       "      <th>Close</th>\n",
       "      <th>Adj Close</th>\n",
       "      <th>Volume</th>\n",
       "      <th>Fear_index</th>\n",
       "      <th>SPY_index</th>\n",
       "      <th>FEDFUNDS</th>\n",
       "      <th>Target</th>\n",
       "    </tr>\n",
       "  </thead>\n",
       "  <tbody>\n",
       "    <tr>\n",
       "      <th>2014-04-30</th>\n",
       "      <td>14.9050</td>\n",
       "      <td>15.2280</td>\n",
       "      <td>14.9050</td>\n",
       "      <td>15.2065</td>\n",
       "      <td>15.2065</td>\n",
       "      <td>81772000.0</td>\n",
       "      <td>13.41</td>\n",
       "      <td>188.309998</td>\n",
       "      <td>0.09</td>\n",
       "      <td>14.6355</td>\n",
       "    </tr>\n",
       "    <tr>\n",
       "      <th>2014-05-01</th>\n",
       "      <td>15.2065</td>\n",
       "      <td>15.5240</td>\n",
       "      <td>15.2000</td>\n",
       "      <td>15.3945</td>\n",
       "      <td>15.3945</td>\n",
       "      <td>86572000.0</td>\n",
       "      <td>13.25</td>\n",
       "      <td>188.330002</td>\n",
       "      <td>0.09</td>\n",
       "      <td>14.4160</td>\n",
       "    </tr>\n",
       "    <tr>\n",
       "      <th>2014-05-02</th>\n",
       "      <td>15.5210</td>\n",
       "      <td>15.6645</td>\n",
       "      <td>15.2155</td>\n",
       "      <td>15.4005</td>\n",
       "      <td>15.4005</td>\n",
       "      <td>79902000.0</td>\n",
       "      <td>12.91</td>\n",
       "      <td>188.059998</td>\n",
       "      <td>0.09</td>\n",
       "      <td>14.6120</td>\n",
       "    </tr>\n",
       "    <tr>\n",
       "      <th>2014-05-05</th>\n",
       "      <td>15.3185</td>\n",
       "      <td>15.5115</td>\n",
       "      <td>15.2500</td>\n",
       "      <td>15.5025</td>\n",
       "      <td>15.5025</td>\n",
       "      <td>50398000.0</td>\n",
       "      <td>13.29</td>\n",
       "      <td>188.419998</td>\n",
       "      <td>0.09</td>\n",
       "      <td>15.1430</td>\n",
       "    </tr>\n",
       "    <tr>\n",
       "      <th>2014-05-06</th>\n",
       "      <td>15.4765</td>\n",
       "      <td>15.4905</td>\n",
       "      <td>14.8520</td>\n",
       "      <td>14.8690</td>\n",
       "      <td>14.8690</td>\n",
       "      <td>93646000.0</td>\n",
       "      <td>13.80</td>\n",
       "      <td>186.779999</td>\n",
       "      <td>0.09</td>\n",
       "      <td>15.2320</td>\n",
       "    </tr>\n",
       "    <tr>\n",
       "      <th>2014-05-07</th>\n",
       "      <td>14.7780</td>\n",
       "      <td>14.8200</td>\n",
       "      <td>14.3340</td>\n",
       "      <td>14.6355</td>\n",
       "      <td>14.6355</td>\n",
       "      <td>140304000.0</td>\n",
       "      <td>13.40</td>\n",
       "      <td>187.880005</td>\n",
       "      <td>0.09</td>\n",
       "      <td>14.8810</td>\n",
       "    </tr>\n",
       "    <tr>\n",
       "      <th>2014-05-08</th>\n",
       "      <td>14.5410</td>\n",
       "      <td>14.7940</td>\n",
       "      <td>14.3615</td>\n",
       "      <td>14.4160</td>\n",
       "      <td>14.4160</td>\n",
       "      <td>76964000.0</td>\n",
       "      <td>13.43</td>\n",
       "      <td>187.679993</td>\n",
       "      <td>0.09</td>\n",
       "      <td>14.7595</td>\n",
       "    </tr>\n",
       "    <tr>\n",
       "      <th>2014-05-09</th>\n",
       "      <td>14.5285</td>\n",
       "      <td>14.6840</td>\n",
       "      <td>14.2190</td>\n",
       "      <td>14.6120</td>\n",
       "      <td>14.6120</td>\n",
       "      <td>81260000.0</td>\n",
       "      <td>12.92</td>\n",
       "      <td>187.960007</td>\n",
       "      <td>0.09</td>\n",
       "      <td>14.8850</td>\n",
       "    </tr>\n",
       "    <tr>\n",
       "      <th>2014-05-12</th>\n",
       "      <td>14.7150</td>\n",
       "      <td>15.1670</td>\n",
       "      <td>14.7080</td>\n",
       "      <td>15.1430</td>\n",
       "      <td>15.1430</td>\n",
       "      <td>74592000.0</td>\n",
       "      <td>12.23</td>\n",
       "      <td>189.789993</td>\n",
       "      <td>0.09</td>\n",
       "      <td>14.8380</td>\n",
       "    </tr>\n",
       "    <tr>\n",
       "      <th>2014-05-13</th>\n",
       "      <td>15.1300</td>\n",
       "      <td>15.2800</td>\n",
       "      <td>15.0375</td>\n",
       "      <td>15.2320</td>\n",
       "      <td>15.2320</td>\n",
       "      <td>70198000.0</td>\n",
       "      <td>12.13</td>\n",
       "      <td>189.960007</td>\n",
       "      <td>0.09</td>\n",
       "      <td>15.0595</td>\n",
       "    </tr>\n",
       "  </tbody>\n",
       "</table>\n",
       "</div>"
      ],
      "text/plain": [
       "               Open     High      Low    Close  Adj Close       Volume  \\\n",
       "2014-04-30  14.9050  15.2280  14.9050  15.2065    15.2065   81772000.0   \n",
       "2014-05-01  15.2065  15.5240  15.2000  15.3945    15.3945   86572000.0   \n",
       "2014-05-02  15.5210  15.6645  15.2155  15.4005    15.4005   79902000.0   \n",
       "2014-05-05  15.3185  15.5115  15.2500  15.5025    15.5025   50398000.0   \n",
       "2014-05-06  15.4765  15.4905  14.8520  14.8690    14.8690   93646000.0   \n",
       "2014-05-07  14.7780  14.8200  14.3340  14.6355    14.6355  140304000.0   \n",
       "2014-05-08  14.5410  14.7940  14.3615  14.4160    14.4160   76964000.0   \n",
       "2014-05-09  14.5285  14.6840  14.2190  14.6120    14.6120   81260000.0   \n",
       "2014-05-12  14.7150  15.1670  14.7080  15.1430    15.1430   74592000.0   \n",
       "2014-05-13  15.1300  15.2800  15.0375  15.2320    15.2320   70198000.0   \n",
       "\n",
       "            Fear_index   SPY_index  FEDFUNDS   Target  \n",
       "2014-04-30       13.41  188.309998      0.09  14.6355  \n",
       "2014-05-01       13.25  188.330002      0.09  14.4160  \n",
       "2014-05-02       12.91  188.059998      0.09  14.6120  \n",
       "2014-05-05       13.29  188.419998      0.09  15.1430  \n",
       "2014-05-06       13.80  186.779999      0.09  15.2320  \n",
       "2014-05-07       13.40  187.880005      0.09  14.8810  \n",
       "2014-05-08       13.43  187.679993      0.09  14.7595  \n",
       "2014-05-09       12.92  187.960007      0.09  14.8850  \n",
       "2014-05-12       12.23  189.789993      0.09  14.8380  \n",
       "2014-05-13       12.13  189.960007      0.09  15.0595  "
      ]
     },
     "execution_count": 9,
     "metadata": {},
     "output_type": "execute_result"
    }
   ],
   "source": [
    "concatenated_df.head(10)"
   ]
  },
  {
   "cell_type": "code",
   "execution_count": 10,
   "id": "765ab5a5-9cab-430b-8c91-636b6e8bc575",
   "metadata": {
    "tags": []
   },
   "outputs": [
    {
     "data": {
      "text/html": [
       "<div>\n",
       "<style scoped>\n",
       "    .dataframe tbody tr th:only-of-type {\n",
       "        vertical-align: middle;\n",
       "    }\n",
       "\n",
       "    .dataframe tbody tr th {\n",
       "        vertical-align: top;\n",
       "    }\n",
       "\n",
       "    .dataframe thead th {\n",
       "        text-align: right;\n",
       "    }\n",
       "</style>\n",
       "<table border=\"1\" class=\"dataframe\">\n",
       "  <thead>\n",
       "    <tr style=\"text-align: right;\">\n",
       "      <th></th>\n",
       "      <th>Open</th>\n",
       "      <th>High</th>\n",
       "      <th>Low</th>\n",
       "      <th>Close</th>\n",
       "      <th>Adj Close</th>\n",
       "      <th>Volume</th>\n",
       "      <th>Fear_index</th>\n",
       "      <th>SPY_index</th>\n",
       "      <th>FEDFUNDS</th>\n",
       "      <th>Target</th>\n",
       "      <th>MA</th>\n",
       "      <th>RSI</th>\n",
       "      <th>BB_UPPER</th>\n",
       "      <th>BB_MIDDLE</th>\n",
       "      <th>BB_LOWER</th>\n",
       "    </tr>\n",
       "  </thead>\n",
       "  <tbody>\n",
       "    <tr>\n",
       "      <th>2024-03-18</th>\n",
       "      <td>175.800003</td>\n",
       "      <td>176.690002</td>\n",
       "      <td>174.279999</td>\n",
       "      <td>174.479996</td>\n",
       "      <td>174.479996</td>\n",
       "      <td>31250700.0</td>\n",
       "      <td>14.33</td>\n",
       "      <td>512.859985</td>\n",
       "      <td>5.33</td>\n",
       "      <td>179.710007</td>\n",
       "      <td>174.529500</td>\n",
       "      <td>53.840812</td>\n",
       "      <td>180.300610</td>\n",
       "      <td>174.529500</td>\n",
       "      <td>168.758390</td>\n",
       "    </tr>\n",
       "    <tr>\n",
       "      <th>2024-03-19</th>\n",
       "      <td>174.220001</td>\n",
       "      <td>176.089996</td>\n",
       "      <td>173.520004</td>\n",
       "      <td>175.899994</td>\n",
       "      <td>175.899994</td>\n",
       "      <td>26880900.0</td>\n",
       "      <td>13.82</td>\n",
       "      <td>515.710022</td>\n",
       "      <td>5.33</td>\n",
       "      <td>178.300003</td>\n",
       "      <td>174.970499</td>\n",
       "      <td>56.089506</td>\n",
       "      <td>179.574748</td>\n",
       "      <td>174.970499</td>\n",
       "      <td>170.366251</td>\n",
       "    </tr>\n",
       "    <tr>\n",
       "      <th>2024-03-20</th>\n",
       "      <td>176.139999</td>\n",
       "      <td>178.529999</td>\n",
       "      <td>174.639999</td>\n",
       "      <td>178.149994</td>\n",
       "      <td>178.149994</td>\n",
       "      <td>29947200.0</td>\n",
       "      <td>13.04</td>\n",
       "      <td>520.479980</td>\n",
       "      <td>5.33</td>\n",
       "      <td>179.830002</td>\n",
       "      <td>175.448499</td>\n",
       "      <td>59.459585</td>\n",
       "      <td>179.162610</td>\n",
       "      <td>175.448499</td>\n",
       "      <td>171.734389</td>\n",
       "    </tr>\n",
       "    <tr>\n",
       "      <th>2024-03-21</th>\n",
       "      <td>179.990005</td>\n",
       "      <td>181.419998</td>\n",
       "      <td>178.149994</td>\n",
       "      <td>178.149994</td>\n",
       "      <td>178.149994</td>\n",
       "      <td>32824300.0</td>\n",
       "      <td>12.92</td>\n",
       "      <td>522.200012</td>\n",
       "      <td>5.33</td>\n",
       "      <td>180.380005</td>\n",
       "      <td>175.626999</td>\n",
       "      <td>59.459585</td>\n",
       "      <td>179.504898</td>\n",
       "      <td>175.626999</td>\n",
       "      <td>171.749100</td>\n",
       "    </tr>\n",
       "    <tr>\n",
       "      <th>2024-03-22</th>\n",
       "      <td>177.750000</td>\n",
       "      <td>179.259995</td>\n",
       "      <td>176.750000</td>\n",
       "      <td>178.869995</td>\n",
       "      <td>178.869995</td>\n",
       "      <td>27964100.0</td>\n",
       "      <td>13.06</td>\n",
       "      <td>521.210022</td>\n",
       "      <td>5.33</td>\n",
       "      <td>180.970001</td>\n",
       "      <td>175.820998</td>\n",
       "      <td>60.582333</td>\n",
       "      <td>179.945113</td>\n",
       "      <td>175.820998</td>\n",
       "      <td>171.696884</td>\n",
       "    </tr>\n",
       "  </tbody>\n",
       "</table>\n",
       "</div>"
      ],
      "text/plain": [
       "                  Open        High         Low       Close   Adj Close  \\\n",
       "2024-03-18  175.800003  176.690002  174.279999  174.479996  174.479996   \n",
       "2024-03-19  174.220001  176.089996  173.520004  175.899994  175.899994   \n",
       "2024-03-20  176.139999  178.529999  174.639999  178.149994  178.149994   \n",
       "2024-03-21  179.990005  181.419998  178.149994  178.149994  178.149994   \n",
       "2024-03-22  177.750000  179.259995  176.750000  178.869995  178.869995   \n",
       "\n",
       "                Volume  Fear_index   SPY_index  FEDFUNDS      Target  \\\n",
       "2024-03-18  31250700.0       14.33  512.859985      5.33  179.710007   \n",
       "2024-03-19  26880900.0       13.82  515.710022      5.33  178.300003   \n",
       "2024-03-20  29947200.0       13.04  520.479980      5.33  179.830002   \n",
       "2024-03-21  32824300.0       12.92  522.200012      5.33  180.380005   \n",
       "2024-03-22  27964100.0       13.06  521.210022      5.33  180.970001   \n",
       "\n",
       "                    MA        RSI    BB_UPPER   BB_MIDDLE    BB_LOWER  \n",
       "2024-03-18  174.529500  53.840812  180.300610  174.529500  168.758390  \n",
       "2024-03-19  174.970499  56.089506  179.574748  174.970499  170.366251  \n",
       "2024-03-20  175.448499  59.459585  179.162610  175.448499  171.734389  \n",
       "2024-03-21  175.626999  59.459585  179.504898  175.626999  171.749100  \n",
       "2024-03-22  175.820998  60.582333  179.945113  175.820998  171.696884  "
      ]
     },
     "execution_count": 10,
     "metadata": {},
     "output_type": "execute_result"
    }
   ],
   "source": [
    "# Calculate technical indicators using finta\n",
    "data = concatenated_df.copy()  # Use the existing DataFrame concatenated_df\n",
    "data['MA'] = TA.SMA(data, 20)  # 20-period Simple Moving Average\n",
    "data['RSI'] = TA.RSI(data, 14)  # 14-period RSI\n",
    "\n",
    "# Calculate Bollinger Bands correctly\n",
    "bb_bands = TA.BBANDS(data, 20, 2)\n",
    "\n",
    "# Assign Bollinger Bands values to DataFrame columns\n",
    "data['BB_UPPER'] = bb_bands['BB_UPPER']\n",
    "data['BB_MIDDLE'] = bb_bands['BB_MIDDLE']\n",
    "data['BB_LOWER'] = bb_bands['BB_LOWER']\n",
    "\n",
    "# Convert index to datetime\n",
    "data.index = pd.to_datetime(data.index)\n",
    "\n",
    "# Display the calculated technical indicators\n",
    "data.tail()\n"
   ]
  },
  {
   "cell_type": "code",
   "execution_count": 11,
   "id": "0c58240d-6959-4480-9775-9edd2344ee79",
   "metadata": {
    "tags": []
   },
   "outputs": [],
   "source": [
    "# Define features and target\n",
    "X = concatenated_df.drop(\"Close\", axis=1)\n",
    "y = concatenated_df[\"Close\"]"
   ]
  },
  {
   "cell_type": "code",
   "execution_count": 12,
   "id": "e9d43565-2dfb-4c6b-8fd6-1aae5b78c3fc",
   "metadata": {
    "tags": []
   },
   "outputs": [],
   "source": [
    "data.drop(columns=['Open', 'High', 'Low', 'Close', 'Adj Close'], inplace=True)\n"
   ]
  },
  {
   "cell_type": "code",
   "execution_count": 13,
   "id": "9ab17e6a-3534-47cc-8311-4053a5b08fc6",
   "metadata": {
    "tags": []
   },
   "outputs": [
    {
     "data": {
      "text/html": [
       "<div>\n",
       "<style scoped>\n",
       "    .dataframe tbody tr th:only-of-type {\n",
       "        vertical-align: middle;\n",
       "    }\n",
       "\n",
       "    .dataframe tbody tr th {\n",
       "        vertical-align: top;\n",
       "    }\n",
       "\n",
       "    .dataframe thead th {\n",
       "        text-align: right;\n",
       "    }\n",
       "</style>\n",
       "<table border=\"1\" class=\"dataframe\">\n",
       "  <thead>\n",
       "    <tr style=\"text-align: right;\">\n",
       "      <th></th>\n",
       "      <th>Volume</th>\n",
       "      <th>Fear_index</th>\n",
       "      <th>SPY_index</th>\n",
       "      <th>FEDFUNDS</th>\n",
       "      <th>Target</th>\n",
       "      <th>MA</th>\n",
       "      <th>RSI</th>\n",
       "      <th>BB_UPPER</th>\n",
       "      <th>BB_MIDDLE</th>\n",
       "      <th>BB_LOWER</th>\n",
       "    </tr>\n",
       "  </thead>\n",
       "  <tbody>\n",
       "    <tr>\n",
       "      <th>2014-04-30</th>\n",
       "      <td>81772000.0</td>\n",
       "      <td>13.41</td>\n",
       "      <td>188.309998</td>\n",
       "      <td>0.09</td>\n",
       "      <td>14.6355</td>\n",
       "      <td>NaN</td>\n",
       "      <td>NaN</td>\n",
       "      <td>NaN</td>\n",
       "      <td>NaN</td>\n",
       "      <td>NaN</td>\n",
       "    </tr>\n",
       "    <tr>\n",
       "      <th>2014-05-01</th>\n",
       "      <td>86572000.0</td>\n",
       "      <td>13.25</td>\n",
       "      <td>188.330002</td>\n",
       "      <td>0.09</td>\n",
       "      <td>14.4160</td>\n",
       "      <td>NaN</td>\n",
       "      <td>100.000000</td>\n",
       "      <td>NaN</td>\n",
       "      <td>NaN</td>\n",
       "      <td>NaN</td>\n",
       "    </tr>\n",
       "    <tr>\n",
       "      <th>2014-05-02</th>\n",
       "      <td>79902000.0</td>\n",
       "      <td>12.91</td>\n",
       "      <td>188.059998</td>\n",
       "      <td>0.09</td>\n",
       "      <td>14.6120</td>\n",
       "      <td>NaN</td>\n",
       "      <td>100.000000</td>\n",
       "      <td>NaN</td>\n",
       "      <td>NaN</td>\n",
       "      <td>NaN</td>\n",
       "    </tr>\n",
       "    <tr>\n",
       "      <th>2014-05-05</th>\n",
       "      <td>50398000.0</td>\n",
       "      <td>13.29</td>\n",
       "      <td>188.419998</td>\n",
       "      <td>0.09</td>\n",
       "      <td>15.1430</td>\n",
       "      <td>NaN</td>\n",
       "      <td>100.000000</td>\n",
       "      <td>NaN</td>\n",
       "      <td>NaN</td>\n",
       "      <td>NaN</td>\n",
       "    </tr>\n",
       "    <tr>\n",
       "      <th>2014-05-06</th>\n",
       "      <td>93646000.0</td>\n",
       "      <td>13.80</td>\n",
       "      <td>186.779999</td>\n",
       "      <td>0.09</td>\n",
       "      <td>15.2320</td>\n",
       "      <td>NaN</td>\n",
       "      <td>28.329895</td>\n",
       "      <td>NaN</td>\n",
       "      <td>NaN</td>\n",
       "      <td>NaN</td>\n",
       "    </tr>\n",
       "  </tbody>\n",
       "</table>\n",
       "</div>"
      ],
      "text/plain": [
       "                Volume  Fear_index   SPY_index  FEDFUNDS   Target  MA  \\\n",
       "2014-04-30  81772000.0       13.41  188.309998      0.09  14.6355 NaN   \n",
       "2014-05-01  86572000.0       13.25  188.330002      0.09  14.4160 NaN   \n",
       "2014-05-02  79902000.0       12.91  188.059998      0.09  14.6120 NaN   \n",
       "2014-05-05  50398000.0       13.29  188.419998      0.09  15.1430 NaN   \n",
       "2014-05-06  93646000.0       13.80  186.779999      0.09  15.2320 NaN   \n",
       "\n",
       "                   RSI  BB_UPPER  BB_MIDDLE  BB_LOWER  \n",
       "2014-04-30         NaN       NaN        NaN       NaN  \n",
       "2014-05-01  100.000000       NaN        NaN       NaN  \n",
       "2014-05-02  100.000000       NaN        NaN       NaN  \n",
       "2014-05-05  100.000000       NaN        NaN       NaN  \n",
       "2014-05-06   28.329895       NaN        NaN       NaN  "
      ]
     },
     "execution_count": 13,
     "metadata": {},
     "output_type": "execute_result"
    }
   ],
   "source": [
    "# Display the modified DataFrame\n",
    "data.head()"
   ]
  },
  {
   "cell_type": "code",
   "execution_count": 14,
   "id": "beb13545-186f-4466-b3b0-18af8e616f3d",
   "metadata": {
    "tags": []
   },
   "outputs": [],
   "source": [
    "data_clean = data.dropna()\n",
    "data_clean.index.rename('date', inplace=True)\n",
    "data_clean.to_csv('../clean_data/AMZN_prepared_data.csv', index=True)"
   ]
  },
  {
   "cell_type": "code",
   "execution_count": 15,
   "id": "92c985d6-8adf-41ae-bd4b-6efd9cf2dba2",
   "metadata": {
    "tags": []
   },
   "outputs": [
    {
     "data": {
      "text/html": [
       "<div>\n",
       "<style scoped>\n",
       "    .dataframe tbody tr th:only-of-type {\n",
       "        vertical-align: middle;\n",
       "    }\n",
       "\n",
       "    .dataframe tbody tr th {\n",
       "        vertical-align: top;\n",
       "    }\n",
       "\n",
       "    .dataframe thead th {\n",
       "        text-align: right;\n",
       "    }\n",
       "</style>\n",
       "<table border=\"1\" class=\"dataframe\">\n",
       "  <thead>\n",
       "    <tr style=\"text-align: right;\">\n",
       "      <th></th>\n",
       "      <th>Volume</th>\n",
       "      <th>Fear_index</th>\n",
       "      <th>SPY_index</th>\n",
       "      <th>FEDFUNDS</th>\n",
       "      <th>Target</th>\n",
       "      <th>MA</th>\n",
       "      <th>RSI</th>\n",
       "      <th>BB_UPPER</th>\n",
       "      <th>BB_MIDDLE</th>\n",
       "      <th>BB_LOWER</th>\n",
       "    </tr>\n",
       "    <tr>\n",
       "      <th>date</th>\n",
       "      <th></th>\n",
       "      <th></th>\n",
       "      <th></th>\n",
       "      <th></th>\n",
       "      <th></th>\n",
       "      <th></th>\n",
       "      <th></th>\n",
       "      <th></th>\n",
       "      <th></th>\n",
       "      <th></th>\n",
       "    </tr>\n",
       "  </thead>\n",
       "  <tbody>\n",
       "    <tr>\n",
       "      <th>2014-05-28</th>\n",
       "      <td>54520000.0</td>\n",
       "      <td>11.68</td>\n",
       "      <td>191.380005</td>\n",
       "      <td>0.09</td>\n",
       "      <td>15.339000</td>\n",
       "      <td>15.099575</td>\n",
       "      <td>59.851683</td>\n",
       "      <td>15.794230</td>\n",
       "      <td>15.099575</td>\n",
       "      <td>14.404920</td>\n",
       "    </tr>\n",
       "    <tr>\n",
       "      <th>2014-05-29</th>\n",
       "      <td>47310000.0</td>\n",
       "      <td>11.57</td>\n",
       "      <td>192.369995</td>\n",
       "      <td>0.09</td>\n",
       "      <td>16.178499</td>\n",
       "      <td>15.123700</td>\n",
       "      <td>63.620957</td>\n",
       "      <td>15.865879</td>\n",
       "      <td>15.123700</td>\n",
       "      <td>14.381521</td>\n",
       "    </tr>\n",
       "    <tr>\n",
       "      <th>2014-05-30</th>\n",
       "      <td>85204000.0</td>\n",
       "      <td>11.40</td>\n",
       "      <td>192.679993</td>\n",
       "      <td>0.09</td>\n",
       "      <td>16.483500</td>\n",
       "      <td>15.135350</td>\n",
       "      <td>61.507941</td>\n",
       "      <td>15.902327</td>\n",
       "      <td>15.135350</td>\n",
       "      <td>14.368373</td>\n",
       "    </tr>\n",
       "    <tr>\n",
       "      <th>2014-06-02</th>\n",
       "      <td>44068000.0</td>\n",
       "      <td>11.58</td>\n",
       "      <td>192.899994</td>\n",
       "      <td>0.10</td>\n",
       "      <td>16.375000</td>\n",
       "      <td>15.137425</td>\n",
       "      <td>55.518407</td>\n",
       "      <td>15.907640</td>\n",
       "      <td>15.137425</td>\n",
       "      <td>14.367210</td>\n",
       "    </tr>\n",
       "    <tr>\n",
       "      <th>2014-06-03</th>\n",
       "      <td>47584000.0</td>\n",
       "      <td>11.87</td>\n",
       "      <td>192.800003</td>\n",
       "      <td>0.10</td>\n",
       "      <td>16.620501</td>\n",
       "      <td>15.130275</td>\n",
       "      <td>53.044427</td>\n",
       "      <td>15.888787</td>\n",
       "      <td>15.130275</td>\n",
       "      <td>14.371763</td>\n",
       "    </tr>\n",
       "  </tbody>\n",
       "</table>\n",
       "</div>"
      ],
      "text/plain": [
       "                Volume  Fear_index   SPY_index  FEDFUNDS     Target  \\\n",
       "date                                                                  \n",
       "2014-05-28  54520000.0       11.68  191.380005      0.09  15.339000   \n",
       "2014-05-29  47310000.0       11.57  192.369995      0.09  16.178499   \n",
       "2014-05-30  85204000.0       11.40  192.679993      0.09  16.483500   \n",
       "2014-06-02  44068000.0       11.58  192.899994      0.10  16.375000   \n",
       "2014-06-03  47584000.0       11.87  192.800003      0.10  16.620501   \n",
       "\n",
       "                   MA        RSI   BB_UPPER  BB_MIDDLE   BB_LOWER  \n",
       "date                                                               \n",
       "2014-05-28  15.099575  59.851683  15.794230  15.099575  14.404920  \n",
       "2014-05-29  15.123700  63.620957  15.865879  15.123700  14.381521  \n",
       "2014-05-30  15.135350  61.507941  15.902327  15.135350  14.368373  \n",
       "2014-06-02  15.137425  55.518407  15.907640  15.137425  14.367210  \n",
       "2014-06-03  15.130275  53.044427  15.888787  15.130275  14.371763  "
      ]
     },
     "execution_count": 15,
     "metadata": {},
     "output_type": "execute_result"
    }
   ],
   "source": [
    "data_clean.head()"
   ]
  },
  {
   "cell_type": "code",
   "execution_count": 16,
   "id": "ec0f13b6-ba4e-4014-9ba6-ce328c44f0fe",
   "metadata": {
    "tags": []
   },
   "outputs": [],
   "source": [
    "# Define date cutoff for data split\n",
    "date_cutoff = \"2022-04-30\"\n",
    "\n",
    "# Split data\n",
    "X_train = X[X.index <= date_cutoff]\n",
    "X_test = X[X.index > date_cutoff]\n",
    "y_train = y[y.index <= date_cutoff]\n",
    "y_test = y[y.index > date_cutoff]"
   ]
  },
  {
   "cell_type": "code",
   "execution_count": 17,
   "id": "37eaeb7c-79d9-41ca-9d01-ca9bcb4cd212",
   "metadata": {
    "tags": []
   },
   "outputs": [],
   "source": [
    "# Scale data\n",
    "scaler = StandardScaler()\n",
    "X_train_scaled = scaler.fit_transform(X_train)\n",
    "X_test_scaled = scaler.transform(X_test)\n"
   ]
  },
  {
   "cell_type": "code",
   "execution_count": 18,
   "id": "d6d68d07-17c2-41b3-bb3b-c634d6d5e85b",
   "metadata": {
    "tags": []
   },
   "outputs": [
    {
     "name": "stderr",
     "output_type": "stream",
     "text": [
      "/Users/kd17/anaconda3/lib/python3.11/site-packages/keras/src/layers/core/dense.py:86: UserWarning: Do not pass an `input_shape`/`input_dim` argument to a layer. When using Sequential models, prefer using an `Input(shape)` object as the first layer in the model instead.\n",
      "  super().__init__(activity_regularizer=activity_regularizer, **kwargs)\n"
     ]
    },
    {
     "name": "stdout",
     "output_type": "stream",
     "text": [
      "\u001b[1m57/57\u001b[0m \u001b[32m━━━━━━━━━━━━━━━━━━━━\u001b[0m\u001b[37m\u001b[0m \u001b[1m0s\u001b[0m 601us/step\n",
      "\u001b[1m7/7\u001b[0m \u001b[32m━━━━━━━━━━━━━━━━━━━━\u001b[0m\u001b[37m\u001b[0m \u001b[1m0s\u001b[0m 574us/step\n",
      "\u001b[1m57/57\u001b[0m \u001b[32m━━━━━━━━━━━━━━━━━━━━\u001b[0m\u001b[37m\u001b[0m \u001b[1m0s\u001b[0m 341us/step\n",
      "\u001b[1m7/7\u001b[0m \u001b[32m━━━━━━━━━━━━━━━━━━━━\u001b[0m\u001b[37m\u001b[0m \u001b[1m0s\u001b[0m 541us/step\n",
      "\u001b[1m57/57\u001b[0m \u001b[32m━━━━━━━━━━━━━━━━━━━━\u001b[0m\u001b[37m\u001b[0m \u001b[1m0s\u001b[0m 333us/step\n",
      "\u001b[1m7/7\u001b[0m \u001b[32m━━━━━━━━━━━━━━━━━━━━\u001b[0m\u001b[37m\u001b[0m \u001b[1m0s\u001b[0m 537us/step\n",
      "\u001b[1m57/57\u001b[0m \u001b[32m━━━━━━━━━━━━━━━━━━━━\u001b[0m\u001b[37m\u001b[0m \u001b[1m0s\u001b[0m 350us/step\n",
      "\u001b[1m7/7\u001b[0m \u001b[32m━━━━━━━━━━━━━━━━━━━━\u001b[0m\u001b[37m\u001b[0m \u001b[1m0s\u001b[0m 535us/step\n",
      "\u001b[1m57/57\u001b[0m \u001b[32m━━━━━━━━━━━━━━━━━━━━\u001b[0m\u001b[37m\u001b[0m \u001b[1m0s\u001b[0m 347us/step\n",
      "\u001b[1m7/7\u001b[0m \u001b[32m━━━━━━━━━━━━━━━━━━━━\u001b[0m\u001b[37m\u001b[0m \u001b[1m0s\u001b[0m 655us/step\n",
      "\u001b[1m57/57\u001b[0m \u001b[32m━━━━━━━━━━━━━━━━━━━━\u001b[0m\u001b[37m\u001b[0m \u001b[1m0s\u001b[0m 429us/step\n",
      "\u001b[1m7/7\u001b[0m \u001b[32m━━━━━━━━━━━━━━━━━━━━\u001b[0m\u001b[37m\u001b[0m \u001b[1m0s\u001b[0m 506us/step\n",
      "\u001b[1m57/57\u001b[0m \u001b[32m━━━━━━━━━━━━━━━━━━━━\u001b[0m\u001b[37m\u001b[0m \u001b[1m0s\u001b[0m 338us/step\n",
      "\u001b[1m7/7\u001b[0m \u001b[32m━━━━━━━━━━━━━━━━━━━━\u001b[0m\u001b[37m\u001b[0m \u001b[1m0s\u001b[0m 569us/step\n",
      "\u001b[1m57/57\u001b[0m \u001b[32m━━━━━━━━━━━━━━━━━━━━\u001b[0m\u001b[37m\u001b[0m \u001b[1m0s\u001b[0m 330us/step\n",
      "\u001b[1m7/7\u001b[0m \u001b[32m━━━━━━━━━━━━━━━━━━━━\u001b[0m\u001b[37m\u001b[0m \u001b[1m0s\u001b[0m 514us/step\n",
      "\u001b[1m57/57\u001b[0m \u001b[32m━━━━━━━━━━━━━━━━━━━━\u001b[0m\u001b[37m\u001b[0m \u001b[1m0s\u001b[0m 352us/step\n",
      "\u001b[1m7/7\u001b[0m \u001b[32m━━━━━━━━━━━━━━━━━━━━\u001b[0m\u001b[37m\u001b[0m \u001b[1m0s\u001b[0m 595us/step\n",
      "\u001b[1m57/57\u001b[0m \u001b[32m━━━━━━━━━━━━━━━━━━━━\u001b[0m\u001b[37m\u001b[0m \u001b[1m0s\u001b[0m 343us/step\n",
      "\u001b[1m7/7\u001b[0m \u001b[32m━━━━━━━━━━━━━━━━━━━━\u001b[0m\u001b[37m\u001b[0m \u001b[1m0s\u001b[0m 2ms/step \n",
      "Average R-squared (Train): -2.298720481337436\n",
      "Average R-squared (Test): -2.323420133283069\n"
     ]
    }
   ],
   "source": [
    "# Define the number of folds\n",
    "k = 10\n",
    "\n",
    "# Initialize lists to store R-squared scores\n",
    "train_r2_scores = []\n",
    "test_r2_scores = []\n",
    "\n",
    "# Initialize KFold\n",
    "kf = KFold(n_splits=k, shuffle=True)\n",
    "\n",
    "# Define the model architecture\n",
    "model = Sequential([\n",
    "    Dense(units=16, activation='relu', kernel_regularizer=l2(0.0005), input_shape=(X_train_scaled.shape[1],)),\n",
    "    Dropout(0.6),\n",
    "    Dense(units=8, activation='relu', kernel_regularizer=l2(0.0005)),\n",
    "    Dropout(0.6),\n",
    "    Dense(units=1)\n",
    "])\n",
    "\n",
    "# Example: Train with a smaller learning rate\n",
    "from keras.optimizers import Adam\n",
    "adam = Adam(learning_rate=0.0001)  # Adjust learning rate as needed\n",
    "model.compile(optimizer=adam, loss='mean_squared_error')\n",
    "model.fit(X_train, y_train, epochs=50, batch_size=32, verbose=0)\n",
    "\n",
    "# Compile the model\n",
    "model.compile(optimizer=adam, loss='mean_squared_error')\n",
    "\n",
    "# Perform k-fold cross-validation\n",
    "for train_index, test_index in kf.split(X_train_scaled):\n",
    "    X_train_cv, X_test_cv = X_train_scaled[train_index], X_train_scaled[test_index]\n",
    "    y_train_cv, y_test_cv = y_train[train_index], y_train[test_index]\n",
    "    \n",
    "    \n",
    "    # Evaluate the model on training data\n",
    "    train_predictions = model.predict(X_train_cv)\n",
    "    train_r2 = r2_score(y_train_cv, train_predictions)\n",
    "    train_r2_scores.append(train_r2)\n",
    "    \n",
    "    # Evaluate the model on test data\n",
    "    test_predictions = model.predict(X_test_cv)\n",
    "    test_r2 = r2_score(y_test_cv, test_predictions)\n",
    "    test_r2_scores.append(test_r2)\n",
    "\n",
    "# Calculate average R-squared scores\n",
    "avg_train_r2 = np.mean(train_r2_scores)\n",
    "avg_test_r2 = np.mean(test_r2_scores)\n",
    "\n",
    "print(\"Average R-squared (Train):\", avg_train_r2)\n",
    "print(\"Average R-squared (Test):\", avg_test_r2)"
   ]
  },
  {
   "cell_type": "code",
   "execution_count": 19,
   "id": "30d57319-6f7c-4b19-bf50-4e2346fa16b8",
   "metadata": {
    "tags": []
   },
   "outputs": [
    {
     "name": "stderr",
     "output_type": "stream",
     "text": [
      "/Users/kd17/anaconda3/lib/python3.11/site-packages/keras/src/layers/core/dense.py:86: UserWarning: Do not pass an `input_shape`/`input_dim` argument to a layer. When using Sequential models, prefer using an `Input(shape)` object as the first layer in the model instead.\n",
      "  super().__init__(activity_regularizer=activity_regularizer, **kwargs)\n"
     ]
    },
    {
     "name": "stdout",
     "output_type": "stream",
     "text": [
      "\u001b[1m57/57\u001b[0m \u001b[32m━━━━━━━━━━━━━━━━━━━━\u001b[0m\u001b[37m\u001b[0m \u001b[1m0s\u001b[0m 595us/step\n",
      "\u001b[1m7/7\u001b[0m \u001b[32m━━━━━━━━━━━━━━━━━━━━\u001b[0m\u001b[37m\u001b[0m \u001b[1m0s\u001b[0m 559us/step\n"
     ]
    },
    {
     "name": "stderr",
     "output_type": "stream",
     "text": [
      "/Users/kd17/anaconda3/lib/python3.11/site-packages/keras/src/layers/core/dense.py:86: UserWarning: Do not pass an `input_shape`/`input_dim` argument to a layer. When using Sequential models, prefer using an `Input(shape)` object as the first layer in the model instead.\n",
      "  super().__init__(activity_regularizer=activity_regularizer, **kwargs)\n"
     ]
    },
    {
     "name": "stdout",
     "output_type": "stream",
     "text": [
      "\u001b[1m57/57\u001b[0m \u001b[32m━━━━━━━━━━━━━━━━━━━━\u001b[0m\u001b[37m\u001b[0m \u001b[1m0s\u001b[0m 635us/step\n",
      "\u001b[1m7/7\u001b[0m \u001b[32m━━━━━━━━━━━━━━━━━━━━\u001b[0m\u001b[37m\u001b[0m \u001b[1m0s\u001b[0m 518us/step\n"
     ]
    },
    {
     "name": "stderr",
     "output_type": "stream",
     "text": [
      "/Users/kd17/anaconda3/lib/python3.11/site-packages/keras/src/layers/core/dense.py:86: UserWarning: Do not pass an `input_shape`/`input_dim` argument to a layer. When using Sequential models, prefer using an `Input(shape)` object as the first layer in the model instead.\n",
      "  super().__init__(activity_regularizer=activity_regularizer, **kwargs)\n"
     ]
    },
    {
     "name": "stdout",
     "output_type": "stream",
     "text": [
      "\u001b[1m57/57\u001b[0m \u001b[32m━━━━━━━━━━━━━━━━━━━━\u001b[0m\u001b[37m\u001b[0m \u001b[1m0s\u001b[0m 576us/step\n",
      "\u001b[1m7/7\u001b[0m \u001b[32m━━━━━━━━━━━━━━━━━━━━\u001b[0m\u001b[37m\u001b[0m \u001b[1m0s\u001b[0m 557us/step\n"
     ]
    },
    {
     "name": "stderr",
     "output_type": "stream",
     "text": [
      "/Users/kd17/anaconda3/lib/python3.11/site-packages/keras/src/layers/core/dense.py:86: UserWarning: Do not pass an `input_shape`/`input_dim` argument to a layer. When using Sequential models, prefer using an `Input(shape)` object as the first layer in the model instead.\n",
      "  super().__init__(activity_regularizer=activity_regularizer, **kwargs)\n"
     ]
    },
    {
     "name": "stdout",
     "output_type": "stream",
     "text": [
      "\u001b[1m57/57\u001b[0m \u001b[32m━━━━━━━━━━━━━━━━━━━━\u001b[0m\u001b[37m\u001b[0m \u001b[1m0s\u001b[0m 574us/step\n",
      "\u001b[1m7/7\u001b[0m \u001b[32m━━━━━━━━━━━━━━━━━━━━\u001b[0m\u001b[37m\u001b[0m \u001b[1m0s\u001b[0m 522us/step\n"
     ]
    },
    {
     "name": "stderr",
     "output_type": "stream",
     "text": [
      "/Users/kd17/anaconda3/lib/python3.11/site-packages/keras/src/layers/core/dense.py:86: UserWarning: Do not pass an `input_shape`/`input_dim` argument to a layer. When using Sequential models, prefer using an `Input(shape)` object as the first layer in the model instead.\n",
      "  super().__init__(activity_regularizer=activity_regularizer, **kwargs)\n"
     ]
    },
    {
     "name": "stdout",
     "output_type": "stream",
     "text": [
      "\u001b[1m57/57\u001b[0m \u001b[32m━━━━━━━━━━━━━━━━━━━━\u001b[0m\u001b[37m\u001b[0m \u001b[1m0s\u001b[0m 575us/step\n",
      "\u001b[1m7/7\u001b[0m \u001b[32m━━━━━━━━━━━━━━━━━━━━\u001b[0m\u001b[37m\u001b[0m \u001b[1m0s\u001b[0m 499us/step\n"
     ]
    },
    {
     "name": "stderr",
     "output_type": "stream",
     "text": [
      "/Users/kd17/anaconda3/lib/python3.11/site-packages/keras/src/layers/core/dense.py:86: UserWarning: Do not pass an `input_shape`/`input_dim` argument to a layer. When using Sequential models, prefer using an `Input(shape)` object as the first layer in the model instead.\n",
      "  super().__init__(activity_regularizer=activity_regularizer, **kwargs)\n"
     ]
    },
    {
     "name": "stdout",
     "output_type": "stream",
     "text": [
      "\u001b[1m57/57\u001b[0m \u001b[32m━━━━━━━━━━━━━━━━━━━━\u001b[0m\u001b[37m\u001b[0m \u001b[1m0s\u001b[0m 557us/step\n",
      "\u001b[1m7/7\u001b[0m \u001b[32m━━━━━━━━━━━━━━━━━━━━\u001b[0m\u001b[37m\u001b[0m \u001b[1m0s\u001b[0m 486us/step\n"
     ]
    },
    {
     "name": "stderr",
     "output_type": "stream",
     "text": [
      "/Users/kd17/anaconda3/lib/python3.11/site-packages/keras/src/layers/core/dense.py:86: UserWarning: Do not pass an `input_shape`/`input_dim` argument to a layer. When using Sequential models, prefer using an `Input(shape)` object as the first layer in the model instead.\n",
      "  super().__init__(activity_regularizer=activity_regularizer, **kwargs)\n"
     ]
    },
    {
     "name": "stdout",
     "output_type": "stream",
     "text": [
      "\u001b[1m57/57\u001b[0m \u001b[32m━━━━━━━━━━━━━━━━━━━━\u001b[0m\u001b[37m\u001b[0m \u001b[1m0s\u001b[0m 592us/step\n",
      "\u001b[1m7/7\u001b[0m \u001b[32m━━━━━━━━━━━━━━━━━━━━\u001b[0m\u001b[37m\u001b[0m \u001b[1m0s\u001b[0m 481us/step\n"
     ]
    },
    {
     "name": "stderr",
     "output_type": "stream",
     "text": [
      "/Users/kd17/anaconda3/lib/python3.11/site-packages/keras/src/layers/core/dense.py:86: UserWarning: Do not pass an `input_shape`/`input_dim` argument to a layer. When using Sequential models, prefer using an `Input(shape)` object as the first layer in the model instead.\n",
      "  super().__init__(activity_regularizer=activity_regularizer, **kwargs)\n"
     ]
    },
    {
     "name": "stdout",
     "output_type": "stream",
     "text": [
      "\u001b[1m57/57\u001b[0m \u001b[32m━━━━━━━━━━━━━━━━━━━━\u001b[0m\u001b[37m\u001b[0m \u001b[1m0s\u001b[0m 601us/step\n",
      "\u001b[1m7/7\u001b[0m \u001b[32m━━━━━━━━━━━━━━━━━━━━\u001b[0m\u001b[37m\u001b[0m \u001b[1m0s\u001b[0m 497us/step\n"
     ]
    },
    {
     "name": "stderr",
     "output_type": "stream",
     "text": [
      "/Users/kd17/anaconda3/lib/python3.11/site-packages/keras/src/layers/core/dense.py:86: UserWarning: Do not pass an `input_shape`/`input_dim` argument to a layer. When using Sequential models, prefer using an `Input(shape)` object as the first layer in the model instead.\n",
      "  super().__init__(activity_regularizer=activity_regularizer, **kwargs)\n"
     ]
    },
    {
     "name": "stdout",
     "output_type": "stream",
     "text": [
      "\u001b[1m57/57\u001b[0m \u001b[32m━━━━━━━━━━━━━━━━━━━━\u001b[0m\u001b[37m\u001b[0m \u001b[1m0s\u001b[0m 604us/step\n",
      "\u001b[1m7/7\u001b[0m \u001b[32m━━━━━━━━━━━━━━━━━━━━\u001b[0m\u001b[37m\u001b[0m \u001b[1m0s\u001b[0m 589us/step\n"
     ]
    },
    {
     "name": "stderr",
     "output_type": "stream",
     "text": [
      "/Users/kd17/anaconda3/lib/python3.11/site-packages/keras/src/layers/core/dense.py:86: UserWarning: Do not pass an `input_shape`/`input_dim` argument to a layer. When using Sequential models, prefer using an `Input(shape)` object as the first layer in the model instead.\n",
      "  super().__init__(activity_regularizer=activity_regularizer, **kwargs)\n"
     ]
    },
    {
     "name": "stdout",
     "output_type": "stream",
     "text": [
      "\u001b[1m57/57\u001b[0m \u001b[32m━━━━━━━━━━━━━━━━━━━━\u001b[0m\u001b[37m\u001b[0m \u001b[1m0s\u001b[0m 628us/step\n",
      "\u001b[1m7/7\u001b[0m \u001b[32m━━━━━━━━━━━━━━━━━━━━\u001b[0m\u001b[37m\u001b[0m \u001b[1m0s\u001b[0m 589us/step\n",
      "Model 1 - Train R-squared: 0.958281745296925, Test R-squared: 0.9543962794794871, Train MAE: 9.480573977870282, Train MSE: 116.88156023136445, Test MAE: 9.992897512495588, Test MSE: 125.579136873779\n",
      "Model 2 - Train R-squared: 0.9241069633996627, Test R-squared: 0.927279214745729, Train MAE: 12.649391745955262, Train MSE: 212.08687705009675, Test MAE: 12.343627727672615, Test MSE: 205.75098757805497\n",
      "Model 3 - Train R-squared: 0.9205178069168307, Test R-squared: 0.9219358865444747, Train MAE: 13.152193339082123, Train MSE: 223.0255325204532, Test MAE: 12.807670257144135, Test MSE: 212.42172806829893\n",
      "Model 4 - Train R-squared: 0.9361184560277527, Test R-squared: 0.9391788422673899, Train MAE: 11.709203585383877, Train MSE: 177.55459172620675, Test MAE: 11.96592585497503, Test MSE: 180.10801354152045\n",
      "Model 5 - Train R-squared: 0.9189202643846903, Test R-squared: 0.9066575618150298, Train MAE: 12.894345790666204, Train MSE: 228.6936200222272, Test MAE: 13.346841903742726, Test MSE: 242.22875575829687\n",
      "Model 6 - Train R-squared: 0.9276997615829754, Test R-squared: 0.9344363261784697, Train MAE: 11.971752333129613, Train MSE: 200.69529909186946, Test MAE: 11.786008288092583, Test MSE: 195.9304208342651\n",
      "Model 7 - Train R-squared: 0.9400669894395102, Test R-squared: 0.9377457169431468, Train MAE: 11.27777493655128, Train MSE: 168.56240441978434, Test MAE: 11.087652951895185, Test MSE: 165.6899630773681\n",
      "Model 8 - Train R-squared: 0.9329799412642059, Test R-squared: 0.9354467491004526, Train MAE: 12.19391837344974, Train MSE: 186.69686522011253, Test MAE: 12.288135195851188, Test MSE: 187.83862944220888\n",
      "Model 9 - Train R-squared: 0.9521396287536621, Test R-squared: 0.9489438798644562, Train MAE: 9.9922818096297, Train MSE: 134.4190804747277, Test MAE: 10.051744957536537, Test MSE: 137.5704634243597\n",
      "Model 10 - Train R-squared: 0.8989713519688685, Test R-squared: 0.9028985466538801, Train MAE: 14.406178860949272, Train MSE: 282.41270918551135, Test MAE: 14.088232504359913, Test MSE: 274.00018844685496\n"
     ]
    }
   ],
   "source": [
    "from keras.models import Sequential\n",
    "from keras.layers import Dense, Dropout\n",
    "from keras.optimizers import Adam\n",
    "from sklearn.metrics import mean_absolute_error, mean_squared_error, r2_score\n",
    "\n",
    "# Initialize lists to store metrics for selected models\n",
    "selected_train_r2 = []\n",
    "selected_test_r2 = []\n",
    "selected_train_mae = []\n",
    "selected_train_mse = []\n",
    "selected_test_mae = []\n",
    "selected_test_mse = []\n",
    "\n",
    "# Perform k-fold cross-validation\n",
    "for train_index, test_index in kf.split(X_train_scaled):\n",
    "    X_train_cv, X_test_cv = X_train_scaled[train_index], X_train_scaled[test_index]\n",
    "    y_train_cv, y_test_cv = y_train[train_index], y_train[test_index]\n",
    "    \n",
    "    # Define a new model for each fold\n",
    "    model_fold = Sequential([\n",
    "        Dense(32, activation='relu', input_shape=(X_train_cv.shape[1],)),\n",
    "        Dropout(0.5),  # Dropout layer with a dropout rate of 0.5\n",
    "        Dense(16, activation='relu'),\n",
    "        Dropout(0.5),  # Dropout layer with a dropout rate of 0.5\n",
    "        Dense(1)  # Output layer\n",
    "    ])\n",
    "    \n",
    "    # Compile the model with Adam optimizer and mean squared error loss\n",
    "    model_fold.compile(optimizer=Adam(learning_rate=0.001), loss='mean_squared_error')\n",
    "    \n",
    "    # Train the model\n",
    "    model_fold.fit(X_train_cv, y_train_cv, epochs=50, batch_size=32, verbose=0)\n",
    "    \n",
    "    # Evaluate the model on training data\n",
    "    train_predictions = model_fold.predict(X_train_cv)\n",
    "    train_r2 = r2_score(y_train_cv, train_predictions)\n",
    "    train_mae = mean_absolute_error(y_train_cv, train_predictions)\n",
    "    train_mse = mean_squared_error(y_train_cv, train_predictions)\n",
    "    \n",
    "    # Evaluate the model on test data\n",
    "    test_predictions = model_fold.predict(X_test_cv)\n",
    "    test_r2 = r2_score(y_test_cv, test_predictions)\n",
    "    test_mae = mean_absolute_error(y_test_cv, test_predictions)\n",
    "    test_mse = mean_squared_error(y_test_cv, test_predictions)\n",
    "    \n",
    "    # Append metrics to the lists\n",
    "    selected_train_r2.append(train_r2)\n",
    "    selected_test_r2.append(test_r2)\n",
    "    selected_train_mae.append(train_mae)\n",
    "    selected_train_mse.append(train_mse)\n",
    "    selected_test_mae.append(test_mae)\n",
    "    selected_test_mse.append(test_mse)\n",
    "\n",
    "# Print metrics for selected models\n",
    "for idx, (train_r2, test_r2, train_mae, train_mse, test_mae, test_mse) in enumerate(zip(selected_train_r2, selected_test_r2, selected_train_mae, selected_train_mse, selected_test_mae, selected_test_mse), start=1):\n",
    "    print(f\"Model {idx} - Train R-squared: {train_r2}, Test R-squared: {test_r2}, Train MAE: {train_mae}, Train MSE: {train_mse}, Test MAE: {test_mae}, Test MSE: {test_mse}\")\n"
   ]
  },
  {
   "cell_type": "code",
   "execution_count": 20,
   "id": "8ad4abfe-b9e7-497c-a868-ac3dc0b92236",
   "metadata": {
    "tags": []
   },
   "outputs": [
    {
     "name": "stdout",
     "output_type": "stream",
     "text": [
      "Best Model - Train R-squared: 0.9205178069168307, Test R-squared: 0.9219358865444747, Train MAE: 13.152193339082123, Train MSE: 223.0255325204532, Test MAE: 12.807670257144135, Test MSE: 212.42172806829893\n"
     ]
    }
   ],
   "source": [
    "# Filter models where both Train R-squared and Test R-squared are less than 0.96\n",
    "filtered_indices = [i for i, (train_r2, test_r2) in enumerate(zip(selected_train_r2, selected_test_r2)) if train_r2 < 0.96 and test_r2 < 0.96]\n",
    "\n",
    "# Calculate the absolute difference between train R-squared and test R-squared values for filtered models\n",
    "abs_diff_r2_filtered = np.abs(np.array(selected_train_r2)[filtered_indices] - np.array(selected_test_r2)[filtered_indices])\n",
    "\n",
    "# Find the index of the model with the smallest absolute difference among filtered models\n",
    "best_model_index = filtered_indices[np.argmin(abs_diff_r2_filtered)]\n",
    "\n",
    "# Retrieve the metrics for the best model\n",
    "best_train_r2 = selected_train_r2[best_model_index]\n",
    "best_test_r2 = selected_test_r2[best_model_index]\n",
    "best_train_mae = selected_train_mae[best_model_index]\n",
    "best_train_mse = selected_train_mse[best_model_index]\n",
    "best_test_mae = selected_test_mae[best_model_index]\n",
    "best_test_mse = selected_test_mse[best_model_index]\n",
    "\n",
    "# Print metrics for the best model\n",
    "print(f\"Best Model - Train R-squared: {best_train_r2}, Test R-squared: {best_test_r2}, Train MAE: {best_train_mae}, Train MSE: {best_train_mse}, Test MAE: {best_test_mae}, Test MSE: {best_test_mse}\")\n"
   ]
  },
  {
   "cell_type": "code",
   "execution_count": 21,
   "id": "8a40a7f9-d3bc-456e-94c1-3890a63d757f",
   "metadata": {
    "tags": []
   },
   "outputs": [
    {
     "name": "stderr",
     "output_type": "stream",
     "text": [
      "/Users/kd17/anaconda3/lib/python3.11/site-packages/keras/src/layers/core/dense.py:86: UserWarning: Do not pass an `input_shape`/`input_dim` argument to a layer. When using Sequential models, prefer using an `Input(shape)` object as the first layer in the model instead.\n",
      "  super().__init__(activity_regularizer=activity_regularizer, **kwargs)\n"
     ]
    },
    {
     "name": "stdout",
     "output_type": "stream",
     "text": [
      "\u001b[1m78/78\u001b[0m \u001b[32m━━━━━━━━━━━━━━━━━━━━\u001b[0m\u001b[37m\u001b[0m \u001b[1m0s\u001b[0m 513us/step\n"
     ]
    },
    {
     "data": {
      "text/html": [
       "<div>\n",
       "<style scoped>\n",
       "    .dataframe tbody tr th:only-of-type {\n",
       "        vertical-align: middle;\n",
       "    }\n",
       "\n",
       "    .dataframe tbody tr th {\n",
       "        vertical-align: top;\n",
       "    }\n",
       "\n",
       "    .dataframe thead th {\n",
       "        text-align: right;\n",
       "    }\n",
       "</style>\n",
       "<table border=\"1\" class=\"dataframe\">\n",
       "  <thead>\n",
       "    <tr style=\"text-align: right;\">\n",
       "      <th></th>\n",
       "      <th>Actual</th>\n",
       "      <th>Predicted</th>\n",
       "    </tr>\n",
       "    <tr>\n",
       "      <th>date</th>\n",
       "      <th></th>\n",
       "      <th></th>\n",
       "    </tr>\n",
       "  </thead>\n",
       "  <tbody>\n",
       "    <tr>\n",
       "      <th>2014-05-28</th>\n",
       "      <td>15.508000</td>\n",
       "      <td>19.057434</td>\n",
       "    </tr>\n",
       "    <tr>\n",
       "      <th>2014-05-29</th>\n",
       "      <td>15.689000</td>\n",
       "      <td>19.187449</td>\n",
       "    </tr>\n",
       "    <tr>\n",
       "      <th>2014-05-30</th>\n",
       "      <td>15.627500</td>\n",
       "      <td>18.891146</td>\n",
       "    </tr>\n",
       "    <tr>\n",
       "      <th>2014-06-02</th>\n",
       "      <td>15.442000</td>\n",
       "      <td>19.188818</td>\n",
       "    </tr>\n",
       "    <tr>\n",
       "      <th>2014-06-03</th>\n",
       "      <td>15.359500</td>\n",
       "      <td>19.116161</td>\n",
       "    </tr>\n",
       "    <tr>\n",
       "      <th>...</th>\n",
       "      <td>...</td>\n",
       "      <td>...</td>\n",
       "    </tr>\n",
       "    <tr>\n",
       "      <th>2024-03-18</th>\n",
       "      <td>174.479996</td>\n",
       "      <td>130.179779</td>\n",
       "    </tr>\n",
       "    <tr>\n",
       "      <th>2024-03-19</th>\n",
       "      <td>175.899994</td>\n",
       "      <td>129.415680</td>\n",
       "    </tr>\n",
       "    <tr>\n",
       "      <th>2024-03-20</th>\n",
       "      <td>178.149994</td>\n",
       "      <td>130.645569</td>\n",
       "    </tr>\n",
       "    <tr>\n",
       "      <th>2024-03-21</th>\n",
       "      <td>178.149994</td>\n",
       "      <td>132.445633</td>\n",
       "    </tr>\n",
       "    <tr>\n",
       "      <th>2024-03-22</th>\n",
       "      <td>178.869995</td>\n",
       "      <td>131.743652</td>\n",
       "    </tr>\n",
       "  </tbody>\n",
       "</table>\n",
       "<p>2473 rows × 2 columns</p>\n",
       "</div>"
      ],
      "text/plain": [
       "                Actual   Predicted\n",
       "date                              \n",
       "2014-05-28   15.508000   19.057434\n",
       "2014-05-29   15.689000   19.187449\n",
       "2014-05-30   15.627500   18.891146\n",
       "2014-06-02   15.442000   19.188818\n",
       "2014-06-03   15.359500   19.116161\n",
       "...                ...         ...\n",
       "2024-03-18  174.479996  130.179779\n",
       "2024-03-19  175.899994  129.415680\n",
       "2024-03-20  178.149994  130.645569\n",
       "2024-03-21  178.149994  132.445633\n",
       "2024-03-22  178.869995  131.743652\n",
       "\n",
       "[2473 rows x 2 columns]"
      ]
     },
     "execution_count": 21,
     "metadata": {},
     "output_type": "execute_result"
    }
   ],
   "source": [
    "# Scale data\n",
    "scaler = StandardScaler()\n",
    "X_scaled = scaler.fit_transform(X)\n",
    "\n",
    "# Define the model architecture\n",
    "model = Sequential([\n",
    "    Dense(units=16, activation='relu', kernel_regularizer=l2(0.0005), input_shape=(X_scaled.shape[1],)),\n",
    "    Dropout(0.6),\n",
    "    Dense(units=8, activation='relu', kernel_regularizer=l2(0.0005)),\n",
    "    Dropout(0.6),\n",
    "    Dense(units=1)\n",
    "])\n",
    "\n",
    "# Compile the model\n",
    "model.compile(optimizer='adam', loss='mean_squared_error')\n",
    "\n",
    "# Train the model on the entire dataset\n",
    "model.fit(X_scaled, y, epochs=50, batch_size=32, verbose=0)\n",
    "\n",
    "# Predict sequentially on each data point\n",
    "all_predictions = model.predict(X_scaled)\n",
    "\n",
    "# Ensure the number of predictions matches the original dataset\n",
    "assert len(all_predictions) == len(X_scaled)\n",
    "\n",
    "# Create a DataFrame to store the actual and predicted values\n",
    "predictions_df = pd.DataFrame({'Actual': y, 'Predicted': all_predictions.flatten()}, index=X.index)\n",
    "\n",
    "# Ensure index uniqueness in both the original dataset and predictions DataFrame\n",
    "data_clean_unique_index = data_clean.index.drop_duplicates()\n",
    "predictions_df = predictions_df.loc[data_clean_unique_index]\n",
    "\n",
    "# Display the DataFrame\n",
    "predictions_df\n"
   ]
  },
  {
   "cell_type": "code",
   "execution_count": 22,
   "id": "b58779b5-8b24-40ce-8965-11b9ac2fd185",
   "metadata": {},
   "outputs": [],
   "source": [
    "predictions_df.to_csv('../predicted_data/AMZN_predicted_data.csv', index=True)"
   ]
  },
  {
   "cell_type": "code",
   "execution_count": 23,
   "id": "00ac5c98-6d3b-4eb0-801c-685ca8c4df96",
   "metadata": {
    "tags": []
   },
   "outputs": [
    {
     "name": "stdout",
     "output_type": "stream",
     "text": [
      "No NaN values found in the predictions DataFrame.\n",
      "                Actual   Predicted\n",
      "date                              \n",
      "2014-05-28   15.508000   19.057434\n",
      "2014-05-29   15.689000   19.187449\n",
      "2014-05-30   15.627500   18.891146\n",
      "2014-06-02   15.442000   19.188818\n",
      "2014-06-03   15.359500   19.116161\n",
      "...                ...         ...\n",
      "2024-03-18  174.479996  130.179779\n",
      "2024-03-19  175.899994  129.415680\n",
      "2024-03-20  178.149994  130.645569\n",
      "2024-03-21  178.149994  132.445633\n",
      "2024-03-22  178.869995  131.743652\n",
      "\n",
      "[2473 rows x 2 columns]\n"
     ]
    }
   ],
   "source": [
    "# Check for NaN values in the predictions DataFrame\n",
    "nan_values = predictions_df.isnull().sum().sum()\n",
    "\n",
    "if nan_values == 0:\n",
    "    print(\"No NaN values found in the predictions DataFrame.\")\n",
    "    print(predictions_df)\n",
    "else:\n",
    "    print(f\"Found {nan_values} NaN values in the predictions DataFrame. Please check your data or model.\")\n"
   ]
  },
  {
   "cell_type": "code",
   "execution_count": 24,
   "id": "bd70a9c0-cb57-4f19-95f7-7690283dd7d0",
   "metadata": {
    "tags": []
   },
   "outputs": [
    {
     "data": {
      "text/html": [
       "<div>\n",
       "<style scoped>\n",
       "    .dataframe tbody tr th:only-of-type {\n",
       "        vertical-align: middle;\n",
       "    }\n",
       "\n",
       "    .dataframe tbody tr th {\n",
       "        vertical-align: top;\n",
       "    }\n",
       "\n",
       "    .dataframe thead th {\n",
       "        text-align: right;\n",
       "    }\n",
       "</style>\n",
       "<table border=\"1\" class=\"dataframe\">\n",
       "  <thead>\n",
       "    <tr style=\"text-align: right;\">\n",
       "      <th></th>\n",
       "      <th>Actual</th>\n",
       "      <th>Predicted</th>\n",
       "      <th>Percentage Difference (%)</th>\n",
       "    </tr>\n",
       "    <tr>\n",
       "      <th>date</th>\n",
       "      <th></th>\n",
       "      <th></th>\n",
       "      <th></th>\n",
       "    </tr>\n",
       "  </thead>\n",
       "  <tbody>\n",
       "    <tr>\n",
       "      <th>2014-05-28</th>\n",
       "      <td>15.508000</td>\n",
       "      <td>19.057434</td>\n",
       "      <td>22.887762</td>\n",
       "    </tr>\n",
       "    <tr>\n",
       "      <th>2014-05-29</th>\n",
       "      <td>15.689000</td>\n",
       "      <td>19.187449</td>\n",
       "      <td>22.298735</td>\n",
       "    </tr>\n",
       "    <tr>\n",
       "      <th>2014-05-30</th>\n",
       "      <td>15.627500</td>\n",
       "      <td>18.891146</td>\n",
       "      <td>20.883991</td>\n",
       "    </tr>\n",
       "    <tr>\n",
       "      <th>2014-06-02</th>\n",
       "      <td>15.442000</td>\n",
       "      <td>19.188818</td>\n",
       "      <td>24.263813</td>\n",
       "    </tr>\n",
       "    <tr>\n",
       "      <th>2014-06-03</th>\n",
       "      <td>15.359500</td>\n",
       "      <td>19.116161</td>\n",
       "      <td>24.458227</td>\n",
       "    </tr>\n",
       "    <tr>\n",
       "      <th>...</th>\n",
       "      <td>...</td>\n",
       "      <td>...</td>\n",
       "      <td>...</td>\n",
       "    </tr>\n",
       "    <tr>\n",
       "      <th>2024-03-18</th>\n",
       "      <td>174.479996</td>\n",
       "      <td>130.179779</td>\n",
       "      <td>-25.389854</td>\n",
       "    </tr>\n",
       "    <tr>\n",
       "      <th>2024-03-19</th>\n",
       "      <td>175.899994</td>\n",
       "      <td>129.415680</td>\n",
       "      <td>-26.426558</td>\n",
       "    </tr>\n",
       "    <tr>\n",
       "      <th>2024-03-20</th>\n",
       "      <td>178.149994</td>\n",
       "      <td>130.645569</td>\n",
       "      <td>-26.665409</td>\n",
       "    </tr>\n",
       "    <tr>\n",
       "      <th>2024-03-21</th>\n",
       "      <td>178.149994</td>\n",
       "      <td>132.445633</td>\n",
       "      <td>-25.654989</td>\n",
       "    </tr>\n",
       "    <tr>\n",
       "      <th>2024-03-22</th>\n",
       "      <td>178.869995</td>\n",
       "      <td>131.743652</td>\n",
       "      <td>-26.346701</td>\n",
       "    </tr>\n",
       "  </tbody>\n",
       "</table>\n",
       "<p>2473 rows × 3 columns</p>\n",
       "</div>"
      ],
      "text/plain": [
       "                Actual   Predicted  Percentage Difference (%)\n",
       "date                                                         \n",
       "2014-05-28   15.508000   19.057434                  22.887762\n",
       "2014-05-29   15.689000   19.187449                  22.298735\n",
       "2014-05-30   15.627500   18.891146                  20.883991\n",
       "2014-06-02   15.442000   19.188818                  24.263813\n",
       "2014-06-03   15.359500   19.116161                  24.458227\n",
       "...                ...         ...                        ...\n",
       "2024-03-18  174.479996  130.179779                 -25.389854\n",
       "2024-03-19  175.899994  129.415680                 -26.426558\n",
       "2024-03-20  178.149994  130.645569                 -26.665409\n",
       "2024-03-21  178.149994  132.445633                 -25.654989\n",
       "2024-03-22  178.869995  131.743652                 -26.346701\n",
       "\n",
       "[2473 rows x 3 columns]"
      ]
     },
     "execution_count": 24,
     "metadata": {},
     "output_type": "execute_result"
    }
   ],
   "source": [
    "# Calculate the percentage difference between actual and predicted values\n",
    "predictions_df['Percentage Difference (%)'] = ((predictions_df['Predicted'] - predictions_df['Actual']) / predictions_df['Actual']) * 100\n",
    "\n",
    "# Display the DataFrame with percentage difference\n",
    "predictions_df\n"
   ]
  },
  {
   "cell_type": "code",
   "execution_count": 25,
   "id": "0139b611-7c7a-40dc-9fe6-5e1e7c9882e0",
   "metadata": {
    "tags": []
   },
   "outputs": [
    {
     "name": "stdout",
     "output_type": "stream",
     "text": [
      "Average Percentage Difference (%): 28.50154982368399\n"
     ]
    }
   ],
   "source": [
    "# Calculate the absolute percentage difference for each data point\n",
    "predictions_df['Abs_Percentage_Diff'] = abs((predictions_df['Actual'] - predictions_df['Predicted']) / predictions_df['Actual']) * 100\n",
    "\n",
    "# Calculate the average percentage difference\n",
    "avg_percentage_diff = predictions_df['Abs_Percentage_Diff'].mean()\n",
    "\n",
    "print(\"Average Percentage Difference (%):\", avg_percentage_diff)\n"
   ]
  },
  {
   "cell_type": "code",
   "execution_count": null,
   "id": "6c0834a5-c2c7-4732-9d9d-1b8db8c22cc2",
   "metadata": {},
   "outputs": [],
   "source": []
  }
 ],
 "metadata": {
  "kernelspec": {
   "display_name": "Python 3 (ipykernel)",
   "language": "python",
   "name": "python3"
  },
  "language_info": {
   "codemirror_mode": {
    "name": "ipython",
    "version": 3
   },
   "file_extension": ".py",
   "mimetype": "text/x-python",
   "name": "python",
   "nbconvert_exporter": "python",
   "pygments_lexer": "ipython3",
   "version": "3.11.5"
  }
 },
 "nbformat": 4,
 "nbformat_minor": 5
}
