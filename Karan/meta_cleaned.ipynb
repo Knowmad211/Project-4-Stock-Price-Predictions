{
 "cells": [
  {
   "cell_type": "code",
   "execution_count": 1,
   "id": "0e987b53-a721-464a-b142-23b27b6cba99",
   "metadata": {
    "tags": []
   },
   "outputs": [],
   "source": [
    "# Import necessary libraries\n",
    "import pandas as pd\n",
    "import numpy as np\n",
    "from pathlib import Path\n",
    "from sklearn.model_selection import train_test_split\n",
    "from sklearn.preprocessing import StandardScaler\n",
    "from sklearn.metrics import mean_squared_error, r2_score\n",
    "from finta import TA\n",
    "import tensorflow as tf\n",
    "from tensorflow.keras.models import Sequential\n",
    "from sklearn.metrics import mean_squared_error, mean_absolute_error, r2_score\n",
    "from tensorflow.keras.models import Model\n",
    "from tensorflow.keras.layers import Input, Dense, Dropout\n",
    "from tensorflow.keras.callbacks import EarlyStopping\n",
    "from keras.regularizers import l2\n",
    "from sklearn.model_selection import KFold"
   ]
  },
  {
   "cell_type": "code",
   "execution_count": 2,
   "id": "8f37840b-5da8-4684-a0e0-0c71ac9cf93a",
   "metadata": {
    "tags": []
   },
   "outputs": [],
   "source": [
    "# Load data\n",
    "META_path = Path(\"../files/META.csv\")\n",
    "VIX_path = Path(\"../files/^VIX.csv\")\n",
    "FEDFUNDS_path = Path(\"../files/FEDFUNDS (1).csv\")\n",
    "SPY_index = Path(\"../files/SPY.csv\")"
   ]
  },
  {
   "cell_type": "code",
   "execution_count": 3,
   "id": "af5f855d-71bf-4357-a716-65a35991bd0c",
   "metadata": {
    "tags": []
   },
   "outputs": [],
   "source": [
    "meta_df = pd.read_csv(META_path, index_col=\"Date\")\n",
    "fear_index_df = pd.read_csv(VIX_path, index_col=\"Date\").rename(columns={\"Close\": \"Fear_index\"})\n",
    "spy_index_df = pd.read_csv(SPY_index, index_col=\"Date\").rename(columns={\"Close\": \"SPY_index\"})\n",
    "fedfunds_df = pd.read_csv(FEDFUNDS_path, index_col=\"DATE\")"
   ]
  },
  {
   "cell_type": "code",
   "execution_count": 4,
   "id": "c4581a7e-4717-44ad-b92e-0e654bdbebae",
   "metadata": {
    "tags": []
   },
   "outputs": [],
   "source": [
    "# Convert index to datetime index\n",
    "fedfunds_df.index = pd.to_datetime(fedfunds_df.index)\n",
    "\n",
    "# Resample the fed_funds_df to have daily frequency and forward fill the values\n",
    "fedfunds_df_monthly = fedfunds_df.resample('D').ffill()\n"
   ]
  },
  {
   "cell_type": "code",
   "execution_count": 5,
   "id": "54627d95-c23f-41ef-ac6d-7c438aa9bdb8",
   "metadata": {
    "tags": []
   },
   "outputs": [],
   "source": [
    "# Concatenate dataframes\n",
    "concatenated_df = pd.concat([meta_df, fear_index_df['Fear_index'], spy_index_df['SPY_index']], axis=1)\n",
    "concatenated_df.index = pd.to_datetime(concatenated_df.index)\n"
   ]
  },
  {
   "cell_type": "code",
   "execution_count": 6,
   "id": "4d14580c-2bac-4772-aef0-599bc70c4eec",
   "metadata": {
    "tags": []
   },
   "outputs": [],
   "source": [
    "# Merge with fedfunds_df\n",
    "concatenated_df = pd.merge(concatenated_df, fedfunds_df_monthly, left_index=True, right_index=True)\n"
   ]
  },
  {
   "cell_type": "code",
   "execution_count": 7,
   "id": "12746090-bae3-432f-977b-d1bd948e4cc5",
   "metadata": {
    "tags": []
   },
   "outputs": [],
   "source": [
    "# Drop rows with NaN values\n",
    "concatenated_df = concatenated_df.dropna()\n"
   ]
  },
  {
   "cell_type": "code",
   "execution_count": 8,
   "id": "042c101e-ce97-41d8-aeae-4098267c72fd",
   "metadata": {
    "tags": []
   },
   "outputs": [],
   "source": [
    "# Shift target variable\n",
    "concatenated_df['Target'] = concatenated_df['Close'].shift(-5)\n",
    "concatenated_df = concatenated_df.dropna()"
   ]
  },
  {
   "cell_type": "code",
   "execution_count": 9,
   "id": "a6f563e2-e988-4243-8585-c632664eca10",
   "metadata": {
    "tags": []
   },
   "outputs": [
    {
     "data": {
      "text/html": [
       "<div>\n",
       "<style scoped>\n",
       "    .dataframe tbody tr th:only-of-type {\n",
       "        vertical-align: middle;\n",
       "    }\n",
       "\n",
       "    .dataframe tbody tr th {\n",
       "        vertical-align: top;\n",
       "    }\n",
       "\n",
       "    .dataframe thead th {\n",
       "        text-align: right;\n",
       "    }\n",
       "</style>\n",
       "<table border=\"1\" class=\"dataframe\">\n",
       "  <thead>\n",
       "    <tr style=\"text-align: right;\">\n",
       "      <th></th>\n",
       "      <th>Open</th>\n",
       "      <th>High</th>\n",
       "      <th>Low</th>\n",
       "      <th>Close</th>\n",
       "      <th>Adj Close</th>\n",
       "      <th>Volume</th>\n",
       "      <th>Fear_index</th>\n",
       "      <th>SPY_index</th>\n",
       "      <th>FEDFUNDS</th>\n",
       "      <th>Target</th>\n",
       "    </tr>\n",
       "  </thead>\n",
       "  <tbody>\n",
       "    <tr>\n",
       "      <th>2014-04-30</th>\n",
       "      <td>57.580002</td>\n",
       "      <td>59.849998</td>\n",
       "      <td>57.160000</td>\n",
       "      <td>59.779999</td>\n",
       "      <td>59.716640</td>\n",
       "      <td>76093000.0</td>\n",
       "      <td>13.41</td>\n",
       "      <td>188.309998</td>\n",
       "      <td>0.09</td>\n",
       "      <td>57.389999</td>\n",
       "    </tr>\n",
       "    <tr>\n",
       "      <th>2014-05-01</th>\n",
       "      <td>60.430000</td>\n",
       "      <td>62.279999</td>\n",
       "      <td>60.209999</td>\n",
       "      <td>61.150002</td>\n",
       "      <td>61.085190</td>\n",
       "      <td>82429000.0</td>\n",
       "      <td>13.25</td>\n",
       "      <td>188.330002</td>\n",
       "      <td>0.09</td>\n",
       "      <td>56.759998</td>\n",
       "    </tr>\n",
       "    <tr>\n",
       "      <th>2014-05-02</th>\n",
       "      <td>61.299999</td>\n",
       "      <td>61.889999</td>\n",
       "      <td>60.180000</td>\n",
       "      <td>60.459999</td>\n",
       "      <td>60.395920</td>\n",
       "      <td>54189000.0</td>\n",
       "      <td>12.91</td>\n",
       "      <td>188.059998</td>\n",
       "      <td>0.09</td>\n",
       "      <td>57.240002</td>\n",
       "    </tr>\n",
       "    <tr>\n",
       "      <th>2014-05-05</th>\n",
       "      <td>59.669998</td>\n",
       "      <td>61.349998</td>\n",
       "      <td>59.180000</td>\n",
       "      <td>61.220001</td>\n",
       "      <td>61.155113</td>\n",
       "      <td>46057000.0</td>\n",
       "      <td>13.29</td>\n",
       "      <td>188.419998</td>\n",
       "      <td>0.09</td>\n",
       "      <td>59.830002</td>\n",
       "    </tr>\n",
       "    <tr>\n",
       "      <th>2014-05-06</th>\n",
       "      <td>60.980000</td>\n",
       "      <td>61.150002</td>\n",
       "      <td>58.490002</td>\n",
       "      <td>58.529999</td>\n",
       "      <td>58.467964</td>\n",
       "      <td>55901000.0</td>\n",
       "      <td>13.80</td>\n",
       "      <td>186.779999</td>\n",
       "      <td>0.09</td>\n",
       "      <td>59.830002</td>\n",
       "    </tr>\n",
       "    <tr>\n",
       "      <th>2014-05-07</th>\n",
       "      <td>58.770000</td>\n",
       "      <td>59.299999</td>\n",
       "      <td>56.259998</td>\n",
       "      <td>57.389999</td>\n",
       "      <td>57.329174</td>\n",
       "      <td>78587000.0</td>\n",
       "      <td>13.40</td>\n",
       "      <td>187.880005</td>\n",
       "      <td>0.09</td>\n",
       "      <td>59.230000</td>\n",
       "    </tr>\n",
       "    <tr>\n",
       "      <th>2014-05-08</th>\n",
       "      <td>57.230000</td>\n",
       "      <td>58.820000</td>\n",
       "      <td>56.500000</td>\n",
       "      <td>56.759998</td>\n",
       "      <td>56.699841</td>\n",
       "      <td>61251000.0</td>\n",
       "      <td>13.43</td>\n",
       "      <td>187.679993</td>\n",
       "      <td>0.09</td>\n",
       "      <td>57.919998</td>\n",
       "    </tr>\n",
       "    <tr>\n",
       "      <th>2014-05-09</th>\n",
       "      <td>56.849998</td>\n",
       "      <td>57.650002</td>\n",
       "      <td>56.380001</td>\n",
       "      <td>57.240002</td>\n",
       "      <td>57.179333</td>\n",
       "      <td>52584000.0</td>\n",
       "      <td>12.92</td>\n",
       "      <td>187.960007</td>\n",
       "      <td>0.09</td>\n",
       "      <td>58.020000</td>\n",
       "    </tr>\n",
       "    <tr>\n",
       "      <th>2014-05-12</th>\n",
       "      <td>57.980000</td>\n",
       "      <td>59.900002</td>\n",
       "      <td>57.980000</td>\n",
       "      <td>59.830002</td>\n",
       "      <td>59.766590</td>\n",
       "      <td>48575000.0</td>\n",
       "      <td>12.23</td>\n",
       "      <td>189.789993</td>\n",
       "      <td>0.09</td>\n",
       "      <td>59.209999</td>\n",
       "    </tr>\n",
       "    <tr>\n",
       "      <th>2014-05-13</th>\n",
       "      <td>59.660000</td>\n",
       "      <td>60.889999</td>\n",
       "      <td>59.509998</td>\n",
       "      <td>59.830002</td>\n",
       "      <td>59.766590</td>\n",
       "      <td>48525000.0</td>\n",
       "      <td>12.13</td>\n",
       "      <td>189.960007</td>\n",
       "      <td>0.09</td>\n",
       "      <td>58.560001</td>\n",
       "    </tr>\n",
       "  </tbody>\n",
       "</table>\n",
       "</div>"
      ],
      "text/plain": [
       "                 Open       High        Low      Close  Adj Close      Volume  \\\n",
       "2014-04-30  57.580002  59.849998  57.160000  59.779999  59.716640  76093000.0   \n",
       "2014-05-01  60.430000  62.279999  60.209999  61.150002  61.085190  82429000.0   \n",
       "2014-05-02  61.299999  61.889999  60.180000  60.459999  60.395920  54189000.0   \n",
       "2014-05-05  59.669998  61.349998  59.180000  61.220001  61.155113  46057000.0   \n",
       "2014-05-06  60.980000  61.150002  58.490002  58.529999  58.467964  55901000.0   \n",
       "2014-05-07  58.770000  59.299999  56.259998  57.389999  57.329174  78587000.0   \n",
       "2014-05-08  57.230000  58.820000  56.500000  56.759998  56.699841  61251000.0   \n",
       "2014-05-09  56.849998  57.650002  56.380001  57.240002  57.179333  52584000.0   \n",
       "2014-05-12  57.980000  59.900002  57.980000  59.830002  59.766590  48575000.0   \n",
       "2014-05-13  59.660000  60.889999  59.509998  59.830002  59.766590  48525000.0   \n",
       "\n",
       "            Fear_index   SPY_index  FEDFUNDS     Target  \n",
       "2014-04-30       13.41  188.309998      0.09  57.389999  \n",
       "2014-05-01       13.25  188.330002      0.09  56.759998  \n",
       "2014-05-02       12.91  188.059998      0.09  57.240002  \n",
       "2014-05-05       13.29  188.419998      0.09  59.830002  \n",
       "2014-05-06       13.80  186.779999      0.09  59.830002  \n",
       "2014-05-07       13.40  187.880005      0.09  59.230000  \n",
       "2014-05-08       13.43  187.679993      0.09  57.919998  \n",
       "2014-05-09       12.92  187.960007      0.09  58.020000  \n",
       "2014-05-12       12.23  189.789993      0.09  59.209999  \n",
       "2014-05-13       12.13  189.960007      0.09  58.560001  "
      ]
     },
     "execution_count": 9,
     "metadata": {},
     "output_type": "execute_result"
    }
   ],
   "source": [
    "concatenated_df.head(10)"
   ]
  },
  {
   "cell_type": "code",
   "execution_count": 10,
   "id": "146fce5e-000e-4432-99e8-c274b39186dc",
   "metadata": {
    "tags": []
   },
   "outputs": [
    {
     "data": {
      "text/html": [
       "<div>\n",
       "<style scoped>\n",
       "    .dataframe tbody tr th:only-of-type {\n",
       "        vertical-align: middle;\n",
       "    }\n",
       "\n",
       "    .dataframe tbody tr th {\n",
       "        vertical-align: top;\n",
       "    }\n",
       "\n",
       "    .dataframe thead th {\n",
       "        text-align: right;\n",
       "    }\n",
       "</style>\n",
       "<table border=\"1\" class=\"dataframe\">\n",
       "  <thead>\n",
       "    <tr style=\"text-align: right;\">\n",
       "      <th></th>\n",
       "      <th>Open</th>\n",
       "      <th>High</th>\n",
       "      <th>Low</th>\n",
       "      <th>Close</th>\n",
       "      <th>Adj Close</th>\n",
       "      <th>Volume</th>\n",
       "      <th>Fear_index</th>\n",
       "      <th>SPY_index</th>\n",
       "      <th>FEDFUNDS</th>\n",
       "      <th>Target</th>\n",
       "      <th>MA</th>\n",
       "      <th>RSI</th>\n",
       "      <th>BB_UPPER</th>\n",
       "      <th>BB_MIDDLE</th>\n",
       "      <th>BB_LOWER</th>\n",
       "    </tr>\n",
       "  </thead>\n",
       "  <tbody>\n",
       "    <tr>\n",
       "      <th>2024-03-18</th>\n",
       "      <td>491.910004</td>\n",
       "      <td>497.420013</td>\n",
       "      <td>486.809998</td>\n",
       "      <td>496.980011</td>\n",
       "      <td>496.980011</td>\n",
       "      <td>11755300.0</td>\n",
       "      <td>14.33</td>\n",
       "      <td>512.859985</td>\n",
       "      <td>5.33</td>\n",
       "      <td>503.019989</td>\n",
       "      <td>490.481999</td>\n",
       "      <td>58.321319</td>\n",
       "      <td>512.153124</td>\n",
       "      <td>490.481999</td>\n",
       "      <td>468.810874</td>\n",
       "    </tr>\n",
       "    <tr>\n",
       "      <th>2024-03-19</th>\n",
       "      <td>488.170013</td>\n",
       "      <td>496.630005</td>\n",
       "      <td>481.279999</td>\n",
       "      <td>496.239990</td>\n",
       "      <td>496.239990</td>\n",
       "      <td>10903100.0</td>\n",
       "      <td>13.82</td>\n",
       "      <td>515.710022</td>\n",
       "      <td>5.33</td>\n",
       "      <td>495.890015</td>\n",
       "      <td>491.706499</td>\n",
       "      <td>57.950491</td>\n",
       "      <td>511.617128</td>\n",
       "      <td>491.706499</td>\n",
       "      <td>471.795869</td>\n",
       "    </tr>\n",
       "    <tr>\n",
       "      <th>2024-03-20</th>\n",
       "      <td>499.500000</td>\n",
       "      <td>508.200012</td>\n",
       "      <td>495.170013</td>\n",
       "      <td>505.519989</td>\n",
       "      <td>505.519989</td>\n",
       "      <td>11711100.0</td>\n",
       "      <td>13.04</td>\n",
       "      <td>520.479980</td>\n",
       "      <td>5.33</td>\n",
       "      <td>493.859985</td>\n",
       "      <td>493.580998</td>\n",
       "      <td>61.275686</td>\n",
       "      <td>511.010667</td>\n",
       "      <td>493.580998</td>\n",
       "      <td>476.151329</td>\n",
       "    </tr>\n",
       "    <tr>\n",
       "      <th>2024-03-21</th>\n",
       "      <td>514.710022</td>\n",
       "      <td>515.039978</td>\n",
       "      <td>506.010010</td>\n",
       "      <td>507.760010</td>\n",
       "      <td>507.760010</td>\n",
       "      <td>9712500.0</td>\n",
       "      <td>12.92</td>\n",
       "      <td>522.200012</td>\n",
       "      <td>5.33</td>\n",
       "      <td>485.579987</td>\n",
       "      <td>494.662498</td>\n",
       "      <td>62.055680</td>\n",
       "      <td>512.814794</td>\n",
       "      <td>494.662498</td>\n",
       "      <td>476.510203</td>\n",
       "    </tr>\n",
       "    <tr>\n",
       "      <th>2024-03-22</th>\n",
       "      <td>507.000000</td>\n",
       "      <td>509.970001</td>\n",
       "      <td>504.339996</td>\n",
       "      <td>509.579987</td>\n",
       "      <td>509.579987</td>\n",
       "      <td>8117000.0</td>\n",
       "      <td>13.06</td>\n",
       "      <td>521.210022</td>\n",
       "      <td>5.33</td>\n",
       "      <td>491.350006</td>\n",
       "      <td>495.939998</td>\n",
       "      <td>62.712832</td>\n",
       "      <td>514.532549</td>\n",
       "      <td>495.939998</td>\n",
       "      <td>477.347447</td>\n",
       "    </tr>\n",
       "  </tbody>\n",
       "</table>\n",
       "</div>"
      ],
      "text/plain": [
       "                  Open        High         Low       Close   Adj Close  \\\n",
       "2024-03-18  491.910004  497.420013  486.809998  496.980011  496.980011   \n",
       "2024-03-19  488.170013  496.630005  481.279999  496.239990  496.239990   \n",
       "2024-03-20  499.500000  508.200012  495.170013  505.519989  505.519989   \n",
       "2024-03-21  514.710022  515.039978  506.010010  507.760010  507.760010   \n",
       "2024-03-22  507.000000  509.970001  504.339996  509.579987  509.579987   \n",
       "\n",
       "                Volume  Fear_index   SPY_index  FEDFUNDS      Target  \\\n",
       "2024-03-18  11755300.0       14.33  512.859985      5.33  503.019989   \n",
       "2024-03-19  10903100.0       13.82  515.710022      5.33  495.890015   \n",
       "2024-03-20  11711100.0       13.04  520.479980      5.33  493.859985   \n",
       "2024-03-21   9712500.0       12.92  522.200012      5.33  485.579987   \n",
       "2024-03-22   8117000.0       13.06  521.210022      5.33  491.350006   \n",
       "\n",
       "                    MA        RSI    BB_UPPER   BB_MIDDLE    BB_LOWER  \n",
       "2024-03-18  490.481999  58.321319  512.153124  490.481999  468.810874  \n",
       "2024-03-19  491.706499  57.950491  511.617128  491.706499  471.795869  \n",
       "2024-03-20  493.580998  61.275686  511.010667  493.580998  476.151329  \n",
       "2024-03-21  494.662498  62.055680  512.814794  494.662498  476.510203  \n",
       "2024-03-22  495.939998  62.712832  514.532549  495.939998  477.347447  "
      ]
     },
     "execution_count": 10,
     "metadata": {},
     "output_type": "execute_result"
    }
   ],
   "source": [
    "# Calculate technical indicators using finta\n",
    "data = concatenated_df.copy()  # Use the existing DataFrame concatenated_df\n",
    "data['MA'] = TA.SMA(data, 20)  # 20-period Simple Moving Average\n",
    "data['RSI'] = TA.RSI(data, 14)  # 14-period RSI\n",
    "\n",
    "# Calculate Bollinger Bands correctly\n",
    "bb_bands = TA.BBANDS(data, 20, 2)\n",
    "\n",
    "# Assign Bollinger Bands values to DataFrame columns\n",
    "data['BB_UPPER'] = bb_bands['BB_UPPER']\n",
    "data['BB_MIDDLE'] = bb_bands['BB_MIDDLE']\n",
    "data['BB_LOWER'] = bb_bands['BB_LOWER']\n",
    "\n",
    "# Convert index to datetime\n",
    "data.index = pd.to_datetime(data.index)\n",
    "\n",
    "# Display the calculated technical indicators\n",
    "data.tail()\n"
   ]
  },
  {
   "cell_type": "code",
   "execution_count": 11,
   "id": "39bfbe02-7ade-4c46-a844-269dc5608357",
   "metadata": {
    "tags": []
   },
   "outputs": [],
   "source": [
    "# Define features and target\n",
    "X = concatenated_df.drop(\"Close\", axis=1)\n",
    "y = concatenated_df[\"Close\"]"
   ]
  },
  {
   "cell_type": "code",
   "execution_count": 12,
   "id": "43fb91e3-fc5a-4fad-992d-08bfc8926c81",
   "metadata": {
    "tags": []
   },
   "outputs": [],
   "source": [
    "data.drop(columns=['Open', 'High', 'Low', 'Close', 'Adj Close'], inplace=True)\n"
   ]
  },
  {
   "cell_type": "code",
   "execution_count": 13,
   "id": "e544899a-5e7e-4451-800e-a8b342a312e4",
   "metadata": {
    "tags": []
   },
   "outputs": [
    {
     "data": {
      "text/html": [
       "<div>\n",
       "<style scoped>\n",
       "    .dataframe tbody tr th:only-of-type {\n",
       "        vertical-align: middle;\n",
       "    }\n",
       "\n",
       "    .dataframe tbody tr th {\n",
       "        vertical-align: top;\n",
       "    }\n",
       "\n",
       "    .dataframe thead th {\n",
       "        text-align: right;\n",
       "    }\n",
       "</style>\n",
       "<table border=\"1\" class=\"dataframe\">\n",
       "  <thead>\n",
       "    <tr style=\"text-align: right;\">\n",
       "      <th></th>\n",
       "      <th>Volume</th>\n",
       "      <th>Fear_index</th>\n",
       "      <th>SPY_index</th>\n",
       "      <th>FEDFUNDS</th>\n",
       "      <th>Target</th>\n",
       "      <th>MA</th>\n",
       "      <th>RSI</th>\n",
       "      <th>BB_UPPER</th>\n",
       "      <th>BB_MIDDLE</th>\n",
       "      <th>BB_LOWER</th>\n",
       "    </tr>\n",
       "  </thead>\n",
       "  <tbody>\n",
       "    <tr>\n",
       "      <th>2014-04-30</th>\n",
       "      <td>76093000.0</td>\n",
       "      <td>13.41</td>\n",
       "      <td>188.309998</td>\n",
       "      <td>0.09</td>\n",
       "      <td>57.389999</td>\n",
       "      <td>NaN</td>\n",
       "      <td>NaN</td>\n",
       "      <td>NaN</td>\n",
       "      <td>NaN</td>\n",
       "      <td>NaN</td>\n",
       "    </tr>\n",
       "    <tr>\n",
       "      <th>2014-05-01</th>\n",
       "      <td>82429000.0</td>\n",
       "      <td>13.25</td>\n",
       "      <td>188.330002</td>\n",
       "      <td>0.09</td>\n",
       "      <td>56.759998</td>\n",
       "      <td>NaN</td>\n",
       "      <td>100.000000</td>\n",
       "      <td>NaN</td>\n",
       "      <td>NaN</td>\n",
       "      <td>NaN</td>\n",
       "    </tr>\n",
       "    <tr>\n",
       "      <th>2014-05-02</th>\n",
       "      <td>54189000.0</td>\n",
       "      <td>12.91</td>\n",
       "      <td>188.059998</td>\n",
       "      <td>0.09</td>\n",
       "      <td>57.240002</td>\n",
       "      <td>NaN</td>\n",
       "      <td>64.834316</td>\n",
       "      <td>NaN</td>\n",
       "      <td>NaN</td>\n",
       "      <td>NaN</td>\n",
       "    </tr>\n",
       "    <tr>\n",
       "      <th>2014-05-05</th>\n",
       "      <td>46057000.0</td>\n",
       "      <td>13.29</td>\n",
       "      <td>188.419998</td>\n",
       "      <td>0.09</td>\n",
       "      <td>59.830002</td>\n",
       "      <td>NaN</td>\n",
       "      <td>75.185214</td>\n",
       "      <td>NaN</td>\n",
       "      <td>NaN</td>\n",
       "      <td>NaN</td>\n",
       "    </tr>\n",
       "    <tr>\n",
       "      <th>2014-05-06</th>\n",
       "      <td>55901000.0</td>\n",
       "      <td>13.80</td>\n",
       "      <td>186.779999</td>\n",
       "      <td>0.09</td>\n",
       "      <td>59.830002</td>\n",
       "      <td>NaN</td>\n",
       "      <td>35.431787</td>\n",
       "      <td>NaN</td>\n",
       "      <td>NaN</td>\n",
       "      <td>NaN</td>\n",
       "    </tr>\n",
       "  </tbody>\n",
       "</table>\n",
       "</div>"
      ],
      "text/plain": [
       "                Volume  Fear_index   SPY_index  FEDFUNDS     Target  MA  \\\n",
       "2014-04-30  76093000.0       13.41  188.309998      0.09  57.389999 NaN   \n",
       "2014-05-01  82429000.0       13.25  188.330002      0.09  56.759998 NaN   \n",
       "2014-05-02  54189000.0       12.91  188.059998      0.09  57.240002 NaN   \n",
       "2014-05-05  46057000.0       13.29  188.419998      0.09  59.830002 NaN   \n",
       "2014-05-06  55901000.0       13.80  186.779999      0.09  59.830002 NaN   \n",
       "\n",
       "                   RSI  BB_UPPER  BB_MIDDLE  BB_LOWER  \n",
       "2014-04-30         NaN       NaN        NaN       NaN  \n",
       "2014-05-01  100.000000       NaN        NaN       NaN  \n",
       "2014-05-02   64.834316       NaN        NaN       NaN  \n",
       "2014-05-05   75.185214       NaN        NaN       NaN  \n",
       "2014-05-06   35.431787       NaN        NaN       NaN  "
      ]
     },
     "execution_count": 13,
     "metadata": {},
     "output_type": "execute_result"
    }
   ],
   "source": [
    "# Display the modified DataFrame\n",
    "data.head()"
   ]
  },
  {
   "cell_type": "code",
   "execution_count": 14,
   "id": "08d59097-e6f9-4d2b-b1dc-b009ccc95b84",
   "metadata": {
    "tags": []
   },
   "outputs": [],
   "source": [
    "data_clean = data.dropna()\n",
    "data_clean.index.rename('date', inplace=True)\n",
    "data_clean.to_csv('../clean_data/META_prepared_data.csv', index=True)"
   ]
  },
  {
   "cell_type": "code",
   "execution_count": 15,
   "id": "7bd48c50-b0d4-4155-b639-6768ce704df2",
   "metadata": {
    "tags": []
   },
   "outputs": [
    {
     "data": {
      "text/html": [
       "<div>\n",
       "<style scoped>\n",
       "    .dataframe tbody tr th:only-of-type {\n",
       "        vertical-align: middle;\n",
       "    }\n",
       "\n",
       "    .dataframe tbody tr th {\n",
       "        vertical-align: top;\n",
       "    }\n",
       "\n",
       "    .dataframe thead th {\n",
       "        text-align: right;\n",
       "    }\n",
       "</style>\n",
       "<table border=\"1\" class=\"dataframe\">\n",
       "  <thead>\n",
       "    <tr style=\"text-align: right;\">\n",
       "      <th></th>\n",
       "      <th>Volume</th>\n",
       "      <th>Fear_index</th>\n",
       "      <th>SPY_index</th>\n",
       "      <th>FEDFUNDS</th>\n",
       "      <th>Target</th>\n",
       "      <th>MA</th>\n",
       "      <th>RSI</th>\n",
       "      <th>BB_UPPER</th>\n",
       "      <th>BB_MIDDLE</th>\n",
       "      <th>BB_LOWER</th>\n",
       "    </tr>\n",
       "    <tr>\n",
       "      <th>date</th>\n",
       "      <th></th>\n",
       "      <th></th>\n",
       "      <th></th>\n",
       "      <th></th>\n",
       "      <th></th>\n",
       "      <th></th>\n",
       "      <th></th>\n",
       "      <th></th>\n",
       "      <th></th>\n",
       "      <th></th>\n",
       "    </tr>\n",
       "  </thead>\n",
       "  <tbody>\n",
       "    <tr>\n",
       "      <th>2014-05-28</th>\n",
       "      <td>47795000.0</td>\n",
       "      <td>11.68</td>\n",
       "      <td>191.380005</td>\n",
       "      <td>0.09</td>\n",
       "      <td>63.340000</td>\n",
       "      <td>59.7240</td>\n",
       "      <td>68.405903</td>\n",
       "      <td>63.479537</td>\n",
       "      <td>59.7240</td>\n",
       "      <td>55.968463</td>\n",
       "    </tr>\n",
       "    <tr>\n",
       "      <th>2014-05-29</th>\n",
       "      <td>42700000.0</td>\n",
       "      <td>11.57</td>\n",
       "      <td>192.369995</td>\n",
       "      <td>0.09</td>\n",
       "      <td>63.189999</td>\n",
       "      <td>59.9265</td>\n",
       "      <td>69.443644</td>\n",
       "      <td>64.107416</td>\n",
       "      <td>59.9265</td>\n",
       "      <td>55.745584</td>\n",
       "    </tr>\n",
       "    <tr>\n",
       "      <th>2014-05-30</th>\n",
       "      <td>45253500.0</td>\n",
       "      <td>11.40</td>\n",
       "      <td>192.679993</td>\n",
       "      <td>0.09</td>\n",
       "      <td>62.500000</td>\n",
       "      <td>60.0340</td>\n",
       "      <td>65.600407</td>\n",
       "      <td>64.451255</td>\n",
       "      <td>60.0340</td>\n",
       "      <td>55.616745</td>\n",
       "    </tr>\n",
       "    <tr>\n",
       "      <th>2014-06-02</th>\n",
       "      <td>35996000.0</td>\n",
       "      <td>11.58</td>\n",
       "      <td>192.899994</td>\n",
       "      <td>0.10</td>\n",
       "      <td>62.880001</td>\n",
       "      <td>60.1650</td>\n",
       "      <td>64.016678</td>\n",
       "      <td>64.786144</td>\n",
       "      <td>60.1650</td>\n",
       "      <td>55.543856</td>\n",
       "    </tr>\n",
       "    <tr>\n",
       "      <th>2014-06-03</th>\n",
       "      <td>32217000.0</td>\n",
       "      <td>11.87</td>\n",
       "      <td>192.800003</td>\n",
       "      <td>0.10</td>\n",
       "      <td>65.769997</td>\n",
       "      <td>60.2475</td>\n",
       "      <td>62.466384</td>\n",
       "      <td>65.004854</td>\n",
       "      <td>60.2475</td>\n",
       "      <td>55.490146</td>\n",
       "    </tr>\n",
       "  </tbody>\n",
       "</table>\n",
       "</div>"
      ],
      "text/plain": [
       "                Volume  Fear_index   SPY_index  FEDFUNDS     Target       MA  \\\n",
       "date                                                                           \n",
       "2014-05-28  47795000.0       11.68  191.380005      0.09  63.340000  59.7240   \n",
       "2014-05-29  42700000.0       11.57  192.369995      0.09  63.189999  59.9265   \n",
       "2014-05-30  45253500.0       11.40  192.679993      0.09  62.500000  60.0340   \n",
       "2014-06-02  35996000.0       11.58  192.899994      0.10  62.880001  60.1650   \n",
       "2014-06-03  32217000.0       11.87  192.800003      0.10  65.769997  60.2475   \n",
       "\n",
       "                  RSI   BB_UPPER  BB_MIDDLE   BB_LOWER  \n",
       "date                                                    \n",
       "2014-05-28  68.405903  63.479537    59.7240  55.968463  \n",
       "2014-05-29  69.443644  64.107416    59.9265  55.745584  \n",
       "2014-05-30  65.600407  64.451255    60.0340  55.616745  \n",
       "2014-06-02  64.016678  64.786144    60.1650  55.543856  \n",
       "2014-06-03  62.466384  65.004854    60.2475  55.490146  "
      ]
     },
     "execution_count": 15,
     "metadata": {},
     "output_type": "execute_result"
    }
   ],
   "source": [
    "data_clean.head()"
   ]
  },
  {
   "cell_type": "code",
   "execution_count": 16,
   "id": "cec6f6cb-cf01-48b6-b919-332d7b4681ec",
   "metadata": {
    "tags": []
   },
   "outputs": [],
   "source": [
    "# Define date cutoff for data split\n",
    "date_cutoff = \"2022-04-30\"\n",
    "\n",
    "# Split data\n",
    "X_train = X[X.index <= date_cutoff]\n",
    "X_test = X[X.index > date_cutoff]\n",
    "y_train = y[y.index <= date_cutoff]\n",
    "y_test = y[y.index > date_cutoff]"
   ]
  },
  {
   "cell_type": "code",
   "execution_count": 17,
   "id": "4e459bf4-ea81-4541-8a42-47241c7a9aa4",
   "metadata": {
    "tags": []
   },
   "outputs": [],
   "source": [
    "# Scale data\n",
    "scaler = StandardScaler()\n",
    "X_train_scaled = scaler.fit_transform(X_train)\n",
    "X_test_scaled = scaler.transform(X_test)\n"
   ]
  },
  {
   "cell_type": "code",
   "execution_count": 18,
   "id": "c61e3794-329e-42f8-aac1-fc0360117d98",
   "metadata": {
    "tags": []
   },
   "outputs": [
    {
     "name": "stderr",
     "output_type": "stream",
     "text": [
      "/Users/kd17/anaconda3/lib/python3.11/site-packages/keras/src/layers/core/dense.py:86: UserWarning: Do not pass an `input_shape`/`input_dim` argument to a layer. When using Sequential models, prefer using an `Input(shape)` object as the first layer in the model instead.\n",
      "  super().__init__(activity_regularizer=activity_regularizer, **kwargs)\n"
     ]
    },
    {
     "name": "stdout",
     "output_type": "stream",
     "text": [
      "\u001b[1m57/57\u001b[0m \u001b[32m━━━━━━━━━━━━━━━━━━━━\u001b[0m\u001b[37m\u001b[0m \u001b[1m0s\u001b[0m 576us/step\n",
      "\u001b[1m7/7\u001b[0m \u001b[32m━━━━━━━━━━━━━━━━━━━━\u001b[0m\u001b[37m\u001b[0m \u001b[1m0s\u001b[0m 828us/step\n",
      "\u001b[1m57/57\u001b[0m \u001b[32m━━━━━━━━━━━━━━━━━━━━\u001b[0m\u001b[37m\u001b[0m \u001b[1m0s\u001b[0m 355us/step\n",
      "\u001b[1m7/7\u001b[0m \u001b[32m━━━━━━━━━━━━━━━━━━━━\u001b[0m\u001b[37m\u001b[0m \u001b[1m0s\u001b[0m 565us/step\n",
      "\u001b[1m57/57\u001b[0m \u001b[32m━━━━━━━━━━━━━━━━━━━━\u001b[0m\u001b[37m\u001b[0m \u001b[1m0s\u001b[0m 370us/step\n",
      "\u001b[1m7/7\u001b[0m \u001b[32m━━━━━━━━━━━━━━━━━━━━\u001b[0m\u001b[37m\u001b[0m \u001b[1m0s\u001b[0m 525us/step\n",
      "\u001b[1m57/57\u001b[0m \u001b[32m━━━━━━━━━━━━━━━━━━━━\u001b[0m\u001b[37m\u001b[0m \u001b[1m0s\u001b[0m 390us/step\n",
      "\u001b[1m7/7\u001b[0m \u001b[32m━━━━━━━━━━━━━━━━━━━━\u001b[0m\u001b[37m\u001b[0m \u001b[1m0s\u001b[0m 513us/step\n",
      "\u001b[1m57/57\u001b[0m \u001b[32m━━━━━━━━━━━━━━━━━━━━\u001b[0m\u001b[37m\u001b[0m \u001b[1m0s\u001b[0m 338us/step\n",
      "\u001b[1m7/7\u001b[0m \u001b[32m━━━━━━━━━━━━━━━━━━━━\u001b[0m\u001b[37m\u001b[0m \u001b[1m0s\u001b[0m 519us/step\n",
      "\u001b[1m57/57\u001b[0m \u001b[32m━━━━━━━━━━━━━━━━━━━━\u001b[0m\u001b[37m\u001b[0m \u001b[1m0s\u001b[0m 369us/step\n",
      "\u001b[1m7/7\u001b[0m \u001b[32m━━━━━━━━━━━━━━━━━━━━\u001b[0m\u001b[37m\u001b[0m \u001b[1m0s\u001b[0m 533us/step\n",
      "\u001b[1m57/57\u001b[0m \u001b[32m━━━━━━━━━━━━━━━━━━━━\u001b[0m\u001b[37m\u001b[0m \u001b[1m0s\u001b[0m 370us/step\n",
      "\u001b[1m7/7\u001b[0m \u001b[32m━━━━━━━━━━━━━━━━━━━━\u001b[0m\u001b[37m\u001b[0m \u001b[1m0s\u001b[0m 539us/step\n",
      "\u001b[1m57/57\u001b[0m \u001b[32m━━━━━━━━━━━━━━━━━━━━\u001b[0m\u001b[37m\u001b[0m \u001b[1m0s\u001b[0m 339us/step\n",
      "\u001b[1m7/7\u001b[0m \u001b[32m━━━━━━━━━━━━━━━━━━━━\u001b[0m\u001b[37m\u001b[0m \u001b[1m0s\u001b[0m 521us/step\n",
      "\u001b[1m57/57\u001b[0m \u001b[32m━━━━━━━━━━━━━━━━━━━━\u001b[0m\u001b[37m\u001b[0m \u001b[1m0s\u001b[0m 386us/step\n",
      "\u001b[1m7/7\u001b[0m \u001b[32m━━━━━━━━━━━━━━━━━━━━\u001b[0m\u001b[37m\u001b[0m \u001b[1m0s\u001b[0m 485us/step\n",
      "\u001b[1m57/57\u001b[0m \u001b[32m━━━━━━━━━━━━━━━━━━━━\u001b[0m\u001b[37m\u001b[0m \u001b[1m0s\u001b[0m 358us/step\n",
      "\u001b[1m7/7\u001b[0m \u001b[32m━━━━━━━━━━━━━━━━━━━━\u001b[0m\u001b[37m\u001b[0m \u001b[1m0s\u001b[0m 507us/step\n",
      "Average R-squared (Train): -4.938114186766835\n",
      "Average R-squared (Test): -5.026772554107444\n"
     ]
    }
   ],
   "source": [
    "# Define the number of folds\n",
    "k = 10\n",
    "\n",
    "# Initialize lists to store R-squared scores\n",
    "train_r2_scores = []\n",
    "test_r2_scores = []\n",
    "\n",
    "# Initialize KFold\n",
    "kf = KFold(n_splits=k, shuffle=True)\n",
    "\n",
    "# Define the model architecture\n",
    "model = Sequential([\n",
    "    Dense(units=16, activation='relu', kernel_regularizer=l2(0.0005), input_shape=(X_train_scaled.shape[1],)),\n",
    "    Dropout(0.6),\n",
    "    Dense(units=8, activation='relu', kernel_regularizer=l2(0.0005)),\n",
    "    Dropout(0.6),\n",
    "    Dense(units=1)\n",
    "])\n",
    "\n",
    "# Example: Train with a smaller learning rate\n",
    "from keras.optimizers import Adam\n",
    "adam = Adam(learning_rate=0.0001)  # Adjust learning rate as needed\n",
    "model.compile(optimizer=adam, loss='mean_squared_error')\n",
    "model.fit(X_train, y_train, epochs=50, batch_size=32, verbose=0)\n",
    "\n",
    "# Compile the model\n",
    "model.compile(optimizer=adam, loss='mean_squared_error')\n",
    "\n",
    "# Perform k-fold cross-validation\n",
    "for train_index, test_index in kf.split(X_train_scaled):\n",
    "    X_train_cv, X_test_cv = X_train_scaled[train_index], X_train_scaled[test_index]\n",
    "    y_train_cv, y_test_cv = y_train[train_index], y_train[test_index]\n",
    "    \n",
    "    \n",
    "    # Evaluate the model on training data\n",
    "    train_predictions = model.predict(X_train_cv)\n",
    "    train_r2 = r2_score(y_train_cv, train_predictions)\n",
    "    train_r2_scores.append(train_r2)\n",
    "    \n",
    "    # Evaluate the model on test data\n",
    "    test_predictions = model.predict(X_test_cv)\n",
    "    test_r2 = r2_score(y_test_cv, test_predictions)\n",
    "    test_r2_scores.append(test_r2)\n",
    "\n",
    "# Calculate average R-squared scores\n",
    "avg_train_r2 = np.mean(train_r2_scores)\n",
    "avg_test_r2 = np.mean(test_r2_scores)\n",
    "\n",
    "print(\"Average R-squared (Train):\", avg_train_r2)\n",
    "print(\"Average R-squared (Test):\", avg_test_r2)"
   ]
  },
  {
   "cell_type": "code",
   "execution_count": 19,
   "id": "074cb196-c266-4c1f-91d0-4f797d106188",
   "metadata": {
    "tags": []
   },
   "outputs": [
    {
     "name": "stderr",
     "output_type": "stream",
     "text": [
      "/Users/kd17/anaconda3/lib/python3.11/site-packages/keras/src/layers/core/dense.py:86: UserWarning: Do not pass an `input_shape`/`input_dim` argument to a layer. When using Sequential models, prefer using an `Input(shape)` object as the first layer in the model instead.\n",
      "  super().__init__(activity_regularizer=activity_regularizer, **kwargs)\n"
     ]
    },
    {
     "name": "stdout",
     "output_type": "stream",
     "text": [
      "\u001b[1m57/57\u001b[0m \u001b[32m━━━━━━━━━━━━━━━━━━━━\u001b[0m\u001b[37m\u001b[0m \u001b[1m0s\u001b[0m 602us/step\n",
      "\u001b[1m7/7\u001b[0m \u001b[32m━━━━━━━━━━━━━━━━━━━━\u001b[0m\u001b[37m\u001b[0m \u001b[1m0s\u001b[0m 523us/step\n"
     ]
    },
    {
     "name": "stderr",
     "output_type": "stream",
     "text": [
      "/Users/kd17/anaconda3/lib/python3.11/site-packages/keras/src/layers/core/dense.py:86: UserWarning: Do not pass an `input_shape`/`input_dim` argument to a layer. When using Sequential models, prefer using an `Input(shape)` object as the first layer in the model instead.\n",
      "  super().__init__(activity_regularizer=activity_regularizer, **kwargs)\n"
     ]
    },
    {
     "name": "stdout",
     "output_type": "stream",
     "text": [
      "\u001b[1m57/57\u001b[0m \u001b[32m━━━━━━━━━━━━━━━━━━━━\u001b[0m\u001b[37m\u001b[0m \u001b[1m0s\u001b[0m 582us/step\n",
      "\u001b[1m7/7\u001b[0m \u001b[32m━━━━━━━━━━━━━━━━━━━━\u001b[0m\u001b[37m\u001b[0m \u001b[1m0s\u001b[0m 496us/step\n"
     ]
    },
    {
     "name": "stderr",
     "output_type": "stream",
     "text": [
      "/Users/kd17/anaconda3/lib/python3.11/site-packages/keras/src/layers/core/dense.py:86: UserWarning: Do not pass an `input_shape`/`input_dim` argument to a layer. When using Sequential models, prefer using an `Input(shape)` object as the first layer in the model instead.\n",
      "  super().__init__(activity_regularizer=activity_regularizer, **kwargs)\n"
     ]
    },
    {
     "name": "stdout",
     "output_type": "stream",
     "text": [
      "\u001b[1m57/57\u001b[0m \u001b[32m━━━━━━━━━━━━━━━━━━━━\u001b[0m\u001b[37m\u001b[0m \u001b[1m0s\u001b[0m 572us/step\n",
      "\u001b[1m7/7\u001b[0m \u001b[32m━━━━━━━━━━━━━━━━━━━━\u001b[0m\u001b[37m\u001b[0m \u001b[1m0s\u001b[0m 639us/step\n"
     ]
    },
    {
     "name": "stderr",
     "output_type": "stream",
     "text": [
      "/Users/kd17/anaconda3/lib/python3.11/site-packages/keras/src/layers/core/dense.py:86: UserWarning: Do not pass an `input_shape`/`input_dim` argument to a layer. When using Sequential models, prefer using an `Input(shape)` object as the first layer in the model instead.\n",
      "  super().__init__(activity_regularizer=activity_regularizer, **kwargs)\n"
     ]
    },
    {
     "name": "stdout",
     "output_type": "stream",
     "text": [
      "\u001b[1m57/57\u001b[0m \u001b[32m━━━━━━━━━━━━━━━━━━━━\u001b[0m\u001b[37m\u001b[0m \u001b[1m0s\u001b[0m 733us/step\n",
      "\u001b[1m7/7\u001b[0m \u001b[32m━━━━━━━━━━━━━━━━━━━━\u001b[0m\u001b[37m\u001b[0m \u001b[1m0s\u001b[0m 582us/step\n"
     ]
    },
    {
     "name": "stderr",
     "output_type": "stream",
     "text": [
      "/Users/kd17/anaconda3/lib/python3.11/site-packages/keras/src/layers/core/dense.py:86: UserWarning: Do not pass an `input_shape`/`input_dim` argument to a layer. When using Sequential models, prefer using an `Input(shape)` object as the first layer in the model instead.\n",
      "  super().__init__(activity_regularizer=activity_regularizer, **kwargs)\n"
     ]
    },
    {
     "name": "stdout",
     "output_type": "stream",
     "text": [
      "\u001b[1m57/57\u001b[0m \u001b[32m━━━━━━━━━━━━━━━━━━━━\u001b[0m\u001b[37m\u001b[0m \u001b[1m0s\u001b[0m 630us/step\n",
      "\u001b[1m7/7\u001b[0m \u001b[32m━━━━━━━━━━━━━━━━━━━━\u001b[0m\u001b[37m\u001b[0m \u001b[1m0s\u001b[0m 607us/step\n"
     ]
    },
    {
     "name": "stderr",
     "output_type": "stream",
     "text": [
      "/Users/kd17/anaconda3/lib/python3.11/site-packages/keras/src/layers/core/dense.py:86: UserWarning: Do not pass an `input_shape`/`input_dim` argument to a layer. When using Sequential models, prefer using an `Input(shape)` object as the first layer in the model instead.\n",
      "  super().__init__(activity_regularizer=activity_regularizer, **kwargs)\n"
     ]
    },
    {
     "name": "stdout",
     "output_type": "stream",
     "text": [
      "\u001b[1m57/57\u001b[0m \u001b[32m━━━━━━━━━━━━━━━━━━━━\u001b[0m\u001b[37m\u001b[0m \u001b[1m0s\u001b[0m 578us/step\n",
      "\u001b[1m7/7\u001b[0m \u001b[32m━━━━━━━━━━━━━━━━━━━━\u001b[0m\u001b[37m\u001b[0m \u001b[1m0s\u001b[0m 633us/step\n"
     ]
    },
    {
     "name": "stderr",
     "output_type": "stream",
     "text": [
      "/Users/kd17/anaconda3/lib/python3.11/site-packages/keras/src/layers/core/dense.py:86: UserWarning: Do not pass an `input_shape`/`input_dim` argument to a layer. When using Sequential models, prefer using an `Input(shape)` object as the first layer in the model instead.\n",
      "  super().__init__(activity_regularizer=activity_regularizer, **kwargs)\n"
     ]
    },
    {
     "name": "stdout",
     "output_type": "stream",
     "text": [
      "\u001b[1m57/57\u001b[0m \u001b[32m━━━━━━━━━━━━━━━━━━━━\u001b[0m\u001b[37m\u001b[0m \u001b[1m0s\u001b[0m 640us/step\n",
      "\u001b[1m7/7\u001b[0m \u001b[32m━━━━━━━━━━━━━━━━━━━━\u001b[0m\u001b[37m\u001b[0m \u001b[1m0s\u001b[0m 516us/step\n"
     ]
    },
    {
     "name": "stderr",
     "output_type": "stream",
     "text": [
      "/Users/kd17/anaconda3/lib/python3.11/site-packages/keras/src/layers/core/dense.py:86: UserWarning: Do not pass an `input_shape`/`input_dim` argument to a layer. When using Sequential models, prefer using an `Input(shape)` object as the first layer in the model instead.\n",
      "  super().__init__(activity_regularizer=activity_regularizer, **kwargs)\n"
     ]
    },
    {
     "name": "stdout",
     "output_type": "stream",
     "text": [
      "\u001b[1m57/57\u001b[0m \u001b[32m━━━━━━━━━━━━━━━━━━━━\u001b[0m\u001b[37m\u001b[0m \u001b[1m0s\u001b[0m 663us/step\n",
      "\u001b[1m7/7\u001b[0m \u001b[32m━━━━━━━━━━━━━━━━━━━━\u001b[0m\u001b[37m\u001b[0m \u001b[1m0s\u001b[0m 525us/step\n"
     ]
    },
    {
     "name": "stderr",
     "output_type": "stream",
     "text": [
      "/Users/kd17/anaconda3/lib/python3.11/site-packages/keras/src/layers/core/dense.py:86: UserWarning: Do not pass an `input_shape`/`input_dim` argument to a layer. When using Sequential models, prefer using an `Input(shape)` object as the first layer in the model instead.\n",
      "  super().__init__(activity_regularizer=activity_regularizer, **kwargs)\n"
     ]
    },
    {
     "name": "stdout",
     "output_type": "stream",
     "text": [
      "\u001b[1m57/57\u001b[0m \u001b[32m━━━━━━━━━━━━━━━━━━━━\u001b[0m\u001b[37m\u001b[0m \u001b[1m0s\u001b[0m 694us/step\n",
      "\u001b[1m7/7\u001b[0m \u001b[32m━━━━━━━━━━━━━━━━━━━━\u001b[0m\u001b[37m\u001b[0m \u001b[1m0s\u001b[0m 514us/step\n"
     ]
    },
    {
     "name": "stderr",
     "output_type": "stream",
     "text": [
      "/Users/kd17/anaconda3/lib/python3.11/site-packages/keras/src/layers/core/dense.py:86: UserWarning: Do not pass an `input_shape`/`input_dim` argument to a layer. When using Sequential models, prefer using an `Input(shape)` object as the first layer in the model instead.\n",
      "  super().__init__(activity_regularizer=activity_regularizer, **kwargs)\n"
     ]
    },
    {
     "name": "stdout",
     "output_type": "stream",
     "text": [
      "\u001b[1m57/57\u001b[0m \u001b[32m━━━━━━━━━━━━━━━━━━━━\u001b[0m\u001b[37m\u001b[0m \u001b[1m0s\u001b[0m 608us/step\n",
      "\u001b[1m7/7\u001b[0m \u001b[32m━━━━━━━━━━━━━━━━━━━━\u001b[0m\u001b[37m\u001b[0m \u001b[1m0s\u001b[0m 568us/step\n",
      "Model 1 - Train R-squared: 0.8769310379516377, Test R-squared: 0.885301878973993, Train MAE: 24.811057914230197, Train MSE: 745.8128141800286, Test MAE: 25.966108471951628, Test MSE: 818.2729682003719\n",
      "Model 2 - Train R-squared: 0.8342111330512477, Test R-squared: 0.836674549118445, Train MAE: 28.404942422685078, Train MSE: 1028.1250963974662, Test MAE: 27.03012149718755, Test MSE: 957.4510063003282\n",
      "Model 3 - Train R-squared: 0.90935764112044, Test R-squared: 0.8734334694212852, Train MAE: 21.439295363572494, Train MSE: 571.148364115367, Test MAE: 22.445974953033147, Test MSE: 627.5428837559352\n",
      "Model 4 - Train R-squared: 0.9133911361223946, Test R-squared: 0.9106347653033359, Train MAE: 20.60768333549215, Train MSE: 534.735869801882, Test MAE: 21.19981073193601, Test MSE: 548.5410996626371\n",
      "Model 5 - Train R-squared: 0.8701335797503598, Test R-squared: 0.8805461248823038, Train MAE: 25.172202811332053, Train MSE: 794.5114630415716, Test MAE: 25.346486653110013, Test MSE: 797.9860447389353\n",
      "Model 6 - Train R-squared: 0.8663575725350383, Test R-squared: 0.8751447314717256, Train MAE: 25.45558317257795, Train MSE: 818.9736223108274, Test MAE: 25.230890962229513, Test MSE: 819.1944348929723\n",
      "Model 7 - Train R-squared: 0.9057463124772043, Test R-squared: 0.9048279898189147, Train MAE: 21.5693510023611, Train MSE: 581.1444882845861, Test MAE: 21.503828541270696, Test MSE: 595.1091184966203\n",
      "Model 8 - Train R-squared: 0.9004886874528754, Test R-squared: 0.8903028678030429, Train MAE: 22.116781288374064, Train MSE: 618.4075773077262, Test MAE: 22.51152381529486, Test MSE: 637.5982476761608\n",
      "Model 9 - Train R-squared: 0.8969089568148767, Test R-squared: 0.8881374706340606, Train MAE: 23.084807563642283, Train MSE: 643.9025513091584, Test MAE: 22.551179080508103, Test MSE: 618.7018430203167\n",
      "Model 10 - Train R-squared: 0.891580757639062, Test R-squared: 0.9040247302311196, Train MAE: 22.303606827731418, Train MSE: 665.3806296195997, Test MAE: 21.8533279375826, Test MSE: 625.4245013854807\n"
     ]
    }
   ],
   "source": [
    "from keras.models import Sequential\n",
    "from keras.layers import Dense, Dropout\n",
    "from keras.optimizers import Adam\n",
    "from sklearn.metrics import mean_absolute_error, mean_squared_error, r2_score\n",
    "\n",
    "# Initialize lists to store metrics for selected models\n",
    "selected_train_r2 = []\n",
    "selected_test_r2 = []\n",
    "selected_train_mae = []\n",
    "selected_train_mse = []\n",
    "selected_test_mae = []\n",
    "selected_test_mse = []\n",
    "\n",
    "# Perform k-fold cross-validation\n",
    "for train_index, test_index in kf.split(X_train_scaled):\n",
    "    X_train_cv, X_test_cv = X_train_scaled[train_index], X_train_scaled[test_index]\n",
    "    y_train_cv, y_test_cv = y_train[train_index], y_train[test_index]\n",
    "    \n",
    "    # Define a new model for each fold\n",
    "    model_fold = Sequential([\n",
    "        Dense(32, activation='relu', input_shape=(X_train_cv.shape[1],)),\n",
    "        Dropout(0.5),  # Dropout layer with a dropout rate of 0.5\n",
    "        Dense(16, activation='relu'),\n",
    "        Dropout(0.5),  # Dropout layer with a dropout rate of 0.5\n",
    "        Dense(1)  # Output layer\n",
    "    ])\n",
    "    \n",
    "    # Compile the model with Adam optimizer and mean squared error loss\n",
    "    model_fold.compile(optimizer=Adam(learning_rate=0.001), loss='mean_squared_error')\n",
    "    \n",
    "    # Train the model\n",
    "    model_fold.fit(X_train_cv, y_train_cv, epochs=50, batch_size=32, verbose=0)\n",
    "    \n",
    "    # Evaluate the model on training data\n",
    "    train_predictions = model_fold.predict(X_train_cv)\n",
    "    train_r2 = r2_score(y_train_cv, train_predictions)\n",
    "    train_mae = mean_absolute_error(y_train_cv, train_predictions)\n",
    "    train_mse = mean_squared_error(y_train_cv, train_predictions)\n",
    "    \n",
    "    # Evaluate the model on test data\n",
    "    test_predictions = model_fold.predict(X_test_cv)\n",
    "    test_r2 = r2_score(y_test_cv, test_predictions)\n",
    "    test_mae = mean_absolute_error(y_test_cv, test_predictions)\n",
    "    test_mse = mean_squared_error(y_test_cv, test_predictions)\n",
    "    \n",
    "    # Append metrics to the lists\n",
    "    selected_train_r2.append(train_r2)\n",
    "    selected_test_r2.append(test_r2)\n",
    "    selected_train_mae.append(train_mae)\n",
    "    selected_train_mse.append(train_mse)\n",
    "    selected_test_mae.append(test_mae)\n",
    "    selected_test_mse.append(test_mse)\n",
    "\n",
    "# Print metrics for selected models\n",
    "for idx, (train_r2, test_r2, train_mae, train_mse, test_mae, test_mse) in enumerate(zip(selected_train_r2, selected_test_r2, selected_train_mae, selected_train_mse, selected_test_mae, selected_test_mse), start=1):\n",
    "    print(f\"Model {idx} - Train R-squared: {train_r2}, Test R-squared: {test_r2}, Train MAE: {train_mae}, Train MSE: {train_mse}, Test MAE: {test_mae}, Test MSE: {test_mse}\")\n"
   ]
  },
  {
   "cell_type": "code",
   "execution_count": 20,
   "id": "7094ec3f-1463-4481-8463-bdf4aff5ac7a",
   "metadata": {
    "tags": []
   },
   "outputs": [
    {
     "name": "stdout",
     "output_type": "stream",
     "text": [
      "Best Model - Train R-squared: 0.9057463124772043, Test R-squared: 0.9048279898189147, Train MAE: 21.5693510023611, Train MSE: 581.1444882845861, Test MAE: 21.503828541270696, Test MSE: 595.1091184966203\n"
     ]
    }
   ],
   "source": [
    "# Filter models where both Train R-squared and Test R-squared are less than 0.96\n",
    "filtered_indices = [i for i, (train_r2, test_r2) in enumerate(zip(selected_train_r2, selected_test_r2)) if train_r2 < 0.96 and test_r2 < 0.96]\n",
    "\n",
    "# Calculate the absolute difference between train R-squared and test R-squared values for filtered models\n",
    "abs_diff_r2_filtered = np.abs(np.array(selected_train_r2)[filtered_indices] - np.array(selected_test_r2)[filtered_indices])\n",
    "\n",
    "# Find the index of the model with the smallest absolute difference among filtered models\n",
    "best_model_index = filtered_indices[np.argmin(abs_diff_r2_filtered)]\n",
    "\n",
    "# Retrieve the metrics for the best model\n",
    "best_train_r2 = selected_train_r2[best_model_index]\n",
    "best_test_r2 = selected_test_r2[best_model_index]\n",
    "best_train_mae = selected_train_mae[best_model_index]\n",
    "best_train_mse = selected_train_mse[best_model_index]\n",
    "best_test_mae = selected_test_mae[best_model_index]\n",
    "best_test_mse = selected_test_mse[best_model_index]\n",
    "\n",
    "# Print metrics for the best model\n",
    "print(f\"Best Model - Train R-squared: {best_train_r2}, Test R-squared: {best_test_r2}, Train MAE: {best_train_mae}, Train MSE: {best_train_mse}, Test MAE: {best_test_mae}, Test MSE: {best_test_mse}\")\n"
   ]
  },
  {
   "cell_type": "code",
   "execution_count": 21,
   "id": "c9b03143-e260-4264-bf4f-eec5abe04168",
   "metadata": {
    "tags": []
   },
   "outputs": [
    {
     "name": "stderr",
     "output_type": "stream",
     "text": [
      "/Users/kd17/anaconda3/lib/python3.11/site-packages/keras/src/layers/core/dense.py:86: UserWarning: Do not pass an `input_shape`/`input_dim` argument to a layer. When using Sequential models, prefer using an `Input(shape)` object as the first layer in the model instead.\n",
      "  super().__init__(activity_regularizer=activity_regularizer, **kwargs)\n"
     ]
    },
    {
     "name": "stdout",
     "output_type": "stream",
     "text": [
      "\u001b[1m78/78\u001b[0m \u001b[32m━━━━━━━━━━━━━━━━━━━━\u001b[0m\u001b[37m\u001b[0m \u001b[1m0s\u001b[0m 519us/step\n"
     ]
    },
    {
     "data": {
      "text/html": [
       "<div>\n",
       "<style scoped>\n",
       "    .dataframe tbody tr th:only-of-type {\n",
       "        vertical-align: middle;\n",
       "    }\n",
       "\n",
       "    .dataframe tbody tr th {\n",
       "        vertical-align: top;\n",
       "    }\n",
       "\n",
       "    .dataframe thead th {\n",
       "        text-align: right;\n",
       "    }\n",
       "</style>\n",
       "<table border=\"1\" class=\"dataframe\">\n",
       "  <thead>\n",
       "    <tr style=\"text-align: right;\">\n",
       "      <th></th>\n",
       "      <th>Actual</th>\n",
       "      <th>Predicted</th>\n",
       "    </tr>\n",
       "    <tr>\n",
       "      <th>date</th>\n",
       "      <th></th>\n",
       "      <th></th>\n",
       "    </tr>\n",
       "  </thead>\n",
       "  <tbody>\n",
       "    <tr>\n",
       "      <th>2014-05-28</th>\n",
       "      <td>63.509998</td>\n",
       "      <td>55.932026</td>\n",
       "    </tr>\n",
       "    <tr>\n",
       "      <th>2014-05-29</th>\n",
       "      <td>63.830002</td>\n",
       "      <td>55.937088</td>\n",
       "    </tr>\n",
       "    <tr>\n",
       "      <th>2014-05-30</th>\n",
       "      <td>63.299999</td>\n",
       "      <td>55.723701</td>\n",
       "    </tr>\n",
       "    <tr>\n",
       "      <th>2014-06-02</th>\n",
       "      <td>63.080002</td>\n",
       "      <td>57.775307</td>\n",
       "    </tr>\n",
       "    <tr>\n",
       "      <th>2014-06-03</th>\n",
       "      <td>62.869999</td>\n",
       "      <td>59.132324</td>\n",
       "    </tr>\n",
       "    <tr>\n",
       "      <th>...</th>\n",
       "      <td>...</td>\n",
       "      <td>...</td>\n",
       "    </tr>\n",
       "    <tr>\n",
       "      <th>2024-03-18</th>\n",
       "      <td>496.980011</td>\n",
       "      <td>375.981262</td>\n",
       "    </tr>\n",
       "    <tr>\n",
       "      <th>2024-03-19</th>\n",
       "      <td>496.239990</td>\n",
       "      <td>374.699249</td>\n",
       "    </tr>\n",
       "    <tr>\n",
       "      <th>2024-03-20</th>\n",
       "      <td>505.519989</td>\n",
       "      <td>380.589722</td>\n",
       "    </tr>\n",
       "    <tr>\n",
       "      <th>2024-03-21</th>\n",
       "      <td>507.760010</td>\n",
       "      <td>387.057434</td>\n",
       "    </tr>\n",
       "    <tr>\n",
       "      <th>2024-03-22</th>\n",
       "      <td>509.579987</td>\n",
       "      <td>386.689667</td>\n",
       "    </tr>\n",
       "  </tbody>\n",
       "</table>\n",
       "<p>2473 rows × 2 columns</p>\n",
       "</div>"
      ],
      "text/plain": [
       "                Actual   Predicted\n",
       "date                              \n",
       "2014-05-28   63.509998   55.932026\n",
       "2014-05-29   63.830002   55.937088\n",
       "2014-05-30   63.299999   55.723701\n",
       "2014-06-02   63.080002   57.775307\n",
       "2014-06-03   62.869999   59.132324\n",
       "...                ...         ...\n",
       "2024-03-18  496.980011  375.981262\n",
       "2024-03-19  496.239990  374.699249\n",
       "2024-03-20  505.519989  380.589722\n",
       "2024-03-21  507.760010  387.057434\n",
       "2024-03-22  509.579987  386.689667\n",
       "\n",
       "[2473 rows x 2 columns]"
      ]
     },
     "execution_count": 21,
     "metadata": {},
     "output_type": "execute_result"
    }
   ],
   "source": [
    "# Scale data\n",
    "scaler = StandardScaler()\n",
    "X_scaled = scaler.fit_transform(X)\n",
    "\n",
    "# Define the model architecture\n",
    "model = Sequential([\n",
    "    Dense(units=16, activation='relu', kernel_regularizer=l2(0.0005), input_shape=(X_scaled.shape[1],)),\n",
    "    Dropout(0.6),\n",
    "    Dense(units=8, activation='relu', kernel_regularizer=l2(0.0005)),\n",
    "    Dropout(0.6),\n",
    "    Dense(units=1)\n",
    "])\n",
    "\n",
    "# Compile the model\n",
    "model.compile(optimizer='adam', loss='mean_squared_error')\n",
    "\n",
    "# Train the model on the entire dataset\n",
    "model.fit(X_scaled, y, epochs=50, batch_size=32, verbose=0)\n",
    "\n",
    "# Predict sequentially on each data point\n",
    "all_predictions = model.predict(X_scaled)\n",
    "\n",
    "# Ensure the number of predictions matches the original dataset\n",
    "assert len(all_predictions) == len(X_scaled)\n",
    "\n",
    "# Create a DataFrame to store the actual and predicted values\n",
    "predictions_df = pd.DataFrame({'Actual': y, 'Predicted': all_predictions.flatten()}, index=X.index)\n",
    "\n",
    "# Ensure index uniqueness in both the original dataset and predictions DataFrame\n",
    "data_clean_unique_index = data_clean.index.drop_duplicates()\n",
    "predictions_df = predictions_df.loc[data_clean_unique_index]\n",
    "\n",
    "# Display the DataFrame\n",
    "predictions_df\n"
   ]
  },
  {
   "cell_type": "code",
   "execution_count": 22,
   "id": "3c4f56dd-4166-437a-acc3-a3ca60101925",
   "metadata": {},
   "outputs": [],
   "source": [
    "predictions_df.to_csv('../predicted_data/META_predicted_data.csv', index=True)"
   ]
  },
  {
   "cell_type": "code",
   "execution_count": 23,
   "id": "bf9eec8a-0087-4ed2-b1fe-d729bce29303",
   "metadata": {
    "tags": []
   },
   "outputs": [
    {
     "name": "stdout",
     "output_type": "stream",
     "text": [
      "No NaN values found in the predictions DataFrame.\n",
      "                Actual   Predicted\n",
      "date                              \n",
      "2014-05-28   63.509998   55.932026\n",
      "2014-05-29   63.830002   55.937088\n",
      "2014-05-30   63.299999   55.723701\n",
      "2014-06-02   63.080002   57.775307\n",
      "2014-06-03   62.869999   59.132324\n",
      "...                ...         ...\n",
      "2024-03-18  496.980011  375.981262\n",
      "2024-03-19  496.239990  374.699249\n",
      "2024-03-20  505.519989  380.589722\n",
      "2024-03-21  507.760010  387.057434\n",
      "2024-03-22  509.579987  386.689667\n",
      "\n",
      "[2473 rows x 2 columns]\n"
     ]
    }
   ],
   "source": [
    "# Check for NaN values in the predictions DataFrame\n",
    "nan_values = predictions_df.isnull().sum().sum()\n",
    "\n",
    "if nan_values == 0:\n",
    "    print(\"No NaN values found in the predictions DataFrame.\")\n",
    "    print(predictions_df)\n",
    "else:\n",
    "    print(f\"Found {nan_values} NaN values in the predictions DataFrame. Please check your data or model.\")\n"
   ]
  },
  {
   "cell_type": "code",
   "execution_count": 24,
   "id": "f1ae4359-1c20-490c-81ec-5024a1a006fe",
   "metadata": {
    "tags": []
   },
   "outputs": [
    {
     "data": {
      "text/html": [
       "<div>\n",
       "<style scoped>\n",
       "    .dataframe tbody tr th:only-of-type {\n",
       "        vertical-align: middle;\n",
       "    }\n",
       "\n",
       "    .dataframe tbody tr th {\n",
       "        vertical-align: top;\n",
       "    }\n",
       "\n",
       "    .dataframe thead th {\n",
       "        text-align: right;\n",
       "    }\n",
       "</style>\n",
       "<table border=\"1\" class=\"dataframe\">\n",
       "  <thead>\n",
       "    <tr style=\"text-align: right;\">\n",
       "      <th></th>\n",
       "      <th>Actual</th>\n",
       "      <th>Predicted</th>\n",
       "      <th>Percentage Difference (%)</th>\n",
       "    </tr>\n",
       "    <tr>\n",
       "      <th>date</th>\n",
       "      <th></th>\n",
       "      <th></th>\n",
       "      <th></th>\n",
       "    </tr>\n",
       "  </thead>\n",
       "  <tbody>\n",
       "    <tr>\n",
       "      <th>2014-05-28</th>\n",
       "      <td>63.509998</td>\n",
       "      <td>55.932026</td>\n",
       "      <td>-11.931936</td>\n",
       "    </tr>\n",
       "    <tr>\n",
       "      <th>2014-05-29</th>\n",
       "      <td>63.830002</td>\n",
       "      <td>55.937088</td>\n",
       "      <td>-12.365524</td>\n",
       "    </tr>\n",
       "    <tr>\n",
       "      <th>2014-05-30</th>\n",
       "      <td>63.299999</td>\n",
       "      <td>55.723701</td>\n",
       "      <td>-11.968875</td>\n",
       "    </tr>\n",
       "    <tr>\n",
       "      <th>2014-06-02</th>\n",
       "      <td>63.080002</td>\n",
       "      <td>57.775307</td>\n",
       "      <td>-8.409472</td>\n",
       "    </tr>\n",
       "    <tr>\n",
       "      <th>2014-06-03</th>\n",
       "      <td>62.869999</td>\n",
       "      <td>59.132324</td>\n",
       "      <td>-5.945085</td>\n",
       "    </tr>\n",
       "    <tr>\n",
       "      <th>...</th>\n",
       "      <td>...</td>\n",
       "      <td>...</td>\n",
       "      <td>...</td>\n",
       "    </tr>\n",
       "    <tr>\n",
       "      <th>2024-03-18</th>\n",
       "      <td>496.980011</td>\n",
       "      <td>375.981262</td>\n",
       "      <td>-24.346804</td>\n",
       "    </tr>\n",
       "    <tr>\n",
       "      <th>2024-03-19</th>\n",
       "      <td>496.239990</td>\n",
       "      <td>374.699249</td>\n",
       "      <td>-24.492331</td>\n",
       "    </tr>\n",
       "    <tr>\n",
       "      <th>2024-03-20</th>\n",
       "      <td>505.519989</td>\n",
       "      <td>380.589722</td>\n",
       "      <td>-24.713220</td>\n",
       "    </tr>\n",
       "    <tr>\n",
       "      <th>2024-03-21</th>\n",
       "      <td>507.760010</td>\n",
       "      <td>387.057434</td>\n",
       "      <td>-23.771580</td>\n",
       "    </tr>\n",
       "    <tr>\n",
       "      <th>2024-03-22</th>\n",
       "      <td>509.579987</td>\n",
       "      <td>386.689667</td>\n",
       "      <td>-24.116002</td>\n",
       "    </tr>\n",
       "  </tbody>\n",
       "</table>\n",
       "<p>2473 rows × 3 columns</p>\n",
       "</div>"
      ],
      "text/plain": [
       "                Actual   Predicted  Percentage Difference (%)\n",
       "date                                                         \n",
       "2014-05-28   63.509998   55.932026                 -11.931936\n",
       "2014-05-29   63.830002   55.937088                 -12.365524\n",
       "2014-05-30   63.299999   55.723701                 -11.968875\n",
       "2014-06-02   63.080002   57.775307                  -8.409472\n",
       "2014-06-03   62.869999   59.132324                  -5.945085\n",
       "...                ...         ...                        ...\n",
       "2024-03-18  496.980011  375.981262                 -24.346804\n",
       "2024-03-19  496.239990  374.699249                 -24.492331\n",
       "2024-03-20  505.519989  380.589722                 -24.713220\n",
       "2024-03-21  507.760010  387.057434                 -23.771580\n",
       "2024-03-22  509.579987  386.689667                 -24.116002\n",
       "\n",
       "[2473 rows x 3 columns]"
      ]
     },
     "execution_count": 24,
     "metadata": {},
     "output_type": "execute_result"
    }
   ],
   "source": [
    "# Calculate the percentage difference between actual and predicted values\n",
    "predictions_df['Percentage Difference (%)'] = ((predictions_df['Predicted'] - predictions_df['Actual']) / predictions_df['Actual']) * 100\n",
    "\n",
    "# Display the DataFrame with percentage difference\n",
    "predictions_df\n"
   ]
  },
  {
   "cell_type": "code",
   "execution_count": 25,
   "id": "39676608-e393-4965-9634-81183fccdfa9",
   "metadata": {
    "tags": []
   },
   "outputs": [
    {
     "name": "stdout",
     "output_type": "stream",
     "text": [
      "Average Percentage Difference (%): 24.875792779886833\n"
     ]
    }
   ],
   "source": [
    "# Calculate the absolute percentage difference for each data point\n",
    "predictions_df['Abs_Percentage_Diff'] = abs((predictions_df['Actual'] - predictions_df['Predicted']) / predictions_df['Actual']) * 100\n",
    "\n",
    "# Calculate the average percentage difference\n",
    "avg_percentage_diff = predictions_df['Abs_Percentage_Diff'].mean()\n",
    "\n",
    "print(\"Average Percentage Difference (%):\", avg_percentage_diff)\n"
   ]
  },
  {
   "cell_type": "code",
   "execution_count": null,
   "id": "9c18352b-c194-4a78-8d1e-ede8600df7bd",
   "metadata": {},
   "outputs": [],
   "source": []
  }
 ],
 "metadata": {
  "kernelspec": {
   "display_name": "Python 3 (ipykernel)",
   "language": "python",
   "name": "python3"
  },
  "language_info": {
   "codemirror_mode": {
    "name": "ipython",
    "version": 3
   },
   "file_extension": ".py",
   "mimetype": "text/x-python",
   "name": "python",
   "nbconvert_exporter": "python",
   "pygments_lexer": "ipython3",
   "version": "3.11.5"
  }
 },
 "nbformat": 4,
 "nbformat_minor": 5
}
