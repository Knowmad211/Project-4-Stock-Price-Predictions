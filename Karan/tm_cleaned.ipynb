{
 "cells": [
  {
   "cell_type": "code",
   "execution_count": 1,
   "id": "18aaeeaa-d541-4664-b14b-c17a0ea02c10",
   "metadata": {
    "tags": []
   },
   "outputs": [],
   "source": [
    "# Import necessary libraries\n",
    "import pandas as pd\n",
    "import numpy as np\n",
    "from pathlib import Path\n",
    "from sklearn.model_selection import train_test_split\n",
    "from sklearn.preprocessing import StandardScaler\n",
    "from sklearn.metrics import mean_squared_error, r2_score\n",
    "from finta import TA\n",
    "import tensorflow as tf\n",
    "from tensorflow.keras.models import Sequential\n",
    "from sklearn.metrics import mean_squared_error, mean_absolute_error, r2_score\n",
    "from tensorflow.keras.models import Model\n",
    "from tensorflow.keras.layers import Input, Dense, Dropout\n",
    "from tensorflow.keras.callbacks import EarlyStopping\n",
    "from keras.regularizers import l2\n",
    "from sklearn.model_selection import KFold"
   ]
  },
  {
   "cell_type": "code",
   "execution_count": 2,
   "id": "51f54f48-589b-460b-a6f1-d6836bb80063",
   "metadata": {
    "tags": []
   },
   "outputs": [],
   "source": [
    "# Load data\n",
    "TM_path = Path(\"../files/TM.csv\")\n",
    "VIX_path = Path(\"../files/^VIX.csv\")\n",
    "FEDFUNDS_path = Path(\"../files/FEDFUNDS (1).csv\")\n",
    "SPY_index = Path(\"../files/SPY.csv\")"
   ]
  },
  {
   "cell_type": "code",
   "execution_count": 3,
   "id": "df386aa6-fd8a-4478-b5d5-e3b66baf5aea",
   "metadata": {
    "tags": []
   },
   "outputs": [],
   "source": [
    "tm_df = pd.read_csv(TM_path, index_col=\"Date\")\n",
    "fear_index_df = pd.read_csv(VIX_path, index_col=\"Date\").rename(columns={\"Close\": \"Fear_index\"})\n",
    "spy_index_df = pd.read_csv(SPY_index, index_col=\"Date\").rename(columns={\"Close\": \"SPY_index\"})\n",
    "fedfunds_df = pd.read_csv(FEDFUNDS_path, index_col=\"DATE\")"
   ]
  },
  {
   "cell_type": "code",
   "execution_count": 4,
   "id": "4827220b-c84e-4b19-93e3-ffcada2c6e00",
   "metadata": {
    "tags": []
   },
   "outputs": [],
   "source": [
    "# Convert index to datetime index\n",
    "fedfunds_df.index = pd.to_datetime(fedfunds_df.index)\n",
    "\n",
    "# Resample the fed_funds_df to have daily frequency and forward fill the values\n",
    "fedfunds_df_monthly = fedfunds_df.resample('D').ffill()\n"
   ]
  },
  {
   "cell_type": "code",
   "execution_count": 5,
   "id": "05262e6e-81b5-430d-ad81-ae35eba6a9b8",
   "metadata": {
    "tags": []
   },
   "outputs": [],
   "source": [
    "# Concatenate dataframes\n",
    "concatenated_df = pd.concat([tm_df, fear_index_df['Fear_index'], spy_index_df['SPY_index']], axis=1)\n",
    "concatenated_df.index = pd.to_datetime(concatenated_df.index)\n"
   ]
  },
  {
   "cell_type": "code",
   "execution_count": 6,
   "id": "e7a63e21-f696-443a-958c-c6989787c0a0",
   "metadata": {
    "tags": []
   },
   "outputs": [],
   "source": [
    "# Merge with fedfunds_df\n",
    "concatenated_df = pd.merge(concatenated_df, fedfunds_df_monthly, left_index=True, right_index=True)\n"
   ]
  },
  {
   "cell_type": "code",
   "execution_count": 7,
   "id": "75e53a60-66bc-46ed-9c77-fb9c8adbace8",
   "metadata": {
    "tags": []
   },
   "outputs": [],
   "source": [
    "# Drop rows with NaN values\n",
    "concatenated_df = concatenated_df.dropna()\n"
   ]
  },
  {
   "cell_type": "code",
   "execution_count": 8,
   "id": "428382f3-b558-4b98-8ca2-8b5648453c0f",
   "metadata": {
    "tags": []
   },
   "outputs": [],
   "source": [
    "# Shift target variable\n",
    "concatenated_df['Target'] = concatenated_df['Close'].shift(-5)\n",
    "concatenated_df = concatenated_df.dropna()"
   ]
  },
  {
   "cell_type": "code",
   "execution_count": 9,
   "id": "06d98239-976c-42ab-8c24-ad92c1eed925",
   "metadata": {
    "tags": []
   },
   "outputs": [
    {
     "data": {
      "text/html": [
       "<div>\n",
       "<style scoped>\n",
       "    .dataframe tbody tr th:only-of-type {\n",
       "        vertical-align: middle;\n",
       "    }\n",
       "\n",
       "    .dataframe tbody tr th {\n",
       "        vertical-align: top;\n",
       "    }\n",
       "\n",
       "    .dataframe thead th {\n",
       "        text-align: right;\n",
       "    }\n",
       "</style>\n",
       "<table border=\"1\" class=\"dataframe\">\n",
       "  <thead>\n",
       "    <tr style=\"text-align: right;\">\n",
       "      <th></th>\n",
       "      <th>Open</th>\n",
       "      <th>High</th>\n",
       "      <th>Low</th>\n",
       "      <th>Close</th>\n",
       "      <th>Adj Close</th>\n",
       "      <th>Volume</th>\n",
       "      <th>Fear_index</th>\n",
       "      <th>SPY_index</th>\n",
       "      <th>FEDFUNDS</th>\n",
       "      <th>Target</th>\n",
       "    </tr>\n",
       "  </thead>\n",
       "  <tbody>\n",
       "    <tr>\n",
       "      <th>2014-04-30</th>\n",
       "      <td>108.000000</td>\n",
       "      <td>108.500000</td>\n",
       "      <td>107.669998</td>\n",
       "      <td>108.419998</td>\n",
       "      <td>100.839981</td>\n",
       "      <td>467700.0</td>\n",
       "      <td>13.41</td>\n",
       "      <td>188.309998</td>\n",
       "      <td>0.09</td>\n",
       "      <td>109.029999</td>\n",
       "    </tr>\n",
       "    <tr>\n",
       "      <th>2014-05-01</th>\n",
       "      <td>110.019997</td>\n",
       "      <td>110.150002</td>\n",
       "      <td>109.370003</td>\n",
       "      <td>109.730003</td>\n",
       "      <td>102.058388</td>\n",
       "      <td>340900.0</td>\n",
       "      <td>13.25</td>\n",
       "      <td>188.330002</td>\n",
       "      <td>0.09</td>\n",
       "      <td>108.150002</td>\n",
       "    </tr>\n",
       "    <tr>\n",
       "      <th>2014-05-02</th>\n",
       "      <td>109.989998</td>\n",
       "      <td>110.180000</td>\n",
       "      <td>109.669998</td>\n",
       "      <td>109.930000</td>\n",
       "      <td>102.244415</td>\n",
       "      <td>420500.0</td>\n",
       "      <td>12.91</td>\n",
       "      <td>188.059998</td>\n",
       "      <td>0.09</td>\n",
       "      <td>108.870003</td>\n",
       "    </tr>\n",
       "    <tr>\n",
       "      <th>2014-05-05</th>\n",
       "      <td>109.779999</td>\n",
       "      <td>109.930000</td>\n",
       "      <td>109.410004</td>\n",
       "      <td>109.440002</td>\n",
       "      <td>101.788673</td>\n",
       "      <td>274800.0</td>\n",
       "      <td>13.29</td>\n",
       "      <td>188.419998</td>\n",
       "      <td>0.09</td>\n",
       "      <td>109.209999</td>\n",
       "    </tr>\n",
       "    <tr>\n",
       "      <th>2014-05-06</th>\n",
       "      <td>109.500000</td>\n",
       "      <td>109.570000</td>\n",
       "      <td>108.720001</td>\n",
       "      <td>109.000000</td>\n",
       "      <td>101.379425</td>\n",
       "      <td>429400.0</td>\n",
       "      <td>13.80</td>\n",
       "      <td>186.779999</td>\n",
       "      <td>0.09</td>\n",
       "      <td>111.379997</td>\n",
       "    </tr>\n",
       "    <tr>\n",
       "      <th>2014-05-07</th>\n",
       "      <td>109.000000</td>\n",
       "      <td>109.139999</td>\n",
       "      <td>108.580002</td>\n",
       "      <td>109.029999</td>\n",
       "      <td>101.407333</td>\n",
       "      <td>319000.0</td>\n",
       "      <td>13.40</td>\n",
       "      <td>187.880005</td>\n",
       "      <td>0.09</td>\n",
       "      <td>110.430000</td>\n",
       "    </tr>\n",
       "    <tr>\n",
       "      <th>2014-05-08</th>\n",
       "      <td>108.500000</td>\n",
       "      <td>108.610001</td>\n",
       "      <td>107.529999</td>\n",
       "      <td>108.150002</td>\n",
       "      <td>100.588860</td>\n",
       "      <td>366500.0</td>\n",
       "      <td>13.43</td>\n",
       "      <td>187.679993</td>\n",
       "      <td>0.09</td>\n",
       "      <td>109.500000</td>\n",
       "    </tr>\n",
       "    <tr>\n",
       "      <th>2014-05-09</th>\n",
       "      <td>108.959999</td>\n",
       "      <td>109.379997</td>\n",
       "      <td>108.529999</td>\n",
       "      <td>108.870003</td>\n",
       "      <td>101.258522</td>\n",
       "      <td>371700.0</td>\n",
       "      <td>12.92</td>\n",
       "      <td>187.960007</td>\n",
       "      <td>0.09</td>\n",
       "      <td>109.610001</td>\n",
       "    </tr>\n",
       "    <tr>\n",
       "      <th>2014-05-12</th>\n",
       "      <td>108.870003</td>\n",
       "      <td>109.320000</td>\n",
       "      <td>108.599998</td>\n",
       "      <td>109.209999</td>\n",
       "      <td>101.574753</td>\n",
       "      <td>346200.0</td>\n",
       "      <td>12.23</td>\n",
       "      <td>189.789993</td>\n",
       "      <td>0.09</td>\n",
       "      <td>108.610001</td>\n",
       "    </tr>\n",
       "    <tr>\n",
       "      <th>2014-05-13</th>\n",
       "      <td>110.209999</td>\n",
       "      <td>111.540001</td>\n",
       "      <td>110.089996</td>\n",
       "      <td>111.379997</td>\n",
       "      <td>103.593040</td>\n",
       "      <td>564200.0</td>\n",
       "      <td>12.13</td>\n",
       "      <td>189.960007</td>\n",
       "      <td>0.09</td>\n",
       "      <td>107.669998</td>\n",
       "    </tr>\n",
       "  </tbody>\n",
       "</table>\n",
       "</div>"
      ],
      "text/plain": [
       "                  Open        High         Low       Close   Adj Close  \\\n",
       "2014-04-30  108.000000  108.500000  107.669998  108.419998  100.839981   \n",
       "2014-05-01  110.019997  110.150002  109.370003  109.730003  102.058388   \n",
       "2014-05-02  109.989998  110.180000  109.669998  109.930000  102.244415   \n",
       "2014-05-05  109.779999  109.930000  109.410004  109.440002  101.788673   \n",
       "2014-05-06  109.500000  109.570000  108.720001  109.000000  101.379425   \n",
       "2014-05-07  109.000000  109.139999  108.580002  109.029999  101.407333   \n",
       "2014-05-08  108.500000  108.610001  107.529999  108.150002  100.588860   \n",
       "2014-05-09  108.959999  109.379997  108.529999  108.870003  101.258522   \n",
       "2014-05-12  108.870003  109.320000  108.599998  109.209999  101.574753   \n",
       "2014-05-13  110.209999  111.540001  110.089996  111.379997  103.593040   \n",
       "\n",
       "              Volume  Fear_index   SPY_index  FEDFUNDS      Target  \n",
       "2014-04-30  467700.0       13.41  188.309998      0.09  109.029999  \n",
       "2014-05-01  340900.0       13.25  188.330002      0.09  108.150002  \n",
       "2014-05-02  420500.0       12.91  188.059998      0.09  108.870003  \n",
       "2014-05-05  274800.0       13.29  188.419998      0.09  109.209999  \n",
       "2014-05-06  429400.0       13.80  186.779999      0.09  111.379997  \n",
       "2014-05-07  319000.0       13.40  187.880005      0.09  110.430000  \n",
       "2014-05-08  366500.0       13.43  187.679993      0.09  109.500000  \n",
       "2014-05-09  371700.0       12.92  187.960007      0.09  109.610001  \n",
       "2014-05-12  346200.0       12.23  189.789993      0.09  108.610001  \n",
       "2014-05-13  564200.0       12.13  189.960007      0.09  107.669998  "
      ]
     },
     "execution_count": 9,
     "metadata": {},
     "output_type": "execute_result"
    }
   ],
   "source": [
    "concatenated_df.head(10)"
   ]
  },
  {
   "cell_type": "code",
   "execution_count": 10,
   "id": "b5310068-c8b7-48ce-ba02-f4dd501d867b",
   "metadata": {
    "tags": []
   },
   "outputs": [
    {
     "data": {
      "text/html": [
       "<div>\n",
       "<style scoped>\n",
       "    .dataframe tbody tr th:only-of-type {\n",
       "        vertical-align: middle;\n",
       "    }\n",
       "\n",
       "    .dataframe tbody tr th {\n",
       "        vertical-align: top;\n",
       "    }\n",
       "\n",
       "    .dataframe thead th {\n",
       "        text-align: right;\n",
       "    }\n",
       "</style>\n",
       "<table border=\"1\" class=\"dataframe\">\n",
       "  <thead>\n",
       "    <tr style=\"text-align: right;\">\n",
       "      <th></th>\n",
       "      <th>Open</th>\n",
       "      <th>High</th>\n",
       "      <th>Low</th>\n",
       "      <th>Close</th>\n",
       "      <th>Adj Close</th>\n",
       "      <th>Volume</th>\n",
       "      <th>Fear_index</th>\n",
       "      <th>SPY_index</th>\n",
       "      <th>FEDFUNDS</th>\n",
       "      <th>Target</th>\n",
       "      <th>MA</th>\n",
       "      <th>RSI</th>\n",
       "      <th>BB_UPPER</th>\n",
       "      <th>BB_MIDDLE</th>\n",
       "      <th>BB_LOWER</th>\n",
       "    </tr>\n",
       "  </thead>\n",
       "  <tbody>\n",
       "    <tr>\n",
       "      <th>2024-03-18</th>\n",
       "      <td>237.580002</td>\n",
       "      <td>238.830002</td>\n",
       "      <td>237.279999</td>\n",
       "      <td>238.660004</td>\n",
       "      <td>238.660004</td>\n",
       "      <td>194100.0</td>\n",
       "      <td>14.33</td>\n",
       "      <td>512.859985</td>\n",
       "      <td>5.33</td>\n",
       "      <td>252.410004</td>\n",
       "      <td>238.4520</td>\n",
       "      <td>57.155161</td>\n",
       "      <td>252.187283</td>\n",
       "      <td>238.4520</td>\n",
       "      <td>224.716716</td>\n",
       "    </tr>\n",
       "    <tr>\n",
       "      <th>2024-03-19</th>\n",
       "      <td>242.679993</td>\n",
       "      <td>245.089996</td>\n",
       "      <td>242.410004</td>\n",
       "      <td>244.320007</td>\n",
       "      <td>244.320007</td>\n",
       "      <td>347400.0</td>\n",
       "      <td>13.82</td>\n",
       "      <td>515.710022</td>\n",
       "      <td>5.33</td>\n",
       "      <td>253.720001</td>\n",
       "      <td>239.3295</td>\n",
       "      <td>62.009328</td>\n",
       "      <td>252.133199</td>\n",
       "      <td>239.3295</td>\n",
       "      <td>226.525800</td>\n",
       "    </tr>\n",
       "    <tr>\n",
       "      <th>2024-03-20</th>\n",
       "      <td>244.679993</td>\n",
       "      <td>246.800003</td>\n",
       "      <td>244.309998</td>\n",
       "      <td>246.720001</td>\n",
       "      <td>246.720001</td>\n",
       "      <td>214900.0</td>\n",
       "      <td>13.04</td>\n",
       "      <td>520.479980</td>\n",
       "      <td>5.33</td>\n",
       "      <td>252.149994</td>\n",
       "      <td>240.3110</td>\n",
       "      <td>63.878136</td>\n",
       "      <td>252.136371</td>\n",
       "      <td>240.3110</td>\n",
       "      <td>228.485629</td>\n",
       "    </tr>\n",
       "    <tr>\n",
       "      <th>2024-03-21</th>\n",
       "      <td>251.449997</td>\n",
       "      <td>251.789993</td>\n",
       "      <td>250.259995</td>\n",
       "      <td>251.479996</td>\n",
       "      <td>251.479996</td>\n",
       "      <td>245500.0</td>\n",
       "      <td>12.92</td>\n",
       "      <td>522.200012</td>\n",
       "      <td>5.33</td>\n",
       "      <td>251.679993</td>\n",
       "      <td>241.1625</td>\n",
       "      <td>67.312529</td>\n",
       "      <td>253.645172</td>\n",
       "      <td>241.1625</td>\n",
       "      <td>228.679828</td>\n",
       "    </tr>\n",
       "    <tr>\n",
       "      <th>2024-03-22</th>\n",
       "      <td>255.000000</td>\n",
       "      <td>255.229996</td>\n",
       "      <td>253.589996</td>\n",
       "      <td>254.770004</td>\n",
       "      <td>254.770004</td>\n",
       "      <td>285400.0</td>\n",
       "      <td>13.06</td>\n",
       "      <td>521.210022</td>\n",
       "      <td>5.33</td>\n",
       "      <td>242.149994</td>\n",
       "      <td>242.1510</td>\n",
       "      <td>69.472956</td>\n",
       "      <td>255.667277</td>\n",
       "      <td>242.1510</td>\n",
       "      <td>228.634723</td>\n",
       "    </tr>\n",
       "  </tbody>\n",
       "</table>\n",
       "</div>"
      ],
      "text/plain": [
       "                  Open        High         Low       Close   Adj Close  \\\n",
       "2024-03-18  237.580002  238.830002  237.279999  238.660004  238.660004   \n",
       "2024-03-19  242.679993  245.089996  242.410004  244.320007  244.320007   \n",
       "2024-03-20  244.679993  246.800003  244.309998  246.720001  246.720001   \n",
       "2024-03-21  251.449997  251.789993  250.259995  251.479996  251.479996   \n",
       "2024-03-22  255.000000  255.229996  253.589996  254.770004  254.770004   \n",
       "\n",
       "              Volume  Fear_index   SPY_index  FEDFUNDS      Target        MA  \\\n",
       "2024-03-18  194100.0       14.33  512.859985      5.33  252.410004  238.4520   \n",
       "2024-03-19  347400.0       13.82  515.710022      5.33  253.720001  239.3295   \n",
       "2024-03-20  214900.0       13.04  520.479980      5.33  252.149994  240.3110   \n",
       "2024-03-21  245500.0       12.92  522.200012      5.33  251.679993  241.1625   \n",
       "2024-03-22  285400.0       13.06  521.210022      5.33  242.149994  242.1510   \n",
       "\n",
       "                  RSI    BB_UPPER  BB_MIDDLE    BB_LOWER  \n",
       "2024-03-18  57.155161  252.187283   238.4520  224.716716  \n",
       "2024-03-19  62.009328  252.133199   239.3295  226.525800  \n",
       "2024-03-20  63.878136  252.136371   240.3110  228.485629  \n",
       "2024-03-21  67.312529  253.645172   241.1625  228.679828  \n",
       "2024-03-22  69.472956  255.667277   242.1510  228.634723  "
      ]
     },
     "execution_count": 10,
     "metadata": {},
     "output_type": "execute_result"
    }
   ],
   "source": [
    "# Calculate technical indicators using finta\n",
    "data = concatenated_df.copy()  # Use the existing DataFrame concatenated_df\n",
    "data['MA'] = TA.SMA(data, 20)  # 20-period Simple Moving Average\n",
    "data['RSI'] = TA.RSI(data, 14)  # 14-period RSI\n",
    "\n",
    "# Calculate Bollinger Bands correctly\n",
    "bb_bands = TA.BBANDS(data, 20, 2)\n",
    "\n",
    "# Assign Bollinger Bands values to DataFrame columns\n",
    "data['BB_UPPER'] = bb_bands['BB_UPPER']\n",
    "data['BB_MIDDLE'] = bb_bands['BB_MIDDLE']\n",
    "data['BB_LOWER'] = bb_bands['BB_LOWER']\n",
    "\n",
    "# Convert index to datetime\n",
    "data.index = pd.to_datetime(data.index)\n",
    "\n",
    "# Display the calculated technical indicators\n",
    "data.tail()\n"
   ]
  },
  {
   "cell_type": "code",
   "execution_count": 11,
   "id": "d7ccc5c5-b291-4f0d-8dde-4681f92e4448",
   "metadata": {
    "tags": []
   },
   "outputs": [],
   "source": [
    "# Define features and target\n",
    "X = concatenated_df.drop(\"Close\", axis=1)\n",
    "y = concatenated_df[\"Close\"]"
   ]
  },
  {
   "cell_type": "code",
   "execution_count": 12,
   "id": "785a89ba-4b6f-442e-9f4f-469957c9b5dd",
   "metadata": {
    "tags": []
   },
   "outputs": [],
   "source": [
    "data.drop(columns=['Open', 'High', 'Low', 'Close', 'Adj Close'], inplace=True)\n"
   ]
  },
  {
   "cell_type": "code",
   "execution_count": 13,
   "id": "ba3a561b-49e5-4aef-bdc4-cd0292a39216",
   "metadata": {
    "tags": []
   },
   "outputs": [
    {
     "data": {
      "text/html": [
       "<div>\n",
       "<style scoped>\n",
       "    .dataframe tbody tr th:only-of-type {\n",
       "        vertical-align: middle;\n",
       "    }\n",
       "\n",
       "    .dataframe tbody tr th {\n",
       "        vertical-align: top;\n",
       "    }\n",
       "\n",
       "    .dataframe thead th {\n",
       "        text-align: right;\n",
       "    }\n",
       "</style>\n",
       "<table border=\"1\" class=\"dataframe\">\n",
       "  <thead>\n",
       "    <tr style=\"text-align: right;\">\n",
       "      <th></th>\n",
       "      <th>Volume</th>\n",
       "      <th>Fear_index</th>\n",
       "      <th>SPY_index</th>\n",
       "      <th>FEDFUNDS</th>\n",
       "      <th>Target</th>\n",
       "      <th>MA</th>\n",
       "      <th>RSI</th>\n",
       "      <th>BB_UPPER</th>\n",
       "      <th>BB_MIDDLE</th>\n",
       "      <th>BB_LOWER</th>\n",
       "    </tr>\n",
       "  </thead>\n",
       "  <tbody>\n",
       "    <tr>\n",
       "      <th>2014-04-30</th>\n",
       "      <td>467700.0</td>\n",
       "      <td>13.41</td>\n",
       "      <td>188.309998</td>\n",
       "      <td>0.09</td>\n",
       "      <td>109.029999</td>\n",
       "      <td>NaN</td>\n",
       "      <td>NaN</td>\n",
       "      <td>NaN</td>\n",
       "      <td>NaN</td>\n",
       "      <td>NaN</td>\n",
       "    </tr>\n",
       "    <tr>\n",
       "      <th>2014-05-01</th>\n",
       "      <td>340900.0</td>\n",
       "      <td>13.25</td>\n",
       "      <td>188.330002</td>\n",
       "      <td>0.09</td>\n",
       "      <td>108.150002</td>\n",
       "      <td>NaN</td>\n",
       "      <td>100.000000</td>\n",
       "      <td>NaN</td>\n",
       "      <td>NaN</td>\n",
       "      <td>NaN</td>\n",
       "    </tr>\n",
       "    <tr>\n",
       "      <th>2014-05-02</th>\n",
       "      <td>420500.0</td>\n",
       "      <td>12.91</td>\n",
       "      <td>188.059998</td>\n",
       "      <td>0.09</td>\n",
       "      <td>108.870003</td>\n",
       "      <td>NaN</td>\n",
       "      <td>100.000000</td>\n",
       "      <td>NaN</td>\n",
       "      <td>NaN</td>\n",
       "      <td>NaN</td>\n",
       "    </tr>\n",
       "    <tr>\n",
       "      <th>2014-05-05</th>\n",
       "      <td>274800.0</td>\n",
       "      <td>13.29</td>\n",
       "      <td>188.419998</td>\n",
       "      <td>0.09</td>\n",
       "      <td>109.209999</td>\n",
       "      <td>NaN</td>\n",
       "      <td>72.857125</td>\n",
       "      <td>NaN</td>\n",
       "      <td>NaN</td>\n",
       "      <td>NaN</td>\n",
       "    </tr>\n",
       "    <tr>\n",
       "      <th>2014-05-06</th>\n",
       "      <td>429400.0</td>\n",
       "      <td>13.80</td>\n",
       "      <td>186.779999</td>\n",
       "      <td>0.09</td>\n",
       "      <td>111.379997</td>\n",
       "      <td>NaN</td>\n",
       "      <td>57.709400</td>\n",
       "      <td>NaN</td>\n",
       "      <td>NaN</td>\n",
       "      <td>NaN</td>\n",
       "    </tr>\n",
       "  </tbody>\n",
       "</table>\n",
       "</div>"
      ],
      "text/plain": [
       "              Volume  Fear_index   SPY_index  FEDFUNDS      Target  MA  \\\n",
       "2014-04-30  467700.0       13.41  188.309998      0.09  109.029999 NaN   \n",
       "2014-05-01  340900.0       13.25  188.330002      0.09  108.150002 NaN   \n",
       "2014-05-02  420500.0       12.91  188.059998      0.09  108.870003 NaN   \n",
       "2014-05-05  274800.0       13.29  188.419998      0.09  109.209999 NaN   \n",
       "2014-05-06  429400.0       13.80  186.779999      0.09  111.379997 NaN   \n",
       "\n",
       "                   RSI  BB_UPPER  BB_MIDDLE  BB_LOWER  \n",
       "2014-04-30         NaN       NaN        NaN       NaN  \n",
       "2014-05-01  100.000000       NaN        NaN       NaN  \n",
       "2014-05-02  100.000000       NaN        NaN       NaN  \n",
       "2014-05-05   72.857125       NaN        NaN       NaN  \n",
       "2014-05-06   57.709400       NaN        NaN       NaN  "
      ]
     },
     "execution_count": 13,
     "metadata": {},
     "output_type": "execute_result"
    }
   ],
   "source": [
    "# Display the modified DataFrame\n",
    "data.head()"
   ]
  },
  {
   "cell_type": "code",
   "execution_count": 14,
   "id": "481c3a3f-3f01-4d24-b9e2-922550f588c7",
   "metadata": {
    "tags": []
   },
   "outputs": [],
   "source": [
    "data_clean = data.dropna()\n",
    "data_clean.index.rename('date', inplace=True)\n",
    "data_clean.to_csv('../clean_data/GM_prepared_data.csv', index=True)"
   ]
  },
  {
   "cell_type": "code",
   "execution_count": 15,
   "id": "6f43d733-62b5-479a-8819-0604196c8906",
   "metadata": {
    "tags": []
   },
   "outputs": [
    {
     "data": {
      "text/html": [
       "<div>\n",
       "<style scoped>\n",
       "    .dataframe tbody tr th:only-of-type {\n",
       "        vertical-align: middle;\n",
       "    }\n",
       "\n",
       "    .dataframe tbody tr th {\n",
       "        vertical-align: top;\n",
       "    }\n",
       "\n",
       "    .dataframe thead th {\n",
       "        text-align: right;\n",
       "    }\n",
       "</style>\n",
       "<table border=\"1\" class=\"dataframe\">\n",
       "  <thead>\n",
       "    <tr style=\"text-align: right;\">\n",
       "      <th></th>\n",
       "      <th>Volume</th>\n",
       "      <th>Fear_index</th>\n",
       "      <th>SPY_index</th>\n",
       "      <th>FEDFUNDS</th>\n",
       "      <th>Target</th>\n",
       "      <th>MA</th>\n",
       "      <th>RSI</th>\n",
       "      <th>BB_UPPER</th>\n",
       "      <th>BB_MIDDLE</th>\n",
       "      <th>BB_LOWER</th>\n",
       "    </tr>\n",
       "    <tr>\n",
       "      <th>date</th>\n",
       "      <th></th>\n",
       "      <th></th>\n",
       "      <th></th>\n",
       "      <th></th>\n",
       "      <th></th>\n",
       "      <th></th>\n",
       "      <th></th>\n",
       "      <th></th>\n",
       "      <th></th>\n",
       "      <th></th>\n",
       "    </tr>\n",
       "  </thead>\n",
       "  <tbody>\n",
       "    <tr>\n",
       "      <th>2014-05-28</th>\n",
       "      <td>259100.0</td>\n",
       "      <td>11.68</td>\n",
       "      <td>191.380005</td>\n",
       "      <td>0.09</td>\n",
       "      <td>114.480003</td>\n",
       "      <td>109.3095</td>\n",
       "      <td>55.911969</td>\n",
       "      <td>111.065231</td>\n",
       "      <td>109.3095</td>\n",
       "      <td>107.553770</td>\n",
       "    </tr>\n",
       "    <tr>\n",
       "      <th>2014-05-29</th>\n",
       "      <td>348500.0</td>\n",
       "      <td>11.57</td>\n",
       "      <td>192.369995</td>\n",
       "      <td>0.09</td>\n",
       "      <td>114.589996</td>\n",
       "      <td>109.4630</td>\n",
       "      <td>64.453519</td>\n",
       "      <td>111.416912</td>\n",
       "      <td>109.4630</td>\n",
       "      <td>107.509089</td>\n",
       "    </tr>\n",
       "    <tr>\n",
       "      <th>2014-05-30</th>\n",
       "      <td>449700.0</td>\n",
       "      <td>11.40</td>\n",
       "      <td>192.679993</td>\n",
       "      <td>0.09</td>\n",
       "      <td>115.150002</td>\n",
       "      <td>109.6320</td>\n",
       "      <td>70.717723</td>\n",
       "      <td>112.178102</td>\n",
       "      <td>109.6320</td>\n",
       "      <td>107.085898</td>\n",
       "    </tr>\n",
       "    <tr>\n",
       "      <th>2014-06-02</th>\n",
       "      <td>660400.0</td>\n",
       "      <td>11.58</td>\n",
       "      <td>192.899994</td>\n",
       "      <td>0.10</td>\n",
       "      <td>115.070000</td>\n",
       "      <td>109.8330</td>\n",
       "      <td>73.341083</td>\n",
       "      <td>113.029735</td>\n",
       "      <td>109.8330</td>\n",
       "      <td>106.636265</td>\n",
       "    </tr>\n",
       "    <tr>\n",
       "      <th>2014-06-03</th>\n",
       "      <td>593400.0</td>\n",
       "      <td>11.87</td>\n",
       "      <td>192.800003</td>\n",
       "      <td>0.10</td>\n",
       "      <td>113.870003</td>\n",
       "      <td>110.1070</td>\n",
       "      <td>76.013474</td>\n",
       "      <td>114.020872</td>\n",
       "      <td>110.1070</td>\n",
       "      <td>106.193128</td>\n",
       "    </tr>\n",
       "  </tbody>\n",
       "</table>\n",
       "</div>"
      ],
      "text/plain": [
       "              Volume  Fear_index   SPY_index  FEDFUNDS      Target        MA  \\\n",
       "date                                                                           \n",
       "2014-05-28  259100.0       11.68  191.380005      0.09  114.480003  109.3095   \n",
       "2014-05-29  348500.0       11.57  192.369995      0.09  114.589996  109.4630   \n",
       "2014-05-30  449700.0       11.40  192.679993      0.09  115.150002  109.6320   \n",
       "2014-06-02  660400.0       11.58  192.899994      0.10  115.070000  109.8330   \n",
       "2014-06-03  593400.0       11.87  192.800003      0.10  113.870003  110.1070   \n",
       "\n",
       "                  RSI    BB_UPPER  BB_MIDDLE    BB_LOWER  \n",
       "date                                                      \n",
       "2014-05-28  55.911969  111.065231   109.3095  107.553770  \n",
       "2014-05-29  64.453519  111.416912   109.4630  107.509089  \n",
       "2014-05-30  70.717723  112.178102   109.6320  107.085898  \n",
       "2014-06-02  73.341083  113.029735   109.8330  106.636265  \n",
       "2014-06-03  76.013474  114.020872   110.1070  106.193128  "
      ]
     },
     "execution_count": 15,
     "metadata": {},
     "output_type": "execute_result"
    }
   ],
   "source": [
    "data_clean.head()"
   ]
  },
  {
   "cell_type": "code",
   "execution_count": 16,
   "id": "601a8860-9d4d-43d1-ba47-1f257228afcb",
   "metadata": {
    "tags": []
   },
   "outputs": [],
   "source": [
    "# Define date cutoff for data split\n",
    "date_cutoff = \"2022-04-30\"\n",
    "\n",
    "# Split data\n",
    "X_train = X[X.index <= date_cutoff]\n",
    "X_test = X[X.index > date_cutoff]\n",
    "y_train = y[y.index <= date_cutoff]\n",
    "y_test = y[y.index > date_cutoff]"
   ]
  },
  {
   "cell_type": "code",
   "execution_count": 17,
   "id": "127c4acb-8cef-4906-9b5c-8fcb59455a7d",
   "metadata": {
    "tags": []
   },
   "outputs": [],
   "source": [
    "# Scale data\n",
    "scaler = StandardScaler()\n",
    "X_train_scaled = scaler.fit_transform(X_train)\n",
    "X_test_scaled = scaler.transform(X_test)"
   ]
  },
  {
   "cell_type": "code",
   "execution_count": 18,
   "id": "d8f5fafe-ade6-4cf5-a966-44fd52975877",
   "metadata": {
    "tags": []
   },
   "outputs": [
    {
     "name": "stderr",
     "output_type": "stream",
     "text": [
      "/Users/kd17/anaconda3/lib/python3.11/site-packages/keras/src/layers/core/dense.py:86: UserWarning: Do not pass an `input_shape`/`input_dim` argument to a layer. When using Sequential models, prefer using an `Input(shape)` object as the first layer in the model instead.\n",
      "  super().__init__(activity_regularizer=activity_regularizer, **kwargs)\n"
     ]
    },
    {
     "name": "stdout",
     "output_type": "stream",
     "text": [
      "\u001b[1m57/57\u001b[0m \u001b[32m━━━━━━━━━━━━━━━━━━━━\u001b[0m\u001b[37m\u001b[0m \u001b[1m0s\u001b[0m 579us/step\n",
      "\u001b[1m7/7\u001b[0m \u001b[32m━━━━━━━━━━━━━━━━━━━━\u001b[0m\u001b[37m\u001b[0m \u001b[1m0s\u001b[0m 533us/step\n",
      "\u001b[1m57/57\u001b[0m \u001b[32m━━━━━━━━━━━━━━━━━━━━\u001b[0m\u001b[37m\u001b[0m \u001b[1m0s\u001b[0m 327us/step\n",
      "\u001b[1m7/7\u001b[0m \u001b[32m━━━━━━━━━━━━━━━━━━━━\u001b[0m\u001b[37m\u001b[0m \u001b[1m0s\u001b[0m 461us/step\n",
      "\u001b[1m57/57\u001b[0m \u001b[32m━━━━━━━━━━━━━━━━━━━━\u001b[0m\u001b[37m\u001b[0m \u001b[1m0s\u001b[0m 344us/step\n",
      "\u001b[1m7/7\u001b[0m \u001b[32m━━━━━━━━━━━━━━━━━━━━\u001b[0m\u001b[37m\u001b[0m \u001b[1m0s\u001b[0m 566us/step\n",
      "\u001b[1m57/57\u001b[0m \u001b[32m━━━━━━━━━━━━━━━━━━━━\u001b[0m\u001b[37m\u001b[0m \u001b[1m0s\u001b[0m 362us/step\n",
      "\u001b[1m7/7\u001b[0m \u001b[32m━━━━━━━━━━━━━━━━━━━━\u001b[0m\u001b[37m\u001b[0m \u001b[1m0s\u001b[0m 544us/step\n",
      "\u001b[1m57/57\u001b[0m \u001b[32m━━━━━━━━━━━━━━━━━━━━\u001b[0m\u001b[37m\u001b[0m \u001b[1m0s\u001b[0m 346us/step\n",
      "\u001b[1m7/7\u001b[0m \u001b[32m━━━━━━━━━━━━━━━━━━━━\u001b[0m\u001b[37m\u001b[0m \u001b[1m0s\u001b[0m 476us/step\n",
      "\u001b[1m57/57\u001b[0m \u001b[32m━━━━━━━━━━━━━━━━━━━━\u001b[0m\u001b[37m\u001b[0m \u001b[1m0s\u001b[0m 332us/step\n",
      "\u001b[1m7/7\u001b[0m \u001b[32m━━━━━━━━━━━━━━━━━━━━\u001b[0m\u001b[37m\u001b[0m \u001b[1m0s\u001b[0m 461us/step\n",
      "\u001b[1m57/57\u001b[0m \u001b[32m━━━━━━━━━━━━━━━━━━━━\u001b[0m\u001b[37m\u001b[0m \u001b[1m0s\u001b[0m 328us/step\n",
      "\u001b[1m7/7\u001b[0m \u001b[32m━━━━━━━━━━━━━━━━━━━━\u001b[0m\u001b[37m\u001b[0m \u001b[1m0s\u001b[0m 466us/step\n",
      "\u001b[1m57/57\u001b[0m \u001b[32m━━━━━━━━━━━━━━━━━━━━\u001b[0m\u001b[37m\u001b[0m \u001b[1m0s\u001b[0m 338us/step\n",
      "\u001b[1m7/7\u001b[0m \u001b[32m━━━━━━━━━━━━━━━━━━━━\u001b[0m\u001b[37m\u001b[0m \u001b[1m0s\u001b[0m 495us/step\n",
      "\u001b[1m57/57\u001b[0m \u001b[32m━━━━━━━━━━━━━━━━━━━━\u001b[0m\u001b[37m\u001b[0m \u001b[1m0s\u001b[0m 348us/step\n",
      "\u001b[1m7/7\u001b[0m \u001b[32m━━━━━━━━━━━━━━━━━━━━\u001b[0m\u001b[37m\u001b[0m \u001b[1m0s\u001b[0m 557us/step\n",
      "\u001b[1m57/57\u001b[0m \u001b[32m━━━━━━━━━━━━━━━━━━━━\u001b[0m\u001b[37m\u001b[0m \u001b[1m0s\u001b[0m 319us/step\n",
      "\u001b[1m7/7\u001b[0m \u001b[32m━━━━━━━━━━━━━━━━━━━━\u001b[0m\u001b[37m\u001b[0m \u001b[1m0s\u001b[0m 503us/step\n",
      "Average R-squared (Train): -37.2181815601277\n",
      "Average R-squared (Test): -38.23582409232334\n"
     ]
    }
   ],
   "source": [
    "# Define the number of folds\n",
    "k = 10\n",
    "\n",
    "# Initialize lists to store R-squared scores\n",
    "train_r2_scores = []\n",
    "test_r2_scores = []\n",
    "\n",
    "# Initialize KFold\n",
    "kf = KFold(n_splits=k, shuffle=True)\n",
    "\n",
    "# Define the model architecture\n",
    "model = Sequential([\n",
    "    Dense(units=16, activation='relu', kernel_regularizer=l2(0.0005), input_shape=(X_train_scaled.shape[1],)),\n",
    "    Dropout(0.6),\n",
    "    Dense(units=8, activation='relu', kernel_regularizer=l2(0.0005)),\n",
    "    Dropout(0.6),\n",
    "    Dense(units=1)\n",
    "])\n",
    "\n",
    "# Example: Train with a smaller learning rate\n",
    "from keras.optimizers import Adam\n",
    "adam = Adam(learning_rate=0.0001)  # Adjust learning rate as needed\n",
    "model.compile(optimizer=adam, loss='mean_squared_error')\n",
    "model.fit(X_train, y_train, epochs=50, batch_size=32, verbose=0)\n",
    "\n",
    "# Compile the model\n",
    "model.compile(optimizer=adam, loss='mean_squared_error')\n",
    "\n",
    "# Perform k-fold cross-validation\n",
    "for train_index, test_index in kf.split(X_train_scaled):\n",
    "    X_train_cv, X_test_cv = X_train_scaled[train_index], X_train_scaled[test_index]\n",
    "    y_train_cv, y_test_cv = y_train[train_index], y_train[test_index]\n",
    "    \n",
    "    \n",
    "    # Evaluate the model on training data\n",
    "    train_predictions = model.predict(X_train_cv)\n",
    "    train_r2 = r2_score(y_train_cv, train_predictions)\n",
    "    train_r2_scores.append(train_r2)\n",
    "    \n",
    "    # Evaluate the model on test data\n",
    "    test_predictions = model.predict(X_test_cv)\n",
    "    test_r2 = r2_score(y_test_cv, test_predictions)\n",
    "    test_r2_scores.append(test_r2)\n",
    "\n",
    "# Calculate average R-squared scores\n",
    "avg_train_r2 = np.mean(train_r2_scores)\n",
    "avg_test_r2 = np.mean(test_r2_scores)\n",
    "\n",
    "print(\"Average R-squared (Train):\", avg_train_r2)\n",
    "print(\"Average R-squared (Test):\", avg_test_r2)"
   ]
  },
  {
   "cell_type": "code",
   "execution_count": 19,
   "id": "2a57564d-cafa-4cb5-b794-de4d4f06742b",
   "metadata": {
    "tags": []
   },
   "outputs": [
    {
     "name": "stderr",
     "output_type": "stream",
     "text": [
      "/Users/kd17/anaconda3/lib/python3.11/site-packages/keras/src/layers/core/dense.py:86: UserWarning: Do not pass an `input_shape`/`input_dim` argument to a layer. When using Sequential models, prefer using an `Input(shape)` object as the first layer in the model instead.\n",
      "  super().__init__(activity_regularizer=activity_regularizer, **kwargs)\n"
     ]
    },
    {
     "name": "stdout",
     "output_type": "stream",
     "text": [
      "\u001b[1m57/57\u001b[0m \u001b[32m━━━━━━━━━━━━━━━━━━━━\u001b[0m\u001b[37m\u001b[0m \u001b[1m0s\u001b[0m 2ms/step\n",
      "\u001b[1m7/7\u001b[0m \u001b[32m━━━━━━━━━━━━━━━━━━━━\u001b[0m\u001b[37m\u001b[0m \u001b[1m0s\u001b[0m 697us/step\n"
     ]
    },
    {
     "name": "stderr",
     "output_type": "stream",
     "text": [
      "/Users/kd17/anaconda3/lib/python3.11/site-packages/keras/src/layers/core/dense.py:86: UserWarning: Do not pass an `input_shape`/`input_dim` argument to a layer. When using Sequential models, prefer using an `Input(shape)` object as the first layer in the model instead.\n",
      "  super().__init__(activity_regularizer=activity_regularizer, **kwargs)\n"
     ]
    },
    {
     "name": "stdout",
     "output_type": "stream",
     "text": [
      "\u001b[1m57/57\u001b[0m \u001b[32m━━━━━━━━━━━━━━━━━━━━\u001b[0m\u001b[37m\u001b[0m \u001b[1m0s\u001b[0m 579us/step\n",
      "\u001b[1m7/7\u001b[0m \u001b[32m━━━━━━━━━━━━━━━━━━━━\u001b[0m\u001b[37m\u001b[0m \u001b[1m0s\u001b[0m 512us/step\n"
     ]
    },
    {
     "name": "stderr",
     "output_type": "stream",
     "text": [
      "/Users/kd17/anaconda3/lib/python3.11/site-packages/keras/src/layers/core/dense.py:86: UserWarning: Do not pass an `input_shape`/`input_dim` argument to a layer. When using Sequential models, prefer using an `Input(shape)` object as the first layer in the model instead.\n",
      "  super().__init__(activity_regularizer=activity_regularizer, **kwargs)\n"
     ]
    },
    {
     "name": "stdout",
     "output_type": "stream",
     "text": [
      "\u001b[1m57/57\u001b[0m \u001b[32m━━━━━━━━━━━━━━━━━━━━\u001b[0m\u001b[37m\u001b[0m \u001b[1m0s\u001b[0m 637us/step\n",
      "\u001b[1m7/7\u001b[0m \u001b[32m━━━━━━━━━━━━━━━━━━━━\u001b[0m\u001b[37m\u001b[0m \u001b[1m0s\u001b[0m 494us/step\n"
     ]
    },
    {
     "name": "stderr",
     "output_type": "stream",
     "text": [
      "/Users/kd17/anaconda3/lib/python3.11/site-packages/keras/src/layers/core/dense.py:86: UserWarning: Do not pass an `input_shape`/`input_dim` argument to a layer. When using Sequential models, prefer using an `Input(shape)` object as the first layer in the model instead.\n",
      "  super().__init__(activity_regularizer=activity_regularizer, **kwargs)\n"
     ]
    },
    {
     "name": "stdout",
     "output_type": "stream",
     "text": [
      "\u001b[1m57/57\u001b[0m \u001b[32m━━━━━━━━━━━━━━━━━━━━\u001b[0m\u001b[37m\u001b[0m \u001b[1m0s\u001b[0m 582us/step\n",
      "\u001b[1m7/7\u001b[0m \u001b[32m━━━━━━━━━━━━━━━━━━━━\u001b[0m\u001b[37m\u001b[0m \u001b[1m0s\u001b[0m 542us/step\n"
     ]
    },
    {
     "name": "stderr",
     "output_type": "stream",
     "text": [
      "/Users/kd17/anaconda3/lib/python3.11/site-packages/keras/src/layers/core/dense.py:86: UserWarning: Do not pass an `input_shape`/`input_dim` argument to a layer. When using Sequential models, prefer using an `Input(shape)` object as the first layer in the model instead.\n",
      "  super().__init__(activity_regularizer=activity_regularizer, **kwargs)\n"
     ]
    },
    {
     "name": "stdout",
     "output_type": "stream",
     "text": [
      "\u001b[1m57/57\u001b[0m \u001b[32m━━━━━━━━━━━━━━━━━━━━\u001b[0m\u001b[37m\u001b[0m \u001b[1m0s\u001b[0m 594us/step\n",
      "\u001b[1m7/7\u001b[0m \u001b[32m━━━━━━━━━━━━━━━━━━━━\u001b[0m\u001b[37m\u001b[0m \u001b[1m0s\u001b[0m 477us/step\n"
     ]
    },
    {
     "name": "stderr",
     "output_type": "stream",
     "text": [
      "/Users/kd17/anaconda3/lib/python3.11/site-packages/keras/src/layers/core/dense.py:86: UserWarning: Do not pass an `input_shape`/`input_dim` argument to a layer. When using Sequential models, prefer using an `Input(shape)` object as the first layer in the model instead.\n",
      "  super().__init__(activity_regularizer=activity_regularizer, **kwargs)\n"
     ]
    },
    {
     "name": "stdout",
     "output_type": "stream",
     "text": [
      "\u001b[1m57/57\u001b[0m \u001b[32m━━━━━━━━━━━━━━━━━━━━\u001b[0m\u001b[37m\u001b[0m \u001b[1m0s\u001b[0m 579us/step\n",
      "\u001b[1m7/7\u001b[0m \u001b[32m━━━━━━━━━━━━━━━━━━━━\u001b[0m\u001b[37m\u001b[0m \u001b[1m0s\u001b[0m 479us/step\n"
     ]
    },
    {
     "name": "stderr",
     "output_type": "stream",
     "text": [
      "/Users/kd17/anaconda3/lib/python3.11/site-packages/keras/src/layers/core/dense.py:86: UserWarning: Do not pass an `input_shape`/`input_dim` argument to a layer. When using Sequential models, prefer using an `Input(shape)` object as the first layer in the model instead.\n",
      "  super().__init__(activity_regularizer=activity_regularizer, **kwargs)\n"
     ]
    },
    {
     "name": "stdout",
     "output_type": "stream",
     "text": [
      "\u001b[1m57/57\u001b[0m \u001b[32m━━━━━━━━━━━━━━━━━━━━\u001b[0m\u001b[37m\u001b[0m \u001b[1m0s\u001b[0m 592us/step\n",
      "\u001b[1m7/7\u001b[0m \u001b[32m━━━━━━━━━━━━━━━━━━━━\u001b[0m\u001b[37m\u001b[0m \u001b[1m0s\u001b[0m 547us/step\n"
     ]
    },
    {
     "name": "stderr",
     "output_type": "stream",
     "text": [
      "/Users/kd17/anaconda3/lib/python3.11/site-packages/keras/src/layers/core/dense.py:86: UserWarning: Do not pass an `input_shape`/`input_dim` argument to a layer. When using Sequential models, prefer using an `Input(shape)` object as the first layer in the model instead.\n",
      "  super().__init__(activity_regularizer=activity_regularizer, **kwargs)\n"
     ]
    },
    {
     "name": "stdout",
     "output_type": "stream",
     "text": [
      "\u001b[1m57/57\u001b[0m \u001b[32m━━━━━━━━━━━━━━━━━━━━\u001b[0m\u001b[37m\u001b[0m \u001b[1m0s\u001b[0m 572us/step\n",
      "\u001b[1m7/7\u001b[0m \u001b[32m━━━━━━━━━━━━━━━━━━━━\u001b[0m\u001b[37m\u001b[0m \u001b[1m0s\u001b[0m 531us/step\n"
     ]
    },
    {
     "name": "stderr",
     "output_type": "stream",
     "text": [
      "/Users/kd17/anaconda3/lib/python3.11/site-packages/keras/src/layers/core/dense.py:86: UserWarning: Do not pass an `input_shape`/`input_dim` argument to a layer. When using Sequential models, prefer using an `Input(shape)` object as the first layer in the model instead.\n",
      "  super().__init__(activity_regularizer=activity_regularizer, **kwargs)\n"
     ]
    },
    {
     "name": "stdout",
     "output_type": "stream",
     "text": [
      "\u001b[1m57/57\u001b[0m \u001b[32m━━━━━━━━━━━━━━━━━━━━\u001b[0m\u001b[37m\u001b[0m \u001b[1m0s\u001b[0m 608us/step\n",
      "\u001b[1m7/7\u001b[0m \u001b[32m━━━━━━━━━━━━━━━━━━━━\u001b[0m\u001b[37m\u001b[0m \u001b[1m0s\u001b[0m 531us/step\n"
     ]
    },
    {
     "name": "stderr",
     "output_type": "stream",
     "text": [
      "/Users/kd17/anaconda3/lib/python3.11/site-packages/keras/src/layers/core/dense.py:86: UserWarning: Do not pass an `input_shape`/`input_dim` argument to a layer. When using Sequential models, prefer using an `Input(shape)` object as the first layer in the model instead.\n",
      "  super().__init__(activity_regularizer=activity_regularizer, **kwargs)\n"
     ]
    },
    {
     "name": "stdout",
     "output_type": "stream",
     "text": [
      "\u001b[1m57/57\u001b[0m \u001b[32m━━━━━━━━━━━━━━━━━━━━\u001b[0m\u001b[37m\u001b[0m \u001b[1m0s\u001b[0m 567us/step\n",
      "\u001b[1m7/7\u001b[0m \u001b[32m━━━━━━━━━━━━━━━━━━━━\u001b[0m\u001b[37m\u001b[0m \u001b[1m0s\u001b[0m 512us/step\n",
      "Model 1 - Train R-squared: 0.4788861968086989, Test R-squared: 0.4643296434547146, Train MAE: 14.724497842791743, Train MSE: 241.0399739538871, Test MAE: 15.26947540355962, Test MSE: 263.8625779725303\n",
      "Model 2 - Train R-squared: 0.596296313523046, Test R-squared: 0.634493239524897, Train MAE: 13.167964055214004, Train MSE: 187.6960682278035, Test MAE: 12.695497055755917, Test MSE: 172.21381182735325\n",
      "Model 3 - Train R-squared: 0.3111619865557663, Test R-squared: 0.08165408833683974, Train MAE: 17.25010955086981, Train MSE: 329.2222846248649, Test MAE: 17.12400598232035, Test MSE: 320.1618560170444\n",
      "Model 4 - Train R-squared: 0.42282173492797315, Test R-squared: 0.3561986578385373, Train MAE: 15.575720496921997, Train MSE: 270.418900305462, Test MAE: 15.749280523626044, Test MSE: 282.09977565186483\n",
      "Model 5 - Train R-squared: 0.44340883686650456, Test R-squared: 0.46515915381615547, Train MAE: 15.054786252867506, Train MSE: 259.1995671022618, Test MAE: 14.717886938176827, Test MSE: 248.36439195554868\n",
      "Model 6 - Train R-squared: 0.5682343181586613, Test R-squared: 0.6800291916676864, Train MAE: 13.403676064084625, Train MSE: 194.57101006526224, Test MAE: 13.165965235573948, Test MSE: 187.09870275638542\n",
      "Model 7 - Train R-squared: 0.2777471319409376, Test R-squared: -0.04740885441810705, Train MAE: 17.897578289914772, Train MSE: 345.52739310287023, Test MAE: 18.093474715963637, Test MSE: 355.83084886385126\n",
      "Model 8 - Train R-squared: 0.553962537762206, Test R-squared: 0.5667077147987741, Train MAE: 13.872341675262568, Train MSE: 207.16018921006292, Test MAE: 13.799438633813356, Test MSE: 206.07489433611906\n",
      "Model 9 - Train R-squared: 0.6242440178503812, Test R-squared: 0.6275954223240493, Train MAE: 12.646683354693957, Train MSE: 174.5139442558589, Test MAE: 12.74901510589873, Test MSE: 174.9710081495359\n",
      "Model 10 - Train R-squared: -0.613175191559385, Test R-squared: -0.3849819951975062, Train MAE: 25.652544992334924, Train MSE: 738.2565102527554, Test MAE: 25.603700979419312, Test MSE: 743.7657447056179\n"
     ]
    }
   ],
   "source": [
    "from keras.models import Sequential\n",
    "from keras.layers import Dense, Dropout\n",
    "from keras.optimizers import Adam\n",
    "from sklearn.metrics import mean_absolute_error, mean_squared_error, r2_score\n",
    "\n",
    "# Initialize lists to store metrics for selected models\n",
    "selected_train_r2 = []\n",
    "selected_test_r2 = []\n",
    "selected_train_mae = []\n",
    "selected_train_mse = []\n",
    "selected_test_mae = []\n",
    "selected_test_mse = []\n",
    "\n",
    "# Perform k-fold cross-validation\n",
    "for train_index, test_index in kf.split(X_train_scaled):\n",
    "    X_train_cv, X_test_cv = X_train_scaled[train_index], X_train_scaled[test_index]\n",
    "    y_train_cv, y_test_cv = y_train[train_index], y_train[test_index]\n",
    "    \n",
    "    # Define a new model for each fold\n",
    "    model_fold = Sequential([\n",
    "        Dense(32, activation='relu', input_shape=(X_train_cv.shape[1],)),\n",
    "        Dropout(0.5),  # Dropout layer with a dropout rate of 0.5\n",
    "        Dense(16, activation='relu'),\n",
    "        Dropout(0.5),  # Dropout layer with a dropout rate of 0.5\n",
    "        Dense(1)  # Output layer\n",
    "    ])\n",
    "    \n",
    "    # Compile the model with Adam optimizer and mean squared error loss\n",
    "    model_fold.compile(optimizer=Adam(learning_rate=0.001), loss='mean_squared_error')\n",
    "    \n",
    "    # Train the model\n",
    "    model_fold.fit(X_train_cv, y_train_cv, epochs=50, batch_size=32, verbose=0)\n",
    "    \n",
    "    # Evaluate the model on training data\n",
    "    train_predictions = model_fold.predict(X_train_cv)\n",
    "    train_r2 = r2_score(y_train_cv, train_predictions)\n",
    "    train_mae = mean_absolute_error(y_train_cv, train_predictions)\n",
    "    train_mse = mean_squared_error(y_train_cv, train_predictions)\n",
    "    \n",
    "    # Evaluate the model on test data\n",
    "    test_predictions = model_fold.predict(X_test_cv)\n",
    "    test_r2 = r2_score(y_test_cv, test_predictions)\n",
    "    test_mae = mean_absolute_error(y_test_cv, test_predictions)\n",
    "    test_mse = mean_squared_error(y_test_cv, test_predictions)\n",
    "    \n",
    "    # Append metrics to the lists\n",
    "    selected_train_r2.append(train_r2)\n",
    "    selected_test_r2.append(test_r2)\n",
    "    selected_train_mae.append(train_mae)\n",
    "    selected_train_mse.append(train_mse)\n",
    "    selected_test_mae.append(test_mae)\n",
    "    selected_test_mse.append(test_mse)\n",
    "\n",
    "# Print metrics for selected models\n",
    "for idx, (train_r2, test_r2, train_mae, train_mse, test_mae, test_mse) in enumerate(zip(selected_train_r2, selected_test_r2, selected_train_mae, selected_train_mse, selected_test_mae, selected_test_mse), start=1):\n",
    "    print(f\"Model {idx} - Train R-squared: {train_r2}, Test R-squared: {test_r2}, Train MAE: {train_mae}, Train MSE: {train_mse}, Test MAE: {test_mae}, Test MSE: {test_mse}\")\n"
   ]
  },
  {
   "cell_type": "code",
   "execution_count": 20,
   "id": "f1660752-2cad-41c4-85ff-651db8d4f44b",
   "metadata": {
    "tags": []
   },
   "outputs": [
    {
     "name": "stdout",
     "output_type": "stream",
     "text": [
      "Best Model - Train R-squared: 0.6242440178503812, Test R-squared: 0.6275954223240493, Train MAE: 12.646683354693957, Train MSE: 174.5139442558589, Test MAE: 12.74901510589873, Test MSE: 174.9710081495359\n"
     ]
    }
   ],
   "source": [
    "# Calculate the absolute difference between train R-squared and test R-squared values for each model\n",
    "abs_diff_r2 = np.abs(np.array(selected_train_r2) - np.array(selected_test_r2))\n",
    "\n",
    "# Find the index of the model with the smallest absolute difference\n",
    "best_model_index = np.argmin(abs_diff_r2)\n",
    "\n",
    "# Retrieve the metrics for the best model\n",
    "best_train_r2 = selected_train_r2[best_model_index]\n",
    "best_test_r2 = selected_test_r2[best_model_index]\n",
    "best_train_mae = selected_train_mae[best_model_index]\n",
    "best_train_mse = selected_train_mse[best_model_index]\n",
    "best_test_mae = selected_test_mae[best_model_index]\n",
    "best_test_mse = selected_test_mse[best_model_index]\n",
    "\n",
    "# Print metrics for the best model\n",
    "print(f\"Best Model - Train R-squared: {best_train_r2}, Test R-squared: {best_test_r2}, Train MAE: {best_train_mae}, Train MSE: {best_train_mse}, Test MAE: {best_test_mae}, Test MSE: {best_test_mse}\")\n"
   ]
  },
  {
   "cell_type": "code",
   "execution_count": 21,
   "id": "28fe692b-500d-409f-b13a-65ba63895193",
   "metadata": {
    "tags": []
   },
   "outputs": [
    {
     "name": "stdout",
     "output_type": "stream",
     "text": [
      "Best Model - Train R-squared: 0.6242440178503812, Test R-squared: 0.6275954223240493, Train MAE: 12.646683354693957, Train MSE: 174.5139442558589, Test MAE: 12.74901510589873, Test MSE: 174.9710081495359\n"
     ]
    }
   ],
   "source": [
    "# Filter models where both Train R-squared and Test R-squared are less than 0.96\n",
    "filtered_indices = [i for i, (train_r2, test_r2) in enumerate(zip(selected_train_r2, selected_test_r2)) if train_r2 < 0.96 and test_r2 < 0.96]\n",
    "\n",
    "# Calculate the absolute difference between train R-squared and test R-squared values for filtered models\n",
    "abs_diff_r2_filtered = np.abs(np.array(selected_train_r2)[filtered_indices] - np.array(selected_test_r2)[filtered_indices])\n",
    "\n",
    "# Find the index of the model with the smallest absolute difference among filtered models\n",
    "best_model_index = filtered_indices[np.argmin(abs_diff_r2_filtered)]\n",
    "\n",
    "# Retrieve the metrics for the best model\n",
    "best_train_r2 = selected_train_r2[best_model_index]\n",
    "best_test_r2 = selected_test_r2[best_model_index]\n",
    "best_train_mae = selected_train_mae[best_model_index]\n",
    "best_train_mse = selected_train_mse[best_model_index]\n",
    "best_test_mae = selected_test_mae[best_model_index]\n",
    "best_test_mse = selected_test_mse[best_model_index]\n",
    "\n",
    "# Print metrics for the best model\n",
    "print(f\"Best Model - Train R-squared: {best_train_r2}, Test R-squared: {best_test_r2}, Train MAE: {best_train_mae}, Train MSE: {best_train_mse}, Test MAE: {best_test_mae}, Test MSE: {best_test_mse}\")\n"
   ]
  },
  {
   "cell_type": "code",
   "execution_count": 22,
   "id": "88c28658-9c6c-4c05-b01f-4a134989d94d",
   "metadata": {
    "tags": []
   },
   "outputs": [
    {
     "name": "stderr",
     "output_type": "stream",
     "text": [
      "/Users/kd17/anaconda3/lib/python3.11/site-packages/keras/src/layers/core/dense.py:86: UserWarning: Do not pass an `input_shape`/`input_dim` argument to a layer. When using Sequential models, prefer using an `Input(shape)` object as the first layer in the model instead.\n",
      "  super().__init__(activity_regularizer=activity_regularizer, **kwargs)\n"
     ]
    },
    {
     "name": "stdout",
     "output_type": "stream",
     "text": [
      "\u001b[1m78/78\u001b[0m \u001b[32m━━━━━━━━━━━━━━━━━━━━\u001b[0m\u001b[37m\u001b[0m \u001b[1m0s\u001b[0m 513us/step\n"
     ]
    },
    {
     "data": {
      "text/html": [
       "<div>\n",
       "<style scoped>\n",
       "    .dataframe tbody tr th:only-of-type {\n",
       "        vertical-align: middle;\n",
       "    }\n",
       "\n",
       "    .dataframe tbody tr th {\n",
       "        vertical-align: top;\n",
       "    }\n",
       "\n",
       "    .dataframe thead th {\n",
       "        text-align: right;\n",
       "    }\n",
       "</style>\n",
       "<table border=\"1\" class=\"dataframe\">\n",
       "  <thead>\n",
       "    <tr style=\"text-align: right;\">\n",
       "      <th></th>\n",
       "      <th>Actual</th>\n",
       "      <th>Predicted</th>\n",
       "    </tr>\n",
       "    <tr>\n",
       "      <th>date</th>\n",
       "      <th></th>\n",
       "      <th></th>\n",
       "    </tr>\n",
       "  </thead>\n",
       "  <tbody>\n",
       "    <tr>\n",
       "      <th>2014-05-28</th>\n",
       "      <td>109.910004</td>\n",
       "      <td>82.073395</td>\n",
       "    </tr>\n",
       "    <tr>\n",
       "      <th>2014-05-29</th>\n",
       "      <td>111.489998</td>\n",
       "      <td>82.282333</td>\n",
       "    </tr>\n",
       "    <tr>\n",
       "      <th>2014-05-30</th>\n",
       "      <td>113.110001</td>\n",
       "      <td>82.858902</td>\n",
       "    </tr>\n",
       "    <tr>\n",
       "      <th>2014-06-02</th>\n",
       "      <td>113.949997</td>\n",
       "      <td>85.006004</td>\n",
       "    </tr>\n",
       "    <tr>\n",
       "      <th>2014-06-03</th>\n",
       "      <td>114.919998</td>\n",
       "      <td>84.857727</td>\n",
       "    </tr>\n",
       "    <tr>\n",
       "      <th>...</th>\n",
       "      <td>...</td>\n",
       "      <td>...</td>\n",
       "    </tr>\n",
       "    <tr>\n",
       "      <th>2024-03-18</th>\n",
       "      <td>238.660004</td>\n",
       "      <td>194.290466</td>\n",
       "    </tr>\n",
       "    <tr>\n",
       "      <th>2024-03-19</th>\n",
       "      <td>244.320007</td>\n",
       "      <td>197.649841</td>\n",
       "    </tr>\n",
       "    <tr>\n",
       "      <th>2024-03-20</th>\n",
       "      <td>246.720001</td>\n",
       "      <td>200.734528</td>\n",
       "    </tr>\n",
       "    <tr>\n",
       "      <th>2024-03-21</th>\n",
       "      <td>251.479996</td>\n",
       "      <td>205.084351</td>\n",
       "    </tr>\n",
       "    <tr>\n",
       "      <th>2024-03-22</th>\n",
       "      <td>254.770004</td>\n",
       "      <td>207.008698</td>\n",
       "    </tr>\n",
       "  </tbody>\n",
       "</table>\n",
       "<p>2473 rows × 2 columns</p>\n",
       "</div>"
      ],
      "text/plain": [
       "                Actual   Predicted\n",
       "date                              \n",
       "2014-05-28  109.910004   82.073395\n",
       "2014-05-29  111.489998   82.282333\n",
       "2014-05-30  113.110001   82.858902\n",
       "2014-06-02  113.949997   85.006004\n",
       "2014-06-03  114.919998   84.857727\n",
       "...                ...         ...\n",
       "2024-03-18  238.660004  194.290466\n",
       "2024-03-19  244.320007  197.649841\n",
       "2024-03-20  246.720001  200.734528\n",
       "2024-03-21  251.479996  205.084351\n",
       "2024-03-22  254.770004  207.008698\n",
       "\n",
       "[2473 rows x 2 columns]"
      ]
     },
     "execution_count": 22,
     "metadata": {},
     "output_type": "execute_result"
    }
   ],
   "source": [
    "# Scale data\n",
    "scaler = StandardScaler()\n",
    "X_scaled = scaler.fit_transform(X)\n",
    "\n",
    "# Define the model architecture\n",
    "model = Sequential([\n",
    "    Dense(units=16, activation='relu', kernel_regularizer=l2(0.0005), input_shape=(X_scaled.shape[1],)),\n",
    "    Dropout(0.6),\n",
    "    Dense(units=8, activation='relu', kernel_regularizer=l2(0.0005)),\n",
    "    Dropout(0.6),\n",
    "    Dense(units=1)\n",
    "])\n",
    "\n",
    "# Compile the model\n",
    "model.compile(optimizer='adam', loss='mean_squared_error')\n",
    "\n",
    "# Train the model on the entire dataset\n",
    "model.fit(X_scaled, y, epochs=50, batch_size=32, verbose=0)\n",
    "\n",
    "# Predict sequentially on each data point\n",
    "all_predictions = model.predict(X_scaled)\n",
    "\n",
    "# Ensure the number of predictions matches the original dataset\n",
    "assert len(all_predictions) == len(X_scaled)\n",
    "\n",
    "# Create a DataFrame to store the actual and predicted values\n",
    "predictions_df = pd.DataFrame({'Actual': y, 'Predicted': all_predictions.flatten()}, index=X.index)\n",
    "\n",
    "# Ensure index uniqueness in both the original dataset and predictions DataFrame\n",
    "data_clean_unique_index = data_clean.index.drop_duplicates()\n",
    "predictions_df = predictions_df.loc[data_clean_unique_index]\n",
    "\n",
    "# Display the DataFrame\n",
    "predictions_df\n"
   ]
  },
  {
   "cell_type": "code",
   "execution_count": 23,
   "id": "50badc71-29da-446a-8d56-e86a086a463b",
   "metadata": {
    "tags": []
   },
   "outputs": [],
   "source": [
    "predictions_df.to_csv('../predicted_data/TM_predicted_data.csv', index=True)"
   ]
  },
  {
   "cell_type": "code",
   "execution_count": 24,
   "id": "662dc8a1-e92d-4b4e-98c7-6b98c83b53f1",
   "metadata": {
    "tags": []
   },
   "outputs": [
    {
     "name": "stdout",
     "output_type": "stream",
     "text": [
      "No NaN values found in the predictions DataFrame.\n",
      "                Actual   Predicted\n",
      "date                              \n",
      "2014-05-28  109.910004   82.073395\n",
      "2014-05-29  111.489998   82.282333\n",
      "2014-05-30  113.110001   82.858902\n",
      "2014-06-02  113.949997   85.006004\n",
      "2014-06-03  114.919998   84.857727\n",
      "...                ...         ...\n",
      "2024-03-18  238.660004  194.290466\n",
      "2024-03-19  244.320007  197.649841\n",
      "2024-03-20  246.720001  200.734528\n",
      "2024-03-21  251.479996  205.084351\n",
      "2024-03-22  254.770004  207.008698\n",
      "\n",
      "[2473 rows x 2 columns]\n"
     ]
    }
   ],
   "source": [
    "# Check for NaN values in the predictions DataFrame\n",
    "nan_values = predictions_df.isnull().sum().sum()\n",
    "\n",
    "if nan_values == 0:\n",
    "    print(\"No NaN values found in the predictions DataFrame.\")\n",
    "    print(predictions_df)\n",
    "else:\n",
    "    print(f\"Found {nan_values} NaN values in the predictions DataFrame. Please check your data or model.\")\n"
   ]
  },
  {
   "cell_type": "code",
   "execution_count": 25,
   "id": "4f119ab7-fdb4-416d-9f51-5e2cd80cb5ed",
   "metadata": {
    "tags": []
   },
   "outputs": [
    {
     "data": {
      "text/html": [
       "<div>\n",
       "<style scoped>\n",
       "    .dataframe tbody tr th:only-of-type {\n",
       "        vertical-align: middle;\n",
       "    }\n",
       "\n",
       "    .dataframe tbody tr th {\n",
       "        vertical-align: top;\n",
       "    }\n",
       "\n",
       "    .dataframe thead th {\n",
       "        text-align: right;\n",
       "    }\n",
       "</style>\n",
       "<table border=\"1\" class=\"dataframe\">\n",
       "  <thead>\n",
       "    <tr style=\"text-align: right;\">\n",
       "      <th></th>\n",
       "      <th>Actual</th>\n",
       "      <th>Predicted</th>\n",
       "      <th>Percentage Difference (%)</th>\n",
       "    </tr>\n",
       "    <tr>\n",
       "      <th>date</th>\n",
       "      <th></th>\n",
       "      <th></th>\n",
       "      <th></th>\n",
       "    </tr>\n",
       "  </thead>\n",
       "  <tbody>\n",
       "    <tr>\n",
       "      <th>2014-05-28</th>\n",
       "      <td>109.910004</td>\n",
       "      <td>82.073395</td>\n",
       "      <td>-25.326729</td>\n",
       "    </tr>\n",
       "    <tr>\n",
       "      <th>2014-05-29</th>\n",
       "      <td>111.489998</td>\n",
       "      <td>82.282333</td>\n",
       "      <td>-26.197565</td>\n",
       "    </tr>\n",
       "    <tr>\n",
       "      <th>2014-05-30</th>\n",
       "      <td>113.110001</td>\n",
       "      <td>82.858902</td>\n",
       "      <td>-26.744849</td>\n",
       "    </tr>\n",
       "    <tr>\n",
       "      <th>2014-06-02</th>\n",
       "      <td>113.949997</td>\n",
       "      <td>85.006004</td>\n",
       "      <td>-25.400609</td>\n",
       "    </tr>\n",
       "    <tr>\n",
       "      <th>2014-06-03</th>\n",
       "      <td>114.919998</td>\n",
       "      <td>84.857727</td>\n",
       "      <td>-26.159303</td>\n",
       "    </tr>\n",
       "    <tr>\n",
       "      <th>...</th>\n",
       "      <td>...</td>\n",
       "      <td>...</td>\n",
       "      <td>...</td>\n",
       "    </tr>\n",
       "    <tr>\n",
       "      <th>2024-03-18</th>\n",
       "      <td>238.660004</td>\n",
       "      <td>194.290466</td>\n",
       "      <td>-18.591107</td>\n",
       "    </tr>\n",
       "    <tr>\n",
       "      <th>2024-03-19</th>\n",
       "      <td>244.320007</td>\n",
       "      <td>197.649841</td>\n",
       "      <td>-19.102065</td>\n",
       "    </tr>\n",
       "    <tr>\n",
       "      <th>2024-03-20</th>\n",
       "      <td>246.720001</td>\n",
       "      <td>200.734528</td>\n",
       "      <td>-18.638729</td>\n",
       "    </tr>\n",
       "    <tr>\n",
       "      <th>2024-03-21</th>\n",
       "      <td>251.479996</td>\n",
       "      <td>205.084351</td>\n",
       "      <td>-18.449040</td>\n",
       "    </tr>\n",
       "    <tr>\n",
       "      <th>2024-03-22</th>\n",
       "      <td>254.770004</td>\n",
       "      <td>207.008698</td>\n",
       "      <td>-18.746833</td>\n",
       "    </tr>\n",
       "  </tbody>\n",
       "</table>\n",
       "<p>2473 rows × 3 columns</p>\n",
       "</div>"
      ],
      "text/plain": [
       "                Actual   Predicted  Percentage Difference (%)\n",
       "date                                                         \n",
       "2014-05-28  109.910004   82.073395                 -25.326729\n",
       "2014-05-29  111.489998   82.282333                 -26.197565\n",
       "2014-05-30  113.110001   82.858902                 -26.744849\n",
       "2014-06-02  113.949997   85.006004                 -25.400609\n",
       "2014-06-03  114.919998   84.857727                 -26.159303\n",
       "...                ...         ...                        ...\n",
       "2024-03-18  238.660004  194.290466                 -18.591107\n",
       "2024-03-19  244.320007  197.649841                 -19.102065\n",
       "2024-03-20  246.720001  200.734528                 -18.638729\n",
       "2024-03-21  251.479996  205.084351                 -18.449040\n",
       "2024-03-22  254.770004  207.008698                 -18.746833\n",
       "\n",
       "[2473 rows x 3 columns]"
      ]
     },
     "execution_count": 25,
     "metadata": {},
     "output_type": "execute_result"
    }
   ],
   "source": [
    "# Calculate the percentage difference between actual and predicted values\n",
    "predictions_df['Percentage Difference (%)'] = ((predictions_df['Predicted'] - predictions_df['Actual']) / predictions_df['Actual']) * 100\n",
    "\n",
    "# Display the DataFrame with percentage difference\n",
    "predictions_df\n"
   ]
  },
  {
   "cell_type": "code",
   "execution_count": 26,
   "id": "d11c8f7c-0ecd-4018-8b48-f314b5032281",
   "metadata": {
    "tags": []
   },
   "outputs": [
    {
     "name": "stdout",
     "output_type": "stream",
     "text": [
      "Average Percentage Difference (%): 23.90997815636999\n"
     ]
    }
   ],
   "source": [
    "# Calculate the absolute percentage difference for each data point\n",
    "predictions_df['Abs_Percentage_Diff'] = abs((predictions_df['Actual'] - predictions_df['Predicted']) / predictions_df['Actual']) * 100\n",
    "\n",
    "# Calculate the average percentage difference\n",
    "avg_percentage_diff = predictions_df['Abs_Percentage_Diff'].mean()\n",
    "\n",
    "print(\"Average Percentage Difference (%):\", avg_percentage_diff)\n"
   ]
  },
  {
   "cell_type": "code",
   "execution_count": null,
   "id": "f2081c0d-6726-4c02-a0a2-04fe3d2f62d9",
   "metadata": {},
   "outputs": [],
   "source": []
  }
 ],
 "metadata": {
  "kernelspec": {
   "display_name": "Python 3 (ipykernel)",
   "language": "python",
   "name": "python3"
  },
  "language_info": {
   "codemirror_mode": {
    "name": "ipython",
    "version": 3
   },
   "file_extension": ".py",
   "mimetype": "text/x-python",
   "name": "python",
   "nbconvert_exporter": "python",
   "pygments_lexer": "ipython3",
   "version": "3.11.5"
  }
 },
 "nbformat": 4,
 "nbformat_minor": 5
}
