{
 "cells": [
  {
   "cell_type": "code",
   "execution_count": 1,
   "id": "5920fcd0-5b64-42a8-b1d4-89cbde24bfc6",
   "metadata": {
    "tags": []
   },
   "outputs": [],
   "source": [
    "# Import necessary libraries\n",
    "import pandas as pd\n",
    "import numpy as np\n",
    "from pathlib import Path\n",
    "from sklearn.model_selection import train_test_split\n",
    "from sklearn.preprocessing import StandardScaler\n",
    "from sklearn.metrics import mean_squared_error, r2_score\n",
    "from finta import TA\n",
    "import tensorflow as tf\n",
    "from tensorflow.keras.models import Sequential\n",
    "from sklearn.metrics import mean_squared_error, mean_absolute_error, r2_score\n",
    "from tensorflow.keras.models import Model\n",
    "from tensorflow.keras.layers import Input, Dense, Dropout\n",
    "from tensorflow.keras.callbacks import EarlyStopping\n",
    "from keras.regularizers import l2\n",
    "from sklearn.model_selection import KFold"
   ]
  },
  {
   "cell_type": "code",
   "execution_count": 2,
   "id": "132c1a0e-ae45-4297-bfda-e7723201ff10",
   "metadata": {
    "tags": []
   },
   "outputs": [],
   "source": [
    "# Load data\n",
    "VWAGY_path = Path(\"../files/VWAGY.csv\")\n",
    "VIX_path = Path(\"../files/^VIX.csv\")\n",
    "FEDFUNDS_path = Path(\"../files/FEDFUNDS (1).csv\")\n",
    "SPY_index = Path(\"../files/SPY.csv\")"
   ]
  },
  {
   "cell_type": "code",
   "execution_count": 3,
   "id": "03346c18-ff56-4512-9b75-6eb73894ad8c",
   "metadata": {
    "tags": []
   },
   "outputs": [],
   "source": [
    "vwagy_df = pd.read_csv(VWAGY_path, index_col=\"Date\")\n",
    "fear_index_df = pd.read_csv(VIX_path, index_col=\"Date\").rename(columns={\"Close\": \"Fear_index\"})\n",
    "spy_index_df = pd.read_csv(SPY_index, index_col=\"Date\").rename(columns={\"Close\": \"SPY_index\"})\n",
    "fedfunds_df = pd.read_csv(FEDFUNDS_path, index_col=\"DATE\")"
   ]
  },
  {
   "cell_type": "code",
   "execution_count": 4,
   "id": "2fee016b-56a9-4029-803c-bee43487d4df",
   "metadata": {
    "tags": []
   },
   "outputs": [],
   "source": [
    "# Convert index to datetime index\n",
    "fedfunds_df.index = pd.to_datetime(fedfunds_df.index)\n",
    "\n",
    "# Resample the fed_funds_df to have daily frequency and forward fill the values\n",
    "fedfunds_df_monthly = fedfunds_df.resample('D').ffill()\n"
   ]
  },
  {
   "cell_type": "code",
   "execution_count": 5,
   "id": "7230a852-375e-425b-a119-15f6667e1f0d",
   "metadata": {
    "tags": []
   },
   "outputs": [],
   "source": [
    "# Concatenate dataframes\n",
    "concatenated_df = pd.concat([vwagy_df, fear_index_df['Fear_index'], spy_index_df['SPY_index']], axis=1)\n",
    "concatenated_df.index = pd.to_datetime(concatenated_df.index)\n"
   ]
  },
  {
   "cell_type": "code",
   "execution_count": 6,
   "id": "b810df0a-5c24-4e2e-b1be-5b027cb9c2af",
   "metadata": {
    "tags": []
   },
   "outputs": [],
   "source": [
    "# Merge with fedfunds_df\n",
    "concatenated_df = pd.merge(concatenated_df, fedfunds_df_monthly, left_index=True, right_index=True)\n"
   ]
  },
  {
   "cell_type": "code",
   "execution_count": 7,
   "id": "9b5181b7-c237-4d9d-888f-8470623db3c2",
   "metadata": {
    "tags": []
   },
   "outputs": [],
   "source": [
    "# Drop rows with NaN values\n",
    "concatenated_df = concatenated_df.dropna()\n"
   ]
  },
  {
   "cell_type": "code",
   "execution_count": 8,
   "id": "d6d4d502-4d51-4613-975d-3d600eb2fb28",
   "metadata": {
    "tags": []
   },
   "outputs": [],
   "source": [
    "# Shift target variable\n",
    "concatenated_df['Target'] = concatenated_df['Close'].shift(-5)\n",
    "concatenated_df = concatenated_df.dropna()"
   ]
  },
  {
   "cell_type": "code",
   "execution_count": 9,
   "id": "bb6a6742-b8f8-4663-907d-1e7fbffd2ce1",
   "metadata": {
    "tags": []
   },
   "outputs": [
    {
     "data": {
      "text/html": [
       "<div>\n",
       "<style scoped>\n",
       "    .dataframe tbody tr th:only-of-type {\n",
       "        vertical-align: middle;\n",
       "    }\n",
       "\n",
       "    .dataframe tbody tr th {\n",
       "        vertical-align: top;\n",
       "    }\n",
       "\n",
       "    .dataframe thead th {\n",
       "        text-align: right;\n",
       "    }\n",
       "</style>\n",
       "<table border=\"1\" class=\"dataframe\">\n",
       "  <thead>\n",
       "    <tr style=\"text-align: right;\">\n",
       "      <th></th>\n",
       "      <th>Open</th>\n",
       "      <th>High</th>\n",
       "      <th>Low</th>\n",
       "      <th>Close</th>\n",
       "      <th>Adj Close</th>\n",
       "      <th>Volume</th>\n",
       "      <th>Fear_index</th>\n",
       "      <th>SPY_index</th>\n",
       "      <th>FEDFUNDS</th>\n",
       "      <th>Target</th>\n",
       "    </tr>\n",
       "  </thead>\n",
       "  <tbody>\n",
       "    <tr>\n",
       "      <th>2014-04-30</th>\n",
       "      <td>26.635000</td>\n",
       "      <td>26.730000</td>\n",
       "      <td>26.490000</td>\n",
       "      <td>26.730000</td>\n",
       "      <td>20.591963</td>\n",
       "      <td>24800.0</td>\n",
       "      <td>13.41</td>\n",
       "      <td>188.309998</td>\n",
       "      <td>0.09</td>\n",
       "      <td>25.822500</td>\n",
       "    </tr>\n",
       "    <tr>\n",
       "      <th>2014-05-01</th>\n",
       "      <td>26.683500</td>\n",
       "      <td>26.683500</td>\n",
       "      <td>26.590000</td>\n",
       "      <td>26.594999</td>\n",
       "      <td>20.487959</td>\n",
       "      <td>13800.0</td>\n",
       "      <td>13.25</td>\n",
       "      <td>188.330002</td>\n",
       "      <td>0.09</td>\n",
       "      <td>26.000000</td>\n",
       "    </tr>\n",
       "    <tr>\n",
       "      <th>2014-05-02</th>\n",
       "      <td>26.125000</td>\n",
       "      <td>26.230000</td>\n",
       "      <td>26.059999</td>\n",
       "      <td>26.120001</td>\n",
       "      <td>20.122036</td>\n",
       "      <td>38600.0</td>\n",
       "      <td>12.91</td>\n",
       "      <td>188.059998</td>\n",
       "      <td>0.09</td>\n",
       "      <td>25.450001</td>\n",
       "    </tr>\n",
       "    <tr>\n",
       "      <th>2014-05-05</th>\n",
       "      <td>25.785000</td>\n",
       "      <td>26.294001</td>\n",
       "      <td>25.570000</td>\n",
       "      <td>26.264999</td>\n",
       "      <td>20.233738</td>\n",
       "      <td>429000.0</td>\n",
       "      <td>13.29</td>\n",
       "      <td>188.419998</td>\n",
       "      <td>0.09</td>\n",
       "      <td>25.455000</td>\n",
       "    </tr>\n",
       "    <tr>\n",
       "      <th>2014-05-06</th>\n",
       "      <td>25.879999</td>\n",
       "      <td>26.035000</td>\n",
       "      <td>25.760000</td>\n",
       "      <td>25.975000</td>\n",
       "      <td>20.010332</td>\n",
       "      <td>100200.0</td>\n",
       "      <td>13.80</td>\n",
       "      <td>186.779999</td>\n",
       "      <td>0.09</td>\n",
       "      <td>25.067499</td>\n",
       "    </tr>\n",
       "    <tr>\n",
       "      <th>2014-05-07</th>\n",
       "      <td>25.915001</td>\n",
       "      <td>26.065001</td>\n",
       "      <td>25.757500</td>\n",
       "      <td>25.822500</td>\n",
       "      <td>19.892851</td>\n",
       "      <td>75800.0</td>\n",
       "      <td>13.40</td>\n",
       "      <td>187.880005</td>\n",
       "      <td>0.09</td>\n",
       "      <td>25.398500</td>\n",
       "    </tr>\n",
       "    <tr>\n",
       "      <th>2014-05-08</th>\n",
       "      <td>26.105000</td>\n",
       "      <td>26.245001</td>\n",
       "      <td>25.969999</td>\n",
       "      <td>26.000000</td>\n",
       "      <td>20.029591</td>\n",
       "      <td>93000.0</td>\n",
       "      <td>13.43</td>\n",
       "      <td>187.679993</td>\n",
       "      <td>0.09</td>\n",
       "      <td>25.375000</td>\n",
       "    </tr>\n",
       "    <tr>\n",
       "      <th>2014-05-09</th>\n",
       "      <td>25.940001</td>\n",
       "      <td>25.945000</td>\n",
       "      <td>25.264999</td>\n",
       "      <td>25.450001</td>\n",
       "      <td>19.605890</td>\n",
       "      <td>101200.0</td>\n",
       "      <td>12.92</td>\n",
       "      <td>187.960007</td>\n",
       "      <td>0.09</td>\n",
       "      <td>25.600000</td>\n",
       "    </tr>\n",
       "    <tr>\n",
       "      <th>2014-05-12</th>\n",
       "      <td>25.945000</td>\n",
       "      <td>25.995001</td>\n",
       "      <td>25.400000</td>\n",
       "      <td>25.455000</td>\n",
       "      <td>19.609743</td>\n",
       "      <td>42800.0</td>\n",
       "      <td>12.23</td>\n",
       "      <td>189.789993</td>\n",
       "      <td>0.09</td>\n",
       "      <td>25.717501</td>\n",
       "    </tr>\n",
       "    <tr>\n",
       "      <th>2014-05-13</th>\n",
       "      <td>25.225000</td>\n",
       "      <td>25.379999</td>\n",
       "      <td>25.010000</td>\n",
       "      <td>25.067499</td>\n",
       "      <td>19.311224</td>\n",
       "      <td>41000.0</td>\n",
       "      <td>12.13</td>\n",
       "      <td>189.960007</td>\n",
       "      <td>0.09</td>\n",
       "      <td>25.684999</td>\n",
       "    </tr>\n",
       "  </tbody>\n",
       "</table>\n",
       "</div>"
      ],
      "text/plain": [
       "                 Open       High        Low      Close  Adj Close    Volume  \\\n",
       "2014-04-30  26.635000  26.730000  26.490000  26.730000  20.591963   24800.0   \n",
       "2014-05-01  26.683500  26.683500  26.590000  26.594999  20.487959   13800.0   \n",
       "2014-05-02  26.125000  26.230000  26.059999  26.120001  20.122036   38600.0   \n",
       "2014-05-05  25.785000  26.294001  25.570000  26.264999  20.233738  429000.0   \n",
       "2014-05-06  25.879999  26.035000  25.760000  25.975000  20.010332  100200.0   \n",
       "2014-05-07  25.915001  26.065001  25.757500  25.822500  19.892851   75800.0   \n",
       "2014-05-08  26.105000  26.245001  25.969999  26.000000  20.029591   93000.0   \n",
       "2014-05-09  25.940001  25.945000  25.264999  25.450001  19.605890  101200.0   \n",
       "2014-05-12  25.945000  25.995001  25.400000  25.455000  19.609743   42800.0   \n",
       "2014-05-13  25.225000  25.379999  25.010000  25.067499  19.311224   41000.0   \n",
       "\n",
       "            Fear_index   SPY_index  FEDFUNDS     Target  \n",
       "2014-04-30       13.41  188.309998      0.09  25.822500  \n",
       "2014-05-01       13.25  188.330002      0.09  26.000000  \n",
       "2014-05-02       12.91  188.059998      0.09  25.450001  \n",
       "2014-05-05       13.29  188.419998      0.09  25.455000  \n",
       "2014-05-06       13.80  186.779999      0.09  25.067499  \n",
       "2014-05-07       13.40  187.880005      0.09  25.398500  \n",
       "2014-05-08       13.43  187.679993      0.09  25.375000  \n",
       "2014-05-09       12.92  187.960007      0.09  25.600000  \n",
       "2014-05-12       12.23  189.789993      0.09  25.717501  \n",
       "2014-05-13       12.13  189.960007      0.09  25.684999  "
      ]
     },
     "execution_count": 9,
     "metadata": {},
     "output_type": "execute_result"
    }
   ],
   "source": [
    "concatenated_df.head(10)"
   ]
  },
  {
   "cell_type": "code",
   "execution_count": 10,
   "id": "74a6aa03-8882-46f2-bb92-574de43e6e9c",
   "metadata": {
    "tags": []
   },
   "outputs": [
    {
     "data": {
      "text/html": [
       "<div>\n",
       "<style scoped>\n",
       "    .dataframe tbody tr th:only-of-type {\n",
       "        vertical-align: middle;\n",
       "    }\n",
       "\n",
       "    .dataframe tbody tr th {\n",
       "        vertical-align: top;\n",
       "    }\n",
       "\n",
       "    .dataframe thead th {\n",
       "        text-align: right;\n",
       "    }\n",
       "</style>\n",
       "<table border=\"1\" class=\"dataframe\">\n",
       "  <thead>\n",
       "    <tr style=\"text-align: right;\">\n",
       "      <th></th>\n",
       "      <th>Open</th>\n",
       "      <th>High</th>\n",
       "      <th>Low</th>\n",
       "      <th>Close</th>\n",
       "      <th>Adj Close</th>\n",
       "      <th>Volume</th>\n",
       "      <th>Fear_index</th>\n",
       "      <th>SPY_index</th>\n",
       "      <th>FEDFUNDS</th>\n",
       "      <th>Target</th>\n",
       "      <th>MA</th>\n",
       "      <th>RSI</th>\n",
       "      <th>BB_UPPER</th>\n",
       "      <th>BB_MIDDLE</th>\n",
       "      <th>BB_LOWER</th>\n",
       "    </tr>\n",
       "  </thead>\n",
       "  <tbody>\n",
       "    <tr>\n",
       "      <th>2024-03-18</th>\n",
       "      <td>14.69</td>\n",
       "      <td>14.790</td>\n",
       "      <td>14.65</td>\n",
       "      <td>14.725</td>\n",
       "      <td>14.725</td>\n",
       "      <td>193000.0</td>\n",
       "      <td>14.33</td>\n",
       "      <td>512.859985</td>\n",
       "      <td>5.33</td>\n",
       "      <td>15.040</td>\n",
       "      <td>14.93425</td>\n",
       "      <td>51.509069</td>\n",
       "      <td>15.796342</td>\n",
       "      <td>14.93425</td>\n",
       "      <td>14.072158</td>\n",
       "    </tr>\n",
       "    <tr>\n",
       "      <th>2024-03-19</th>\n",
       "      <td>14.87</td>\n",
       "      <td>14.980</td>\n",
       "      <td>14.84</td>\n",
       "      <td>14.920</td>\n",
       "      <td>14.920</td>\n",
       "      <td>222100.0</td>\n",
       "      <td>13.82</td>\n",
       "      <td>515.710022</td>\n",
       "      <td>5.33</td>\n",
       "      <td>15.144</td>\n",
       "      <td>14.95925</td>\n",
       "      <td>54.395795</td>\n",
       "      <td>15.786861</td>\n",
       "      <td>14.95925</td>\n",
       "      <td>14.131639</td>\n",
       "    </tr>\n",
       "    <tr>\n",
       "      <th>2024-03-20</th>\n",
       "      <td>14.79</td>\n",
       "      <td>15.088</td>\n",
       "      <td>14.76</td>\n",
       "      <td>15.050</td>\n",
       "      <td>15.050</td>\n",
       "      <td>150700.0</td>\n",
       "      <td>13.04</td>\n",
       "      <td>520.479980</td>\n",
       "      <td>5.33</td>\n",
       "      <td>15.200</td>\n",
       "      <td>14.97425</td>\n",
       "      <td>56.265044</td>\n",
       "      <td>15.796751</td>\n",
       "      <td>14.97425</td>\n",
       "      <td>14.151749</td>\n",
       "    </tr>\n",
       "    <tr>\n",
       "      <th>2024-03-21</th>\n",
       "      <td>14.97</td>\n",
       "      <td>15.010</td>\n",
       "      <td>14.78</td>\n",
       "      <td>14.850</td>\n",
       "      <td>14.850</td>\n",
       "      <td>180700.0</td>\n",
       "      <td>12.92</td>\n",
       "      <td>522.200012</td>\n",
       "      <td>5.33</td>\n",
       "      <td>15.250</td>\n",
       "      <td>14.96225</td>\n",
       "      <td>52.687066</td>\n",
       "      <td>15.784644</td>\n",
       "      <td>14.96225</td>\n",
       "      <td>14.139856</td>\n",
       "    </tr>\n",
       "    <tr>\n",
       "      <th>2024-03-22</th>\n",
       "      <td>14.78</td>\n",
       "      <td>14.840</td>\n",
       "      <td>14.73</td>\n",
       "      <td>14.830</td>\n",
       "      <td>14.830</td>\n",
       "      <td>103500.0</td>\n",
       "      <td>13.06</td>\n",
       "      <td>521.210022</td>\n",
       "      <td>5.33</td>\n",
       "      <td>15.200</td>\n",
       "      <td>14.94125</td>\n",
       "      <td>52.328703</td>\n",
       "      <td>15.754100</td>\n",
       "      <td>14.94125</td>\n",
       "      <td>14.128400</td>\n",
       "    </tr>\n",
       "  </tbody>\n",
       "</table>\n",
       "</div>"
      ],
      "text/plain": [
       "             Open    High    Low   Close  Adj Close    Volume  Fear_index  \\\n",
       "2024-03-18  14.69  14.790  14.65  14.725     14.725  193000.0       14.33   \n",
       "2024-03-19  14.87  14.980  14.84  14.920     14.920  222100.0       13.82   \n",
       "2024-03-20  14.79  15.088  14.76  15.050     15.050  150700.0       13.04   \n",
       "2024-03-21  14.97  15.010  14.78  14.850     14.850  180700.0       12.92   \n",
       "2024-03-22  14.78  14.840  14.73  14.830     14.830  103500.0       13.06   \n",
       "\n",
       "             SPY_index  FEDFUNDS  Target        MA        RSI   BB_UPPER  \\\n",
       "2024-03-18  512.859985      5.33  15.040  14.93425  51.509069  15.796342   \n",
       "2024-03-19  515.710022      5.33  15.144  14.95925  54.395795  15.786861   \n",
       "2024-03-20  520.479980      5.33  15.200  14.97425  56.265044  15.796751   \n",
       "2024-03-21  522.200012      5.33  15.250  14.96225  52.687066  15.784644   \n",
       "2024-03-22  521.210022      5.33  15.200  14.94125  52.328703  15.754100   \n",
       "\n",
       "            BB_MIDDLE   BB_LOWER  \n",
       "2024-03-18   14.93425  14.072158  \n",
       "2024-03-19   14.95925  14.131639  \n",
       "2024-03-20   14.97425  14.151749  \n",
       "2024-03-21   14.96225  14.139856  \n",
       "2024-03-22   14.94125  14.128400  "
      ]
     },
     "execution_count": 10,
     "metadata": {},
     "output_type": "execute_result"
    }
   ],
   "source": [
    "# Calculate technical indicators using finta\n",
    "data = concatenated_df.copy()  # Use the existing DataFrame concatenated_df\n",
    "data['MA'] = TA.SMA(data, 20)  # 20-period Simple Moving Average\n",
    "data['RSI'] = TA.RSI(data, 14)  # 14-period RSI\n",
    "\n",
    "# Calculate Bollinger Bands correctly\n",
    "bb_bands = TA.BBANDS(data, 20, 2)\n",
    "\n",
    "# Assign Bollinger Bands values to DataFrame columns\n",
    "data['BB_UPPER'] = bb_bands['BB_UPPER']\n",
    "data['BB_MIDDLE'] = bb_bands['BB_MIDDLE']\n",
    "data['BB_LOWER'] = bb_bands['BB_LOWER']\n",
    "\n",
    "# Convert index to datetime\n",
    "data.index = pd.to_datetime(data.index)\n",
    "\n",
    "# Display the calculated technical indicators\n",
    "data.tail()\n"
   ]
  },
  {
   "cell_type": "code",
   "execution_count": 11,
   "id": "b6969867-dbca-4cca-8704-d412916b0ff0",
   "metadata": {
    "tags": []
   },
   "outputs": [],
   "source": [
    "# Define features and target\n",
    "X = concatenated_df.drop(\"Close\", axis=1)\n",
    "y = concatenated_df[\"Close\"]"
   ]
  },
  {
   "cell_type": "code",
   "execution_count": 12,
   "id": "4748b907-eb43-49cd-8a2b-5d375085c9ad",
   "metadata": {
    "tags": []
   },
   "outputs": [],
   "source": [
    "data.drop(columns=['Open', 'High', 'Low', 'Close', 'Adj Close'], inplace=True)\n"
   ]
  },
  {
   "cell_type": "code",
   "execution_count": 13,
   "id": "786fedd4-30d1-40ea-b0e1-ec9c6b0c829a",
   "metadata": {
    "tags": []
   },
   "outputs": [
    {
     "data": {
      "text/html": [
       "<div>\n",
       "<style scoped>\n",
       "    .dataframe tbody tr th:only-of-type {\n",
       "        vertical-align: middle;\n",
       "    }\n",
       "\n",
       "    .dataframe tbody tr th {\n",
       "        vertical-align: top;\n",
       "    }\n",
       "\n",
       "    .dataframe thead th {\n",
       "        text-align: right;\n",
       "    }\n",
       "</style>\n",
       "<table border=\"1\" class=\"dataframe\">\n",
       "  <thead>\n",
       "    <tr style=\"text-align: right;\">\n",
       "      <th></th>\n",
       "      <th>Volume</th>\n",
       "      <th>Fear_index</th>\n",
       "      <th>SPY_index</th>\n",
       "      <th>FEDFUNDS</th>\n",
       "      <th>Target</th>\n",
       "      <th>MA</th>\n",
       "      <th>RSI</th>\n",
       "      <th>BB_UPPER</th>\n",
       "      <th>BB_MIDDLE</th>\n",
       "      <th>BB_LOWER</th>\n",
       "    </tr>\n",
       "  </thead>\n",
       "  <tbody>\n",
       "    <tr>\n",
       "      <th>2014-04-30</th>\n",
       "      <td>24800.0</td>\n",
       "      <td>13.41</td>\n",
       "      <td>188.309998</td>\n",
       "      <td>0.09</td>\n",
       "      <td>25.822500</td>\n",
       "      <td>NaN</td>\n",
       "      <td>NaN</td>\n",
       "      <td>NaN</td>\n",
       "      <td>NaN</td>\n",
       "      <td>NaN</td>\n",
       "    </tr>\n",
       "    <tr>\n",
       "      <th>2014-05-01</th>\n",
       "      <td>13800.0</td>\n",
       "      <td>13.25</td>\n",
       "      <td>188.330002</td>\n",
       "      <td>0.09</td>\n",
       "      <td>26.000000</td>\n",
       "      <td>NaN</td>\n",
       "      <td>0.000000</td>\n",
       "      <td>NaN</td>\n",
       "      <td>NaN</td>\n",
       "      <td>NaN</td>\n",
       "    </tr>\n",
       "    <tr>\n",
       "      <th>2014-05-02</th>\n",
       "      <td>38600.0</td>\n",
       "      <td>12.91</td>\n",
       "      <td>188.059998</td>\n",
       "      <td>0.09</td>\n",
       "      <td>25.450001</td>\n",
       "      <td>NaN</td>\n",
       "      <td>0.000000</td>\n",
       "      <td>NaN</td>\n",
       "      <td>NaN</td>\n",
       "      <td>NaN</td>\n",
       "    </tr>\n",
       "    <tr>\n",
       "      <th>2014-05-05</th>\n",
       "      <td>429000.0</td>\n",
       "      <td>13.29</td>\n",
       "      <td>188.419998</td>\n",
       "      <td>0.09</td>\n",
       "      <td>25.455000</td>\n",
       "      <td>NaN</td>\n",
       "      <td>20.641122</td>\n",
       "      <td>NaN</td>\n",
       "      <td>NaN</td>\n",
       "      <td>NaN</td>\n",
       "    </tr>\n",
       "    <tr>\n",
       "      <th>2014-05-06</th>\n",
       "      <td>100200.0</td>\n",
       "      <td>13.80</td>\n",
       "      <td>186.779999</td>\n",
       "      <td>0.09</td>\n",
       "      <td>25.067499</td>\n",
       "      <td>NaN</td>\n",
       "      <td>14.288641</td>\n",
       "      <td>NaN</td>\n",
       "      <td>NaN</td>\n",
       "      <td>NaN</td>\n",
       "    </tr>\n",
       "  </tbody>\n",
       "</table>\n",
       "</div>"
      ],
      "text/plain": [
       "              Volume  Fear_index   SPY_index  FEDFUNDS     Target  MA  \\\n",
       "2014-04-30   24800.0       13.41  188.309998      0.09  25.822500 NaN   \n",
       "2014-05-01   13800.0       13.25  188.330002      0.09  26.000000 NaN   \n",
       "2014-05-02   38600.0       12.91  188.059998      0.09  25.450001 NaN   \n",
       "2014-05-05  429000.0       13.29  188.419998      0.09  25.455000 NaN   \n",
       "2014-05-06  100200.0       13.80  186.779999      0.09  25.067499 NaN   \n",
       "\n",
       "                  RSI  BB_UPPER  BB_MIDDLE  BB_LOWER  \n",
       "2014-04-30        NaN       NaN        NaN       NaN  \n",
       "2014-05-01   0.000000       NaN        NaN       NaN  \n",
       "2014-05-02   0.000000       NaN        NaN       NaN  \n",
       "2014-05-05  20.641122       NaN        NaN       NaN  \n",
       "2014-05-06  14.288641       NaN        NaN       NaN  "
      ]
     },
     "execution_count": 13,
     "metadata": {},
     "output_type": "execute_result"
    }
   ],
   "source": [
    "# Display the modified DataFrame\n",
    "data.head()"
   ]
  },
  {
   "cell_type": "code",
   "execution_count": 14,
   "id": "fe32cebf-4c03-4e7b-8aab-6c224c91f0dd",
   "metadata": {
    "tags": []
   },
   "outputs": [],
   "source": [
    "data_clean = data.dropna()\n",
    "data_clean.index.rename('date', inplace=True)\n",
    "data_clean.to_csv('../clean_data/VWAGY_prepared_data.csv', index=True)"
   ]
  },
  {
   "cell_type": "code",
   "execution_count": 15,
   "id": "b0c80da0-47a0-4a7c-ba66-13a883a75510",
   "metadata": {
    "tags": []
   },
   "outputs": [
    {
     "data": {
      "text/html": [
       "<div>\n",
       "<style scoped>\n",
       "    .dataframe tbody tr th:only-of-type {\n",
       "        vertical-align: middle;\n",
       "    }\n",
       "\n",
       "    .dataframe tbody tr th {\n",
       "        vertical-align: top;\n",
       "    }\n",
       "\n",
       "    .dataframe thead th {\n",
       "        text-align: right;\n",
       "    }\n",
       "</style>\n",
       "<table border=\"1\" class=\"dataframe\">\n",
       "  <thead>\n",
       "    <tr style=\"text-align: right;\">\n",
       "      <th></th>\n",
       "      <th>Volume</th>\n",
       "      <th>Fear_index</th>\n",
       "      <th>SPY_index</th>\n",
       "      <th>FEDFUNDS</th>\n",
       "      <th>Target</th>\n",
       "      <th>MA</th>\n",
       "      <th>RSI</th>\n",
       "      <th>BB_UPPER</th>\n",
       "      <th>BB_MIDDLE</th>\n",
       "      <th>BB_LOWER</th>\n",
       "    </tr>\n",
       "    <tr>\n",
       "      <th>date</th>\n",
       "      <th></th>\n",
       "      <th></th>\n",
       "      <th></th>\n",
       "      <th></th>\n",
       "      <th></th>\n",
       "      <th></th>\n",
       "      <th></th>\n",
       "      <th></th>\n",
       "      <th></th>\n",
       "      <th></th>\n",
       "    </tr>\n",
       "  </thead>\n",
       "  <tbody>\n",
       "    <tr>\n",
       "      <th>2014-05-28</th>\n",
       "      <td>107800.0</td>\n",
       "      <td>11.68</td>\n",
       "      <td>191.380005</td>\n",
       "      <td>0.09</td>\n",
       "      <td>25.915001</td>\n",
       "      <td>25.88305</td>\n",
       "      <td>54.503645</td>\n",
       "      <td>26.742640</td>\n",
       "      <td>25.88305</td>\n",
       "      <td>25.023460</td>\n",
       "    </tr>\n",
       "    <tr>\n",
       "      <th>2014-05-29</th>\n",
       "      <td>56800.0</td>\n",
       "      <td>11.57</td>\n",
       "      <td>192.369995</td>\n",
       "      <td>0.09</td>\n",
       "      <td>26.500000</td>\n",
       "      <td>25.86355</td>\n",
       "      <td>56.915645</td>\n",
       "      <td>26.657424</td>\n",
       "      <td>25.86355</td>\n",
       "      <td>25.069676</td>\n",
       "    </tr>\n",
       "    <tr>\n",
       "      <th>2014-05-30</th>\n",
       "      <td>33200.0</td>\n",
       "      <td>11.40</td>\n",
       "      <td>192.679993</td>\n",
       "      <td>0.09</td>\n",
       "      <td>26.559999</td>\n",
       "      <td>25.84680</td>\n",
       "      <td>54.543018</td>\n",
       "      <td>26.588089</td>\n",
       "      <td>25.84680</td>\n",
       "      <td>25.105511</td>\n",
       "    </tr>\n",
       "    <tr>\n",
       "      <th>2014-06-02</th>\n",
       "      <td>106000.0</td>\n",
       "      <td>11.58</td>\n",
       "      <td>192.899994</td>\n",
       "      <td>0.10</td>\n",
       "      <td>26.370001</td>\n",
       "      <td>25.86830</td>\n",
       "      <td>60.905223</td>\n",
       "      <td>26.665766</td>\n",
       "      <td>25.86830</td>\n",
       "      <td>25.070834</td>\n",
       "    </tr>\n",
       "    <tr>\n",
       "      <th>2014-06-03</th>\n",
       "      <td>292800.0</td>\n",
       "      <td>11.87</td>\n",
       "      <td>192.800003</td>\n",
       "      <td>0.10</td>\n",
       "      <td>26.045000</td>\n",
       "      <td>25.87005</td>\n",
       "      <td>53.901398</td>\n",
       "      <td>26.671326</td>\n",
       "      <td>25.87005</td>\n",
       "      <td>25.068774</td>\n",
       "    </tr>\n",
       "  </tbody>\n",
       "</table>\n",
       "</div>"
      ],
      "text/plain": [
       "              Volume  Fear_index   SPY_index  FEDFUNDS     Target        MA  \\\n",
       "date                                                                          \n",
       "2014-05-28  107800.0       11.68  191.380005      0.09  25.915001  25.88305   \n",
       "2014-05-29   56800.0       11.57  192.369995      0.09  26.500000  25.86355   \n",
       "2014-05-30   33200.0       11.40  192.679993      0.09  26.559999  25.84680   \n",
       "2014-06-02  106000.0       11.58  192.899994      0.10  26.370001  25.86830   \n",
       "2014-06-03  292800.0       11.87  192.800003      0.10  26.045000  25.87005   \n",
       "\n",
       "                  RSI   BB_UPPER  BB_MIDDLE   BB_LOWER  \n",
       "date                                                    \n",
       "2014-05-28  54.503645  26.742640   25.88305  25.023460  \n",
       "2014-05-29  56.915645  26.657424   25.86355  25.069676  \n",
       "2014-05-30  54.543018  26.588089   25.84680  25.105511  \n",
       "2014-06-02  60.905223  26.665766   25.86830  25.070834  \n",
       "2014-06-03  53.901398  26.671326   25.87005  25.068774  "
      ]
     },
     "execution_count": 15,
     "metadata": {},
     "output_type": "execute_result"
    }
   ],
   "source": [
    "data_clean.head()"
   ]
  },
  {
   "cell_type": "code",
   "execution_count": 16,
   "id": "8205d705-dc1b-4385-8336-6e42bf0edcfd",
   "metadata": {
    "tags": []
   },
   "outputs": [],
   "source": [
    "# Define date cutoff for data split\n",
    "date_cutoff = \"2022-04-30\"\n",
    "\n",
    "# Split data\n",
    "X_train = X[X.index <= date_cutoff]\n",
    "X_test = X[X.index > date_cutoff]\n",
    "y_train = y[y.index <= date_cutoff]\n",
    "y_test = y[y.index > date_cutoff]"
   ]
  },
  {
   "cell_type": "code",
   "execution_count": 17,
   "id": "9d250e4f-237d-449c-ae0b-dd60b1d8b2bf",
   "metadata": {
    "tags": []
   },
   "outputs": [],
   "source": [
    "# Scale data\n",
    "scaler = StandardScaler()\n",
    "X_train_scaled = scaler.fit_transform(X_train)\n",
    "X_test_scaled = scaler.transform(X_test)\n"
   ]
  },
  {
   "cell_type": "code",
   "execution_count": 18,
   "id": "1add25f4-f01d-4880-b817-e957175c393d",
   "metadata": {
    "tags": []
   },
   "outputs": [
    {
     "name": "stderr",
     "output_type": "stream",
     "text": [
      "/Users/kd17/anaconda3/lib/python3.11/site-packages/keras/src/layers/core/dense.py:86: UserWarning: Do not pass an `input_shape`/`input_dim` argument to a layer. When using Sequential models, prefer using an `Input(shape)` object as the first layer in the model instead.\n",
      "  super().__init__(activity_regularizer=activity_regularizer, **kwargs)\n"
     ]
    },
    {
     "name": "stdout",
     "output_type": "stream",
     "text": [
      "\u001b[1m57/57\u001b[0m \u001b[32m━━━━━━━━━━━━━━━━━━━━\u001b[0m\u001b[37m\u001b[0m \u001b[1m0s\u001b[0m 650us/step\n",
      "\u001b[1m7/7\u001b[0m \u001b[32m━━━━━━━━━━━━━━━━━━━━\u001b[0m\u001b[37m\u001b[0m \u001b[1m0s\u001b[0m 531us/step\n",
      "\u001b[1m57/57\u001b[0m \u001b[32m━━━━━━━━━━━━━━━━━━━━\u001b[0m\u001b[37m\u001b[0m \u001b[1m0s\u001b[0m 387us/step\n",
      "\u001b[1m7/7\u001b[0m \u001b[32m━━━━━━━━━━━━━━━━━━━━\u001b[0m\u001b[37m\u001b[0m \u001b[1m0s\u001b[0m 495us/step\n",
      "\u001b[1m57/57\u001b[0m \u001b[32m━━━━━━━━━━━━━━━━━━━━\u001b[0m\u001b[37m\u001b[0m \u001b[1m0s\u001b[0m 364us/step\n",
      "\u001b[1m7/7\u001b[0m \u001b[32m━━━━━━━━━━━━━━━━━━━━\u001b[0m\u001b[37m\u001b[0m \u001b[1m0s\u001b[0m 501us/step\n",
      "\u001b[1m57/57\u001b[0m \u001b[32m━━━━━━━━━━━━━━━━━━━━\u001b[0m\u001b[37m\u001b[0m \u001b[1m0s\u001b[0m 360us/step\n",
      "\u001b[1m7/7\u001b[0m \u001b[32m━━━━━━━━━━━━━━━━━━━━\u001b[0m\u001b[37m\u001b[0m \u001b[1m0s\u001b[0m 569us/step\n",
      "\u001b[1m57/57\u001b[0m \u001b[32m━━━━━━━━━━━━━━━━━━━━\u001b[0m\u001b[37m\u001b[0m \u001b[1m0s\u001b[0m 341us/step\n",
      "\u001b[1m7/7\u001b[0m \u001b[32m━━━━━━━━━━━━━━━━━━━━\u001b[0m\u001b[37m\u001b[0m \u001b[1m0s\u001b[0m 566us/step\n",
      "\u001b[1m57/57\u001b[0m \u001b[32m━━━━━━━━━━━━━━━━━━━━\u001b[0m\u001b[37m\u001b[0m \u001b[1m0s\u001b[0m 386us/step\n",
      "\u001b[1m7/7\u001b[0m \u001b[32m━━━━━━━━━━━━━━━━━━━━\u001b[0m\u001b[37m\u001b[0m \u001b[1m0s\u001b[0m 597us/step\n",
      "\u001b[1m57/57\u001b[0m \u001b[32m━━━━━━━━━━━━━━━━━━━━\u001b[0m\u001b[37m\u001b[0m \u001b[1m0s\u001b[0m 360us/step\n",
      "\u001b[1m7/7\u001b[0m \u001b[32m━━━━━━━━━━━━━━━━━━━━\u001b[0m\u001b[37m\u001b[0m \u001b[1m0s\u001b[0m 550us/step\n",
      "\u001b[1m57/57\u001b[0m \u001b[32m━━━━━━━━━━━━━━━━━━━━\u001b[0m\u001b[37m\u001b[0m \u001b[1m0s\u001b[0m 361us/step\n",
      "\u001b[1m7/7\u001b[0m \u001b[32m━━━━━━━━━━━━━━━━━━━━\u001b[0m\u001b[37m\u001b[0m \u001b[1m0s\u001b[0m 471us/step\n",
      "\u001b[1m57/57\u001b[0m \u001b[32m━━━━━━━━━━━━━━━━━━━━\u001b[0m\u001b[37m\u001b[0m \u001b[1m0s\u001b[0m 361us/step\n",
      "\u001b[1m7/7\u001b[0m \u001b[32m━━━━━━━━━━━━━━━━━━━━\u001b[0m\u001b[37m\u001b[0m \u001b[1m0s\u001b[0m 558us/step\n",
      "\u001b[1m57/57\u001b[0m \u001b[32m━━━━━━━━━━━━━━━━━━━━\u001b[0m\u001b[37m\u001b[0m \u001b[1m0s\u001b[0m 2ms/step\n",
      "\u001b[1m7/7\u001b[0m \u001b[32m━━━━━━━━━━━━━━━━━━━━\u001b[0m\u001b[37m\u001b[0m \u001b[1m0s\u001b[0m 492us/step\n",
      "Average R-squared (Train): -12.482407673821026\n",
      "Average R-squared (Test): -12.647223430976645\n"
     ]
    }
   ],
   "source": [
    "# Define the number of folds\n",
    "k = 10\n",
    "\n",
    "# Initialize lists to store R-squared scores\n",
    "train_r2_scores = []\n",
    "test_r2_scores = []\n",
    "\n",
    "# Initialize KFold\n",
    "kf = KFold(n_splits=k, shuffle=True)\n",
    "\n",
    "# Define the model architecture\n",
    "model = Sequential([\n",
    "    Dense(units=16, activation='relu', kernel_regularizer=l2(0.0005), input_shape=(X_train_scaled.shape[1],)),\n",
    "    Dropout(0.6),\n",
    "    Dense(units=8, activation='relu', kernel_regularizer=l2(0.0005)),\n",
    "    Dropout(0.6),\n",
    "    Dense(units=1)\n",
    "])\n",
    "\n",
    "# Example: Train with a smaller learning rate\n",
    "from keras.optimizers import Adam\n",
    "adam = Adam(learning_rate=0.0001)  # Adjust learning rate as needed\n",
    "model.compile(optimizer=adam, loss='mean_squared_error')\n",
    "model.fit(X_train, y_train, epochs=50, batch_size=32, verbose=0)\n",
    "\n",
    "# Compile the model\n",
    "model.compile(optimizer=adam, loss='mean_squared_error')\n",
    "\n",
    "# Perform k-fold cross-validation\n",
    "for train_index, test_index in kf.split(X_train_scaled):\n",
    "    X_train_cv, X_test_cv = X_train_scaled[train_index], X_train_scaled[test_index]\n",
    "    y_train_cv, y_test_cv = y_train[train_index], y_train[test_index]\n",
    "    \n",
    "    \n",
    "    # Evaluate the model on training data\n",
    "    train_predictions = model.predict(X_train_cv)\n",
    "    train_r2 = r2_score(y_train_cv, train_predictions)\n",
    "    train_r2_scores.append(train_r2)\n",
    "    \n",
    "    # Evaluate the model on test data\n",
    "    test_predictions = model.predict(X_test_cv)\n",
    "    test_r2 = r2_score(y_test_cv, test_predictions)\n",
    "    test_r2_scores.append(test_r2)\n",
    "\n",
    "# Calculate average R-squared scores\n",
    "avg_train_r2 = np.mean(train_r2_scores)\n",
    "avg_test_r2 = np.mean(test_r2_scores)\n",
    "\n",
    "print(\"Average R-squared (Train):\", avg_train_r2)\n",
    "print(\"Average R-squared (Test):\", avg_test_r2)"
   ]
  },
  {
   "cell_type": "code",
   "execution_count": 19,
   "id": "7c09ac67-d96e-4324-83fe-a486d5d0703f",
   "metadata": {
    "tags": []
   },
   "outputs": [
    {
     "name": "stderr",
     "output_type": "stream",
     "text": [
      "/Users/kd17/anaconda3/lib/python3.11/site-packages/keras/src/layers/core/dense.py:86: UserWarning: Do not pass an `input_shape`/`input_dim` argument to a layer. When using Sequential models, prefer using an `Input(shape)` object as the first layer in the model instead.\n",
      "  super().__init__(activity_regularizer=activity_regularizer, **kwargs)\n"
     ]
    },
    {
     "name": "stdout",
     "output_type": "stream",
     "text": [
      "\u001b[1m57/57\u001b[0m \u001b[32m━━━━━━━━━━━━━━━━━━━━\u001b[0m\u001b[37m\u001b[0m \u001b[1m0s\u001b[0m 661us/step\n",
      "\u001b[1m7/7\u001b[0m \u001b[32m━━━━━━━━━━━━━━━━━━━━\u001b[0m\u001b[37m\u001b[0m \u001b[1m0s\u001b[0m 542us/step\n"
     ]
    },
    {
     "name": "stderr",
     "output_type": "stream",
     "text": [
      "/Users/kd17/anaconda3/lib/python3.11/site-packages/keras/src/layers/core/dense.py:86: UserWarning: Do not pass an `input_shape`/`input_dim` argument to a layer. When using Sequential models, prefer using an `Input(shape)` object as the first layer in the model instead.\n",
      "  super().__init__(activity_regularizer=activity_regularizer, **kwargs)\n"
     ]
    },
    {
     "name": "stdout",
     "output_type": "stream",
     "text": [
      "\u001b[1m57/57\u001b[0m \u001b[32m━━━━━━━━━━━━━━━━━━━━\u001b[0m\u001b[37m\u001b[0m \u001b[1m0s\u001b[0m 622us/step\n",
      "\u001b[1m7/7\u001b[0m \u001b[32m━━━━━━━━━━━━━━━━━━━━\u001b[0m\u001b[37m\u001b[0m \u001b[1m0s\u001b[0m 544us/step\n"
     ]
    },
    {
     "name": "stderr",
     "output_type": "stream",
     "text": [
      "/Users/kd17/anaconda3/lib/python3.11/site-packages/keras/src/layers/core/dense.py:86: UserWarning: Do not pass an `input_shape`/`input_dim` argument to a layer. When using Sequential models, prefer using an `Input(shape)` object as the first layer in the model instead.\n",
      "  super().__init__(activity_regularizer=activity_regularizer, **kwargs)\n"
     ]
    },
    {
     "name": "stdout",
     "output_type": "stream",
     "text": [
      "\u001b[1m57/57\u001b[0m \u001b[32m━━━━━━━━━━━━━━━━━━━━\u001b[0m\u001b[37m\u001b[0m \u001b[1m0s\u001b[0m 600us/step\n",
      "\u001b[1m7/7\u001b[0m \u001b[32m━━━━━━━━━━━━━━━━━━━━\u001b[0m\u001b[37m\u001b[0m \u001b[1m0s\u001b[0m 450us/step\n"
     ]
    },
    {
     "name": "stderr",
     "output_type": "stream",
     "text": [
      "/Users/kd17/anaconda3/lib/python3.11/site-packages/keras/src/layers/core/dense.py:86: UserWarning: Do not pass an `input_shape`/`input_dim` argument to a layer. When using Sequential models, prefer using an `Input(shape)` object as the first layer in the model instead.\n",
      "  super().__init__(activity_regularizer=activity_regularizer, **kwargs)\n"
     ]
    },
    {
     "name": "stdout",
     "output_type": "stream",
     "text": [
      "\u001b[1m57/57\u001b[0m \u001b[32m━━━━━━━━━━━━━━━━━━━━\u001b[0m\u001b[37m\u001b[0m \u001b[1m0s\u001b[0m 609us/step\n",
      "\u001b[1m7/7\u001b[0m \u001b[32m━━━━━━━━━━━━━━━━━━━━\u001b[0m\u001b[37m\u001b[0m \u001b[1m0s\u001b[0m 531us/step\n"
     ]
    },
    {
     "name": "stderr",
     "output_type": "stream",
     "text": [
      "/Users/kd17/anaconda3/lib/python3.11/site-packages/keras/src/layers/core/dense.py:86: UserWarning: Do not pass an `input_shape`/`input_dim` argument to a layer. When using Sequential models, prefer using an `Input(shape)` object as the first layer in the model instead.\n",
      "  super().__init__(activity_regularizer=activity_regularizer, **kwargs)\n"
     ]
    },
    {
     "name": "stdout",
     "output_type": "stream",
     "text": [
      "\u001b[1m57/57\u001b[0m \u001b[32m━━━━━━━━━━━━━━━━━━━━\u001b[0m\u001b[37m\u001b[0m \u001b[1m0s\u001b[0m 573us/step\n",
      "\u001b[1m7/7\u001b[0m \u001b[32m━━━━━━━━━━━━━━━━━━━━\u001b[0m\u001b[37m\u001b[0m \u001b[1m0s\u001b[0m 438us/step\n"
     ]
    },
    {
     "name": "stderr",
     "output_type": "stream",
     "text": [
      "/Users/kd17/anaconda3/lib/python3.11/site-packages/keras/src/layers/core/dense.py:86: UserWarning: Do not pass an `input_shape`/`input_dim` argument to a layer. When using Sequential models, prefer using an `Input(shape)` object as the first layer in the model instead.\n",
      "  super().__init__(activity_regularizer=activity_regularizer, **kwargs)\n"
     ]
    },
    {
     "name": "stdout",
     "output_type": "stream",
     "text": [
      "\u001b[1m57/57\u001b[0m \u001b[32m━━━━━━━━━━━━━━━━━━━━\u001b[0m\u001b[37m\u001b[0m \u001b[1m0s\u001b[0m 594us/step\n",
      "\u001b[1m7/7\u001b[0m \u001b[32m━━━━━━━━━━━━━━━━━━━━\u001b[0m\u001b[37m\u001b[0m \u001b[1m0s\u001b[0m 534us/step\n"
     ]
    },
    {
     "name": "stderr",
     "output_type": "stream",
     "text": [
      "/Users/kd17/anaconda3/lib/python3.11/site-packages/keras/src/layers/core/dense.py:86: UserWarning: Do not pass an `input_shape`/`input_dim` argument to a layer. When using Sequential models, prefer using an `Input(shape)` object as the first layer in the model instead.\n",
      "  super().__init__(activity_regularizer=activity_regularizer, **kwargs)\n"
     ]
    },
    {
     "name": "stdout",
     "output_type": "stream",
     "text": [
      "\u001b[1m57/57\u001b[0m \u001b[32m━━━━━━━━━━━━━━━━━━━━\u001b[0m\u001b[37m\u001b[0m \u001b[1m0s\u001b[0m 587us/step\n",
      "\u001b[1m7/7\u001b[0m \u001b[32m━━━━━━━━━━━━━━━━━━━━\u001b[0m\u001b[37m\u001b[0m \u001b[1m0s\u001b[0m 588us/step\n"
     ]
    },
    {
     "name": "stderr",
     "output_type": "stream",
     "text": [
      "/Users/kd17/anaconda3/lib/python3.11/site-packages/keras/src/layers/core/dense.py:86: UserWarning: Do not pass an `input_shape`/`input_dim` argument to a layer. When using Sequential models, prefer using an `Input(shape)` object as the first layer in the model instead.\n",
      "  super().__init__(activity_regularizer=activity_regularizer, **kwargs)\n"
     ]
    },
    {
     "name": "stdout",
     "output_type": "stream",
     "text": [
      "\u001b[1m57/57\u001b[0m \u001b[32m━━━━━━━━━━━━━━━━━━━━\u001b[0m\u001b[37m\u001b[0m \u001b[1m0s\u001b[0m 628us/step\n",
      "\u001b[1m7/7\u001b[0m \u001b[32m━━━━━━━━━━━━━━━━━━━━\u001b[0m\u001b[37m\u001b[0m \u001b[1m0s\u001b[0m 562us/step\n"
     ]
    },
    {
     "name": "stderr",
     "output_type": "stream",
     "text": [
      "/Users/kd17/anaconda3/lib/python3.11/site-packages/keras/src/layers/core/dense.py:86: UserWarning: Do not pass an `input_shape`/`input_dim` argument to a layer. When using Sequential models, prefer using an `Input(shape)` object as the first layer in the model instead.\n",
      "  super().__init__(activity_regularizer=activity_regularizer, **kwargs)\n"
     ]
    },
    {
     "name": "stdout",
     "output_type": "stream",
     "text": [
      "\u001b[1m57/57\u001b[0m \u001b[32m━━━━━━━━━━━━━━━━━━━━\u001b[0m\u001b[37m\u001b[0m \u001b[1m0s\u001b[0m 595us/step\n",
      "\u001b[1m7/7\u001b[0m \u001b[32m━━━━━━━━━━━━━━━━━━━━\u001b[0m\u001b[37m\u001b[0m \u001b[1m0s\u001b[0m 500us/step\n"
     ]
    },
    {
     "name": "stderr",
     "output_type": "stream",
     "text": [
      "/Users/kd17/anaconda3/lib/python3.11/site-packages/keras/src/layers/core/dense.py:86: UserWarning: Do not pass an `input_shape`/`input_dim` argument to a layer. When using Sequential models, prefer using an `Input(shape)` object as the first layer in the model instead.\n",
      "  super().__init__(activity_regularizer=activity_regularizer, **kwargs)\n"
     ]
    },
    {
     "name": "stdout",
     "output_type": "stream",
     "text": [
      "\u001b[1m57/57\u001b[0m \u001b[32m━━━━━━━━━━━━━━━━━━━━\u001b[0m\u001b[37m\u001b[0m \u001b[1m0s\u001b[0m 584us/step\n",
      "\u001b[1m7/7\u001b[0m \u001b[32m━━━━━━━━━━━━━━━━━━━━\u001b[0m\u001b[37m\u001b[0m \u001b[1m0s\u001b[0m 487us/step\n",
      "Model 1 - Train R-squared: 0.8469928759803589, Test R-squared: 0.8443621602858393, Train MAE: 2.1749916985932236, Train MSE: 5.0766989976319135, Test MAE: 2.1973591907801864, Test MSE: 5.161303597781666\n",
      "Model 2 - Train R-squared: 0.8222760123088653, Test R-squared: 0.8297902172738143, Train MAE: 2.2502302695877767, Train MSE: 5.893619962463865, Test MAE: 2.217377599376112, Test MSE: 5.67768384413742\n",
      "Model 3 - Train R-squared: 0.8591227740724234, Test R-squared: 0.8388157626404102, Train MAE: 2.0584490078282465, Train MSE: 4.738166484836037, Test MAE: 2.0434443562815447, Test MSE: 4.675981158373182\n",
      "Model 4 - Train R-squared: 0.8228867075047647, Test R-squared: 0.8144050634177395, Train MAE: 2.1666265893275423, Train MSE: 5.860009417757145, Test MAE: 2.191311389688322, Test MSE: 6.321287896842886\n",
      "Model 5 - Train R-squared: 0.8755055207812587, Test R-squared: 0.8894434985529827, Train MAE: 1.8646036166846836, Train MSE: 4.07956905019323, Test MAE: 1.8253114203083303, Test MSE: 4.07568793886833\n",
      "Model 6 - Train R-squared: 0.7447222042806408, Test R-squared: 0.7283902917754148, Train MAE: 2.620136382931004, Train MSE: 8.50364704108822, Test MAE: 2.6779366118795562, Test MSE: 8.692102529913956\n",
      "Model 7 - Train R-squared: 0.8319688885012, Test R-squared: 0.826251142563086, Train MAE: 2.237289368733152, Train MSE: 5.5944503787457425, Test MAE: 2.247082374657171, Test MSE: 5.589468874766808\n",
      "Model 8 - Train R-squared: 0.8282844967108774, Test R-squared: 0.8338593029327226, Train MAE: 2.137038685187793, Train MSE: 5.728520489081208, Test MAE: 2.0514313202933696, Test MSE: 5.234942929139945\n",
      "Model 9 - Train R-squared: 0.6972665419635231, Test R-squared: 0.6900872120821372, Train MAE: 2.7520878196892693, Train MSE: 9.963099432488002, Test MAE: 2.847536738498061, Test MSE: 11.044637013579237\n",
      "Model 10 - Train R-squared: 0.9205045621480883, Test R-squared: 0.9069890614997997, Train MAE: 1.4673994963476094, Train MSE: 2.6338992987694483, Test MAE: 1.5476296921234889, Test MSE: 3.1296897766884815\n"
     ]
    }
   ],
   "source": [
    "from keras.models import Sequential\n",
    "from keras.layers import Dense, Dropout\n",
    "from keras.optimizers import Adam\n",
    "from sklearn.metrics import mean_absolute_error, mean_squared_error, r2_score\n",
    "\n",
    "# Initialize lists to store metrics for selected models\n",
    "selected_train_r2 = []\n",
    "selected_test_r2 = []\n",
    "selected_train_mae = []\n",
    "selected_train_mse = []\n",
    "selected_test_mae = []\n",
    "selected_test_mse = []\n",
    "\n",
    "# Perform k-fold cross-validation\n",
    "for train_index, test_index in kf.split(X_train_scaled):\n",
    "    X_train_cv, X_test_cv = X_train_scaled[train_index], X_train_scaled[test_index]\n",
    "    y_train_cv, y_test_cv = y_train[train_index], y_train[test_index]\n",
    "    \n",
    "    # Define a new model for each fold\n",
    "    model_fold = Sequential([\n",
    "        Dense(32, activation='relu', input_shape=(X_train_cv.shape[1],)),\n",
    "        Dropout(0.5),  # Dropout layer with a dropout rate of 0.5\n",
    "        Dense(16, activation='relu'),\n",
    "        Dropout(0.5),  # Dropout layer with a dropout rate of 0.5\n",
    "        Dense(1)  # Output layer\n",
    "    ])\n",
    "    \n",
    "    # Compile the model with Adam optimizer and mean squared error loss\n",
    "    model_fold.compile(optimizer=Adam(learning_rate=0.001), loss='mean_squared_error')\n",
    "    \n",
    "    # Train the model\n",
    "    model_fold.fit(X_train_cv, y_train_cv, epochs=50, batch_size=32, verbose=0)\n",
    "    \n",
    "    # Evaluate the model on training data\n",
    "    train_predictions = model_fold.predict(X_train_cv)\n",
    "    train_r2 = r2_score(y_train_cv, train_predictions)\n",
    "    train_mae = mean_absolute_error(y_train_cv, train_predictions)\n",
    "    train_mse = mean_squared_error(y_train_cv, train_predictions)\n",
    "    \n",
    "    # Evaluate the model on test data\n",
    "    test_predictions = model_fold.predict(X_test_cv)\n",
    "    test_r2 = r2_score(y_test_cv, test_predictions)\n",
    "    test_mae = mean_absolute_error(y_test_cv, test_predictions)\n",
    "    test_mse = mean_squared_error(y_test_cv, test_predictions)\n",
    "    \n",
    "    # Append metrics to the lists\n",
    "    selected_train_r2.append(train_r2)\n",
    "    selected_test_r2.append(test_r2)\n",
    "    selected_train_mae.append(train_mae)\n",
    "    selected_train_mse.append(train_mse)\n",
    "    selected_test_mae.append(test_mae)\n",
    "    selected_test_mse.append(test_mse)\n",
    "\n",
    "# Print metrics for selected models\n",
    "for idx, (train_r2, test_r2, train_mae, train_mse, test_mae, test_mse) in enumerate(zip(selected_train_r2, selected_test_r2, selected_train_mae, selected_train_mse, selected_test_mae, selected_test_mse), start=1):\n",
    "    print(f\"Model {idx} - Train R-squared: {train_r2}, Test R-squared: {test_r2}, Train MAE: {train_mae}, Train MSE: {train_mse}, Test MAE: {test_mae}, Test MSE: {test_mse}\")\n"
   ]
  },
  {
   "cell_type": "code",
   "execution_count": 20,
   "id": "e9f04076-a686-4ece-a270-a506986f0bec",
   "metadata": {
    "tags": []
   },
   "outputs": [
    {
     "name": "stdout",
     "output_type": "stream",
     "text": [
      "Best Model - Train R-squared: 0.8469928759803589, Test R-squared: 0.8443621602858393, Train MAE: 2.1749916985932236, Train MSE: 5.0766989976319135, Test MAE: 2.1973591907801864, Test MSE: 5.161303597781666\n"
     ]
    }
   ],
   "source": [
    "# Filter models where both Train R-squared and Test R-squared are less than 0.96\n",
    "filtered_indices = [i for i, (train_r2, test_r2) in enumerate(zip(selected_train_r2, selected_test_r2)) if train_r2 < 0.96 and test_r2 < 0.96]\n",
    "\n",
    "# Calculate the absolute difference between train R-squared and test R-squared values for filtered models\n",
    "abs_diff_r2_filtered = np.abs(np.array(selected_train_r2)[filtered_indices] - np.array(selected_test_r2)[filtered_indices])\n",
    "\n",
    "# Find the index of the model with the smallest absolute difference among filtered models\n",
    "best_model_index = filtered_indices[np.argmin(abs_diff_r2_filtered)]\n",
    "\n",
    "# Retrieve the metrics for the best model\n",
    "best_train_r2 = selected_train_r2[best_model_index]\n",
    "best_test_r2 = selected_test_r2[best_model_index]\n",
    "best_train_mae = selected_train_mae[best_model_index]\n",
    "best_train_mse = selected_train_mse[best_model_index]\n",
    "best_test_mae = selected_test_mae[best_model_index]\n",
    "best_test_mse = selected_test_mse[best_model_index]\n",
    "\n",
    "# Print metrics for the best model\n",
    "print(f\"Best Model - Train R-squared: {best_train_r2}, Test R-squared: {best_test_r2}, Train MAE: {best_train_mae}, Train MSE: {best_train_mse}, Test MAE: {best_test_mae}, Test MSE: {best_test_mse}\")\n"
   ]
  },
  {
   "cell_type": "code",
   "execution_count": 21,
   "id": "a00a038e-493b-496a-a9b0-a6f34ddc1d55",
   "metadata": {
    "tags": []
   },
   "outputs": [
    {
     "name": "stderr",
     "output_type": "stream",
     "text": [
      "/Users/kd17/anaconda3/lib/python3.11/site-packages/keras/src/layers/core/dense.py:86: UserWarning: Do not pass an `input_shape`/`input_dim` argument to a layer. When using Sequential models, prefer using an `Input(shape)` object as the first layer in the model instead.\n",
      "  super().__init__(activity_regularizer=activity_regularizer, **kwargs)\n"
     ]
    },
    {
     "name": "stdout",
     "output_type": "stream",
     "text": [
      "\u001b[1m78/78\u001b[0m \u001b[32m━━━━━━━━━━━━━━━━━━━━\u001b[0m\u001b[37m\u001b[0m \u001b[1m0s\u001b[0m 539us/step\n"
     ]
    },
    {
     "data": {
      "text/html": [
       "<div>\n",
       "<style scoped>\n",
       "    .dataframe tbody tr th:only-of-type {\n",
       "        vertical-align: middle;\n",
       "    }\n",
       "\n",
       "    .dataframe tbody tr th {\n",
       "        vertical-align: top;\n",
       "    }\n",
       "\n",
       "    .dataframe thead th {\n",
       "        text-align: right;\n",
       "    }\n",
       "</style>\n",
       "<table border=\"1\" class=\"dataframe\">\n",
       "  <thead>\n",
       "    <tr style=\"text-align: right;\">\n",
       "      <th></th>\n",
       "      <th>Actual</th>\n",
       "      <th>Predicted</th>\n",
       "    </tr>\n",
       "    <tr>\n",
       "      <th>date</th>\n",
       "      <th></th>\n",
       "      <th></th>\n",
       "    </tr>\n",
       "  </thead>\n",
       "  <tbody>\n",
       "    <tr>\n",
       "      <th>2014-05-28</th>\n",
       "      <td>26.235001</td>\n",
       "      <td>20.604481</td>\n",
       "    </tr>\n",
       "    <tr>\n",
       "      <th>2014-05-29</th>\n",
       "      <td>26.340000</td>\n",
       "      <td>20.811102</td>\n",
       "    </tr>\n",
       "    <tr>\n",
       "      <th>2014-05-30</th>\n",
       "      <td>26.260000</td>\n",
       "      <td>20.816929</td>\n",
       "    </tr>\n",
       "    <tr>\n",
       "      <th>2014-06-02</th>\n",
       "      <td>26.549999</td>\n",
       "      <td>20.819036</td>\n",
       "    </tr>\n",
       "    <tr>\n",
       "      <th>2014-06-03</th>\n",
       "      <td>26.299999</td>\n",
       "      <td>20.549768</td>\n",
       "    </tr>\n",
       "    <tr>\n",
       "      <th>...</th>\n",
       "      <td>...</td>\n",
       "      <td>...</td>\n",
       "    </tr>\n",
       "    <tr>\n",
       "      <th>2024-03-18</th>\n",
       "      <td>14.725000</td>\n",
       "      <td>12.954198</td>\n",
       "    </tr>\n",
       "    <tr>\n",
       "      <th>2024-03-19</th>\n",
       "      <td>14.920000</td>\n",
       "      <td>13.054773</td>\n",
       "    </tr>\n",
       "    <tr>\n",
       "      <th>2024-03-20</th>\n",
       "      <td>15.050000</td>\n",
       "      <td>13.159608</td>\n",
       "    </tr>\n",
       "    <tr>\n",
       "      <th>2024-03-21</th>\n",
       "      <td>14.850000</td>\n",
       "      <td>13.117736</td>\n",
       "    </tr>\n",
       "    <tr>\n",
       "      <th>2024-03-22</th>\n",
       "      <td>14.830000</td>\n",
       "      <td>13.107313</td>\n",
       "    </tr>\n",
       "  </tbody>\n",
       "</table>\n",
       "<p>2473 rows × 2 columns</p>\n",
       "</div>"
      ],
      "text/plain": [
       "               Actual  Predicted\n",
       "date                            \n",
       "2014-05-28  26.235001  20.604481\n",
       "2014-05-29  26.340000  20.811102\n",
       "2014-05-30  26.260000  20.816929\n",
       "2014-06-02  26.549999  20.819036\n",
       "2014-06-03  26.299999  20.549768\n",
       "...               ...        ...\n",
       "2024-03-18  14.725000  12.954198\n",
       "2024-03-19  14.920000  13.054773\n",
       "2024-03-20  15.050000  13.159608\n",
       "2024-03-21  14.850000  13.117736\n",
       "2024-03-22  14.830000  13.107313\n",
       "\n",
       "[2473 rows x 2 columns]"
      ]
     },
     "execution_count": 21,
     "metadata": {},
     "output_type": "execute_result"
    }
   ],
   "source": [
    "# Scale data\n",
    "scaler = StandardScaler()\n",
    "X_scaled = scaler.fit_transform(X)\n",
    "\n",
    "# Define the model architecture\n",
    "model = Sequential([\n",
    "    Dense(units=16, activation='relu', kernel_regularizer=l2(0.0005), input_shape=(X_scaled.shape[1],)),\n",
    "    Dropout(0.6),\n",
    "    Dense(units=8, activation='relu', kernel_regularizer=l2(0.0005)),\n",
    "    Dropout(0.6),\n",
    "    Dense(units=1)\n",
    "])\n",
    "\n",
    "# Compile the model\n",
    "model.compile(optimizer='adam', loss='mean_squared_error')\n",
    "\n",
    "# Train the model on the entire dataset\n",
    "model.fit(X_scaled, y, epochs=50, batch_size=32, verbose=0)\n",
    "\n",
    "# Predict sequentially on each data point\n",
    "all_predictions = model.predict(X_scaled)\n",
    "\n",
    "# Ensure the number of predictions matches the original dataset\n",
    "assert len(all_predictions) == len(X_scaled)\n",
    "\n",
    "# Create a DataFrame to store the actual and predicted values\n",
    "predictions_df = pd.DataFrame({'Actual': y, 'Predicted': all_predictions.flatten()}, index=X.index)\n",
    "\n",
    "# Ensure index uniqueness in both the original dataset and predictions DataFrame\n",
    "data_clean_unique_index = data_clean.index.drop_duplicates()\n",
    "predictions_df = predictions_df.loc[data_clean_unique_index]\n",
    "\n",
    "# Display the DataFrame\n",
    "predictions_df\n"
   ]
  },
  {
   "cell_type": "code",
   "execution_count": 22,
   "id": "b1721219-9930-425d-b68d-e78febbd2dd2",
   "metadata": {},
   "outputs": [],
   "source": [
    "predictions_df.to_csv('../predicted_data/VWAGY_predicted_data.csv', index=True)"
   ]
  },
  {
   "cell_type": "code",
   "execution_count": 23,
   "id": "4cbd3955-180d-4825-989d-09a2b7f5f553",
   "metadata": {
    "tags": []
   },
   "outputs": [
    {
     "name": "stdout",
     "output_type": "stream",
     "text": [
      "No NaN values found in the predictions DataFrame.\n",
      "               Actual  Predicted\n",
      "date                            \n",
      "2014-05-28  26.235001  20.604481\n",
      "2014-05-29  26.340000  20.811102\n",
      "2014-05-30  26.260000  20.816929\n",
      "2014-06-02  26.549999  20.819036\n",
      "2014-06-03  26.299999  20.549768\n",
      "...               ...        ...\n",
      "2024-03-18  14.725000  12.954198\n",
      "2024-03-19  14.920000  13.054773\n",
      "2024-03-20  15.050000  13.159608\n",
      "2024-03-21  14.850000  13.117736\n",
      "2024-03-22  14.830000  13.107313\n",
      "\n",
      "[2473 rows x 2 columns]\n"
     ]
    }
   ],
   "source": [
    "# Check for NaN values in the predictions DataFrame\n",
    "nan_values = predictions_df.isnull().sum().sum()\n",
    "\n",
    "if nan_values == 0:\n",
    "    print(\"No NaN values found in the predictions DataFrame.\")\n",
    "    print(predictions_df)\n",
    "else:\n",
    "    print(f\"Found {nan_values} NaN values in the predictions DataFrame. Please check your data or model.\")\n"
   ]
  },
  {
   "cell_type": "code",
   "execution_count": 24,
   "id": "b19a5838-b5e9-4255-9c4b-d642c5db643e",
   "metadata": {
    "tags": []
   },
   "outputs": [
    {
     "data": {
      "text/html": [
       "<div>\n",
       "<style scoped>\n",
       "    .dataframe tbody tr th:only-of-type {\n",
       "        vertical-align: middle;\n",
       "    }\n",
       "\n",
       "    .dataframe tbody tr th {\n",
       "        vertical-align: top;\n",
       "    }\n",
       "\n",
       "    .dataframe thead th {\n",
       "        text-align: right;\n",
       "    }\n",
       "</style>\n",
       "<table border=\"1\" class=\"dataframe\">\n",
       "  <thead>\n",
       "    <tr style=\"text-align: right;\">\n",
       "      <th></th>\n",
       "      <th>Actual</th>\n",
       "      <th>Predicted</th>\n",
       "      <th>Percentage Difference (%)</th>\n",
       "    </tr>\n",
       "    <tr>\n",
       "      <th>date</th>\n",
       "      <th></th>\n",
       "      <th></th>\n",
       "      <th></th>\n",
       "    </tr>\n",
       "  </thead>\n",
       "  <tbody>\n",
       "    <tr>\n",
       "      <th>2014-05-28</th>\n",
       "      <td>26.235001</td>\n",
       "      <td>20.604481</td>\n",
       "      <td>-21.461864</td>\n",
       "    </tr>\n",
       "    <tr>\n",
       "      <th>2014-05-29</th>\n",
       "      <td>26.340000</td>\n",
       "      <td>20.811102</td>\n",
       "      <td>-20.990501</td>\n",
       "    </tr>\n",
       "    <tr>\n",
       "      <th>2014-05-30</th>\n",
       "      <td>26.260000</td>\n",
       "      <td>20.816929</td>\n",
       "      <td>-20.727613</td>\n",
       "    </tr>\n",
       "    <tr>\n",
       "      <th>2014-06-02</th>\n",
       "      <td>26.549999</td>\n",
       "      <td>20.819036</td>\n",
       "      <td>-21.585547</td>\n",
       "    </tr>\n",
       "    <tr>\n",
       "      <th>2014-06-03</th>\n",
       "      <td>26.299999</td>\n",
       "      <td>20.549768</td>\n",
       "      <td>-21.863995</td>\n",
       "    </tr>\n",
       "    <tr>\n",
       "      <th>...</th>\n",
       "      <td>...</td>\n",
       "      <td>...</td>\n",
       "      <td>...</td>\n",
       "    </tr>\n",
       "    <tr>\n",
       "      <th>2024-03-18</th>\n",
       "      <td>14.725000</td>\n",
       "      <td>12.954198</td>\n",
       "      <td>-12.025821</td>\n",
       "    </tr>\n",
       "    <tr>\n",
       "      <th>2024-03-19</th>\n",
       "      <td>14.920000</td>\n",
       "      <td>13.054773</td>\n",
       "      <td>-12.501519</td>\n",
       "    </tr>\n",
       "    <tr>\n",
       "      <th>2024-03-20</th>\n",
       "      <td>15.050000</td>\n",
       "      <td>13.159608</td>\n",
       "      <td>-12.560745</td>\n",
       "    </tr>\n",
       "    <tr>\n",
       "      <th>2024-03-21</th>\n",
       "      <td>14.850000</td>\n",
       "      <td>13.117736</td>\n",
       "      <td>-11.665078</td>\n",
       "    </tr>\n",
       "    <tr>\n",
       "      <th>2024-03-22</th>\n",
       "      <td>14.830000</td>\n",
       "      <td>13.107313</td>\n",
       "      <td>-11.616230</td>\n",
       "    </tr>\n",
       "  </tbody>\n",
       "</table>\n",
       "<p>2473 rows × 3 columns</p>\n",
       "</div>"
      ],
      "text/plain": [
       "               Actual  Predicted  Percentage Difference (%)\n",
       "date                                                       \n",
       "2014-05-28  26.235001  20.604481                 -21.461864\n",
       "2014-05-29  26.340000  20.811102                 -20.990501\n",
       "2014-05-30  26.260000  20.816929                 -20.727613\n",
       "2014-06-02  26.549999  20.819036                 -21.585547\n",
       "2014-06-03  26.299999  20.549768                 -21.863995\n",
       "...               ...        ...                        ...\n",
       "2024-03-18  14.725000  12.954198                 -12.025821\n",
       "2024-03-19  14.920000  13.054773                 -12.501519\n",
       "2024-03-20  15.050000  13.159608                 -12.560745\n",
       "2024-03-21  14.850000  13.117736                 -11.665078\n",
       "2024-03-22  14.830000  13.107313                 -11.616230\n",
       "\n",
       "[2473 rows x 3 columns]"
      ]
     },
     "execution_count": 24,
     "metadata": {},
     "output_type": "execute_result"
    }
   ],
   "source": [
    "# Calculate the percentage difference between actual and predicted values\n",
    "predictions_df['Percentage Difference (%)'] = ((predictions_df['Predicted'] - predictions_df['Actual']) / predictions_df['Actual']) * 100\n",
    "\n",
    "# Display the DataFrame with percentage difference\n",
    "predictions_df\n"
   ]
  },
  {
   "cell_type": "code",
   "execution_count": 25,
   "id": "df5204b9-4740-4f1f-9898-55666f2d377e",
   "metadata": {
    "tags": []
   },
   "outputs": [
    {
     "name": "stdout",
     "output_type": "stream",
     "text": [
      "Average Percentage Difference (%): 18.57050534245352\n"
     ]
    }
   ],
   "source": [
    "# Calculate the absolute percentage difference for each data point\n",
    "predictions_df['Abs_Percentage_Diff'] = abs((predictions_df['Actual'] - predictions_df['Predicted']) / predictions_df['Actual']) * 100\n",
    "\n",
    "# Calculate the average percentage difference\n",
    "avg_percentage_diff = predictions_df['Abs_Percentage_Diff'].mean()\n",
    "\n",
    "print(\"Average Percentage Difference (%):\", avg_percentage_diff)\n"
   ]
  },
  {
   "cell_type": "code",
   "execution_count": null,
   "id": "5264af51-a60c-4b87-8b6c-a4efa8cc0b7d",
   "metadata": {},
   "outputs": [],
   "source": []
  }
 ],
 "metadata": {
  "kernelspec": {
   "display_name": "Python 3 (ipykernel)",
   "language": "python",
   "name": "python3"
  },
  "language_info": {
   "codemirror_mode": {
    "name": "ipython",
    "version": 3
   },
   "file_extension": ".py",
   "mimetype": "text/x-python",
   "name": "python",
   "nbconvert_exporter": "python",
   "pygments_lexer": "ipython3",
   "version": "3.11.5"
  }
 },
 "nbformat": 4,
 "nbformat_minor": 5
}
